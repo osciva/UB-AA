{
 "cells": [
  {
   "cell_type": "markdown",
   "metadata": {},
   "source": [
    "<div style=\"padding:30px; color: white; background-color: #0071CD\">\n",
    "<center>\n",
    "<img src=\"img/logoub.jpeg\"></img>\n",
    "<center>\n",
    "<h1>Algorísmica Avançada 2022</h1>\n",
    "<h2>Laboratori 5 - Enumeratius</h2>\n",
    "</center>\n",
    "</div>"
   ]
  },
  {
   "cell_type": "code",
   "execution_count": 1,
   "metadata": {},
   "outputs": [
    {
     "data": {
      "text/html": [
       "<style>.container { width:100% !important; }</style>"
      ],
      "text/plain": [
       "<IPython.core.display.HTML object>"
      ]
     },
     "metadata": {},
     "output_type": "display_data"
    }
   ],
   "source": [
    "from IPython.display import display, HTML\n",
    "display(HTML(\"<style>.container { width:100% !important; }</style>\"))"
   ]
  },
  {
   "cell_type": "markdown",
   "metadata": {},
   "source": [
    "<div class=\"alert alert-info\">\n",
    "<h2>Avís general per a les Pràctiques de Laboratori</h2>\n",
    "\n",
    "És molt important <b>comentar tot el vostre codi</b>. Comentar el codi no només facilita a altres persones que el llegeixin la compressió del que esteu fent, sinó també a vosaltres mateixos durant el procés de disseny i implementació. D'aquesta forma podreu entendre el vostre propi codi encara que faci molt temps que no el consulteu. A més, a l'hora de ser corregits, un codi comentat s'entén molt millor, la qual cosa ajuda a traslladar al professor les idees que teníeu a l'intentar implementar-lo i encara més en el cas que no ho hagueu pogut acabar-ho amb èxit. No cal comentar cada línia, però si el que fa cada part.\n",
    "\n",
    "En segon lloc, és molt important <b>respectar les capçaleres de les funcions i estructura de la funció ```return```</b> que s'indiquin a l'enunciat. Tot i que llegim i corregim els vostres codis en detall, fem servir correctors automàtics per guiar i agilitzar el procés i saber quines solucións funcionen i quines no ja d'entrada. \n",
    "\n",
    "Axí doncs, si es demana que la funció tingui la següent estructura: \n",
    "\n",
    "```python\n",
    "def exercici1(param1, param2):\n",
    "    # implementació de la solució\n",
    "    return resultat \n",
    "```\n",
    "\n",
    "És important que en el notebook existeixi aquesta funció i que no canvieu el nom dels paràmetres ni el tipus de dada retornada.\n",
    "    \n",
    "</div>\n",
    "\n",
    "\n"
   ]
  },
  {
   "cell_type": "markdown",
   "metadata": {},
   "source": [
    "<div class=\"alert alert-success\">\n",
    "    <h1>Problema: Edificis</h1>\n",
    "    <p>\n",
    "        Volem solucionar el puzzle dels edificis. Donada una graella com la que tenim a continuació (esquerra), volem trobar la solució al puzzle (dreta):\n",
    "        <center><img src=\"img/sky-intro.png\" width='25%'></center>\n",
    "        Podem pensar que cada una de les caselles és un solar on hi podem posar un edifici de X plantes. En aquest cas un edifici de 1,2,3 o 4 plantes ja que el tauler és de 4x4.<br>\n",
    "        Els números que trobem a fora de la graella ens indiquen quants edificis són visibles des d'aquesta posició. Un edifici d'alçada 4 tapa qualsevol edifici que hi ha al darrere com podeu veure en la imatge següent:\n",
    "        <center><img src=\"img/sky-rule-3-1.png\" width='25%'></center>\n",
    "        A més, en cada fila i columna de la graella només pot haver-hi un sol edifici de cada alçada, és a dir, no es poden repetir.\n",
    "        <center><img src=\"img/skyscrapers.png\" width='25%'></center>\n",
    "        L'objectiu és doncs, donada una graella com la inicial, trobar la configuració d'edificis que satisfà les condicions. Implementeu un algorisme usant backtracking que <b>trobi una solució utilitzant el mínim nombre de crides recursives i minimitzant el temps total d'execució.</b>. Per fer-ho haureu de tenir en comptes diferents factors com ara:\n",
    "        <ol>\n",
    "            <li> Quin número començareu provant?\n",
    "            <li> Quina casella serà la primera que omplireu?\n",
    "        </ol>\n",
    "    </p>\n",
    "    \n",
    "</div>"
   ]
  },
  {
   "cell_type": "markdown",
   "metadata": {},
   "source": [
    "La funció **format_sky** us ajudarà a visualitzar el tauler del problema."
   ]
  },
  {
   "cell_type": "code",
   "execution_count": 2,
   "metadata": {
    "tags": []
   },
   "outputs": [],
   "source": [
    "import numpy as np\n",
    "from IPython.display import clear_output\n",
    "import time\n",
    "\n",
    "def format_sky(board, top, bottom, left, right):\n",
    "    \"\"\"\n",
    "    Funció auxiliar per mostrar la matriu del Problema 1 en forma de graella.\n",
    "    \"\"\"\n",
    "    _str = \"\"\n",
    "    \n",
    "    # Files\n",
    "    for v in top:\n",
    "        _str+=\"   \"+str(v)\n",
    "    _str = \"  \" + _str + \"\\n\"\n",
    "\n",
    "    for idx, i in enumerate(board):\n",
    "        _str+= \"   +\"+ (\"-\"*((board.shape[1]*4)-1)) +\"+\\n\"\n",
    "        _str+= f\" {left[idx]} | \"\n",
    "        \n",
    "        # Columnes\n",
    "        for j in i:   \n",
    "            if j!=0:\n",
    "                _str+= str(j)+\" | \"\n",
    "            else:\n",
    "                 _str+= \"  | \"\n",
    "            \n",
    "        _str+= f\"{right[idx]} \\n\"\n",
    "    _str+= \"   +\"+ (\"-\"*((board.shape[1]*4)-1))+\"+\\n\"\n",
    "    \n",
    "    _bot = \"\"\n",
    "    for v in bottom:\n",
    "        _bot+=\"   \"+str(v)\n",
    "    _str += \"  \" + _bot\n",
    "    \n",
    "    return _str.replace('0',' ')"
   ]
  },
  {
   "cell_type": "markdown",
   "metadata": {},
   "source": [
    "Veieu un exemple de com utilitzar aquesta funció:\n"
   ]
  },
  {
   "cell_type": "code",
   "execution_count": 3,
   "metadata": {},
   "outputs": [
    {
     "name": "stdout",
     "output_type": "stream",
     "text": [
      "Tauler:\n",
      "              \n",
      "   +-----------+\n",
      "   |   |   |   |   \n",
      "   +-----------+\n",
      "   |   |   |   |   \n",
      "   +-----------+\n",
      "   |   |   |   | 1 \n",
      "   +-----------+\n",
      "     3        \n"
     ]
    }
   ],
   "source": [
    "# Amb aquesta funció es mostren totes les caselles del tauler\n",
    "# Les caselles que contenen un zero es mostren buides\n",
    "\n",
    "# Creem unes restriccions i un tauler \n",
    "top, bottom, left, right = [0,0,0], [3,0,0], [0,0,0], [0,0,1]\n",
    "grid = np.zeros((len(left), len(top)), dtype='int')\n",
    "\n",
    "print('Tauler:')\n",
    "print(format_sky(grid, top, bottom, left, right))"
   ]
  },
  {
   "cell_type": "markdown",
   "metadata": {},
   "source": [
    "La funció **delayed_print** us permet bloquejar temporalment un 'print' per si voleu veure les accions que fa a cada pas el vostre algorisme.<br>\n",
    "No heu d'utilitzar-la a l'entrega ja que el programa tardarà molt més del necessari, utilitzeu-la només mentre programeu la solució."
   ]
  },
  {
   "cell_type": "code",
   "execution_count": 4,
   "metadata": {},
   "outputs": [],
   "source": [
    "def delayed_print(grid, top, bottom, left, right, sleep_time=0.02):\n",
    "    \"\"\"\n",
    "    Funció auxiliar que bloqueja temporalment la funció 'print' per veure l'evolució de l'algorisme.\n",
    "    \"\"\"\n",
    "    print(format_sky(grid, top, bottom, left, right))\n",
    "    clear_output(wait=True)\n",
    "    time.sleep(sleep_time)"
   ]
  },
  {
   "cell_type": "code",
   "execution_count": 5,
   "metadata": {},
   "outputs": [
    {
     "name": "stdout",
     "output_type": "stream",
     "text": [
      "              \n",
      "   +-----------+\n",
      "   | 3 | 3 | 2 |   \n",
      "   +-----------+\n",
      "   | 2 | 2 | 2 |   \n",
      "   +-----------+\n",
      "   | 1 | 2 | 2 | 1 \n",
      "   +-----------+\n",
      "     3        \n"
     ]
    }
   ],
   "source": [
    "top, bottom, left, right = [0,0,0], [3,0,0], [0,0,0], [0,0,1]\n",
    "grid = np.zeros((len(left), len(top)), dtype='int')\n",
    "\n",
    "for i in range(0, len(left)):\n",
    "    for j in range(0, len(top)):\n",
    "        grid[i][j] = np.random.randint(1,4)\n",
    "        delayed_print(grid, top, bottom, left, right, sleep_time=0.2)"
   ]
  },
  {
   "cell_type": "code",
   "execution_count": 6,
   "metadata": {
    "tags": []
   },
   "outputs": [],
   "source": [
    "###\n",
    "# LES VOSTRES FUNCIONS EXTRES AQUÍ\n",
    "###\n",
    "\n",
    "#funció auxiliar encarregada de fer el backtracking--> es cridarà a skyscrapper_backtracking()\n",
    "def solve_puzzle(grid, top, bottom, left, right, x, y):\n",
    "        # Si ja hem recorregut tota la matriu, retornem True per indicar que hem trobat una solució\n",
    "        if x == grid.shape[0] and y == 0:\n",
    "            return True\n",
    "\n",
    "        # Si ja hem recorregut tota la fila actual, passam a la següent\n",
    "        if y == grid.shape[1]:\n",
    "            x += 1\n",
    "            y = 0\n",
    "\n",
    "        # Provem amb totes les alçades d'edificis possibles\n",
    "        for height in range(1, 5):\n",
    "            # Comprovem si és possible posar un edifici d'aquesta alçada a la posició actual\n",
    "            if satisfies(grid, x, y, height, top, bottom, left, right):\n",
    "                # Si és possible, posem l'edifici a la posició actual\n",
    "                grid[x, y] = height\n",
    "                # Anem a la següent casella\n",
    "                if solve_puzzle(grid, top, bottom, left, right, x, y + 1):\n",
    "                    # Si arribem a una solució, retornem True\n",
    "                    return True\n",
    "                # Si no és possible seguir amb aquesta opció, eliminem l'edifici que hem posat\n",
    "                grid[x, y] = 0\n",
    "        # Si no hem trobat cap solució, retornem False\n",
    "        return False\n",
    "\n",
    "\n",
    "\n",
    "def satisfies(grid, x, y, num, top, bottom, left, right): #check if valid move\n",
    "    \"\"\"\n",
    "    Donat un tauler, un punt amb coordenades (x,y) i un nombre 'num', comprova si és possible assignar-lo a la posició (x,y) \n",
    "    donades les restriccions del problema.\n",
    "    \n",
    "    Params\n",
    "    ------\n",
    "    :grid: Una matriu de numpy\n",
    "    :x,y: Un punt de la matriu on volem posar el nombre 'num'\n",
    "    :num: Un nombre enter\n",
    "    :top, bottom, left, right: Els nombres de fora del tauler de la part superior, inferior, esquerra i dreta, respectivament.\n",
    "    \n",
    "    Returns\n",
    "    -------\n",
    "    :b: Un boleà True/False depenent de si el nombre 'num' pot ser col·locat a la casella (x,y) o no.\n",
    "    \"\"\"\n",
    "    \n",
    "    # EL TEU CODI AQUÍ\n",
    "    # Comprovem que l'edifici no excedeixi els límits del tauler\n",
    "    if num in grid[x,:] or num in grid[:,y]:\n",
    "        return False\n",
    "    if x+num > grid.shape[0] or y+num > grid.shape[1]:\n",
    "        return False\n",
    "\n",
    "    # Comprovem que el nombre d'edificis visibles des de la part superior sigui el correcte\n",
    "    if top != -1:\n",
    "        num_buildings = 0\n",
    "        for i in range(num):\n",
    "            if grid[x+i,y] > 0:\n",
    "                num_buildings += 1\n",
    "        if num_buildings != top:\n",
    "            return False\n",
    "\n",
    "    # Comprovem que el nombre d'edificis visibles des de la part inferior sigui el correcte\n",
    "    if bottom != -1:\n",
    "        num_buildings = 0\n",
    "        for i in range(num):\n",
    "            if grid[x-i,y] > 0:\n",
    "                num_buildings += 1\n",
    "        if num_buildings != bottom:\n",
    "            return False\n",
    "\n",
    "    # Comprovem que el nombre d'edificis visibles des de la part esquerra sigui el correcte\n",
    "    if left != -1:\n",
    "        num_buildings = 0\n",
    "        for i in range(num):\n",
    "            if grid[x,y-i] > 0:\n",
    "                num_buildings += 1\n",
    "        if num_buildings != left:\n",
    "            return False\n",
    "\n",
    "    # Comprovem que el nombre d'edificis visibles des de la part dreta sigui el correcte\n",
    "    if right != -1:\n",
    "        num_buildings = 0\n",
    "        for i in range(num):\n",
    "            if grid[x,y+i] > 0:\n",
    "                num_buildings += 1\n",
    "        if num_buildings != right:\n",
    "            return False\n",
    "\n",
    "    # Si s'han superat totes les comprovacions, retornem True\n",
    "    return True\n",
    "\n",
    "    \n",
    "    \n",
    "\n",
    "def skyscrapper_backtracking(grid, top, bottom, left, right):  #funció backtrack()\n",
    "    \"\"\"\n",
    "    Funció que implementa l'algorisme de backtracking\n",
    "    \n",
    "    Params\n",
    "    ------\n",
    "    :grid: Una matriu de tipus numpy\n",
    "    :top, bottom, left, right: Els nombres de fora del tauler de la part superior, inferior, esquerra i dreta, respectivament.\n",
    "    \n",
    "    Returns\n",
    "    -------\n",
    "    :grid: La matriu plena amb la solució correcta o bé False en cas que no tingui solució.    \n",
    "    \"\"\"\n",
    "    \n",
    "    # NO esborreu aquestes dues línies, serveien per saber quants cops es crida aquesta funció\n",
    "    # ----------------------------------------------------------------------------------------\n",
    "    global num_recursive_calls \n",
    "    num_recursive_calls += 1\n",
    "    # ----------------------------------------------------------------------------------------\n",
    "    \n",
    "    # EL TEU CODI AQUÍ\n",
    "    \n",
    "    \n",
    "    # Iniciem la recursió a la primera casella (0, 0)\n",
    "    recursio = solve_puzzle(grid, top, bottom, left, right, 0, 0)\n",
    "\n",
    "    \n",
    "    return recursio\n",
    "        \n",
    "    \n",
    "def skyscrapper(top, bottom, left, right):\n",
    "    \"\"\"\n",
    "    Funció principal del problema. Rep quatre llistes corresponents als nombres que hi ha fora del tauler.\n",
    "    \n",
    "    Params\n",
    "    ------\n",
    "    :top, bottom, left, right: Els nombres de fora del tauler de la part superior, inferior, esquerra i dreta, respectivament.\n",
    "    \"\"\"\n",
    "    \n",
    "    # Inicialitzem una matriu de zeros\n",
    "    grid = np.zeros((len(left), len(top)), dtype='int')\n",
    "    \n",
    "    # Cridem a la funció que soluciona el problema mitjançant backtracking\n",
    "    sol = skyscrapper_backtracking(grid, top, bottom, left, right)   \n",
    "    \n",
    "    # Mostrem el resultat en el cas que trobem una solució o mostrem un error en cas contrari.\n",
    "    if sol:\n",
    "        print(format_sky(np.array(sol), top, bottom, left, right))\n",
    "    else:\n",
    "        print('No solution found')"
   ]
  },
  {
   "cell_type": "code",
   "execution_count": 7,
   "metadata": {},
   "outputs": [
    {
     "name": "stdout",
     "output_type": "stream",
     "text": [
      "No solution found\n",
      "Crides recursives: 1\n",
      "Temps: 0.00s\n"
     ]
    }
   ],
   "source": [
    "num_recursive_calls = 0\n",
    "t0 = time.perf_counter()\n",
    "skyscrapper([0,0,0],\n",
    "            [3,0,0],\n",
    "            [0,0,0],\n",
    "            [0,0,1])\n",
    "t1 = time.perf_counter()\n",
    "print('Crides recursives:', num_recursive_calls)\n",
    "print(f'Temps: {t1-t0:.2f}s')"
   ]
  },
  {
   "cell_type": "code",
   "execution_count": 8,
   "metadata": {},
   "outputs": [
    {
     "name": "stdout",
     "output_type": "stream",
     "text": [
      "No solution found\n",
      "Crides recursives: 1\n",
      "Temps: 0.00s\n"
     ]
    }
   ],
   "source": [
    "num_recursive_calls = 0\n",
    "t0 = time.perf_counter()\n",
    "skyscrapper([4,2,1,2,3],\n",
    "            [1,4,3,2,2],\n",
    "            [3,2,3,2,1],\n",
    "            [3,4,1,2,2])\n",
    "t1 = time.perf_counter()\n",
    "print('Crides recursives:', num_recursive_calls)\n",
    "print(f'Temps: {t1-t0:.2f}s')"
   ]
  },
  {
   "cell_type": "code",
   "execution_count": 9,
   "metadata": {},
   "outputs": [
    {
     "name": "stdout",
     "output_type": "stream",
     "text": [
      "No solution found\n",
      "Crides recursives: 1\n",
      "Temps: 0.00s\n"
     ]
    }
   ],
   "source": [
    "num_recursive_calls = 0\n",
    "t0 = time.perf_counter()\n",
    "skyscrapper([0,0,3,0],\n",
    "            [0,2,2,0],\n",
    "            [0,0,0,0],\n",
    "            [0,2,0,0])\n",
    "t1 = time.perf_counter()\n",
    "print('Crides recursives:', num_recursive_calls)\n",
    "print(f'Temps: {t1-t0:.2f}s')"
   ]
  },
  {
   "cell_type": "markdown",
   "metadata": {},
   "source": [
    "<div class=\"alert alert-warning\">\n",
    "\n",
    "<h3>Expliqueu breument (màxim 5 línies) quina estratègia heu seguit.</h3>\n",
    "    \n",
    "<p>L'estratègia seguida és la del backtracking. És a dir, es crea una funció recursiva que es crida de forma recursiva amb diferents opcions fins a trobar una solució o determinar que no és possible trobar-ne cap. En concret, la funció es crida de la següent manera:\n",
    "    \n",
    "1- Si ja hem recorregut tota la matriu, retornem True per indicar que hem trobat una solució.\n",
    "2- Provem amb totes les alçades d'edificis possibles (1, 2, 3 i 4).\n",
    "3- Per a cada alçada, comprovem si és possible posar un edifici d'aquesta alçada a la posició actual. Si és possible, posem l'edifici a la posició actual i anem a la següent casella. Si no és possible seguir amb aquesta opció, eliminem l'edifici que hem posat.\n",
    "4- Si no hem trobat cap solució, retornem False. \n",
    "La funció es crida de forma recursiva fins que troba una solució o determina que no és possible trobar-ne cap.</p>\n",
    "\n",
    "</div>"
   ]
  },
  {
   "cell_type": "markdown",
   "metadata": {},
   "source": [
    "<div class=\"alert alert-info\">\n",
    "<center>\n",
    "  <h1>Entrega</h1>\n",
    "</center>\n",
    "\n",
    "<p>\n",
    "L'entrega es farà a través del campus virtual. Teniu fins el dia <b>30 de Desembre a les 23:59</b> per entregar la pràctica. A la tasca que obrirem al campus, <b>només heu d'entregar aquest fitxer .ipynb</b>. El notebook ha de tenir com a nom:\n",
    "</p>\n",
    "<p>\n",
    "    <code>Grup_Cognom_Nom_Enumeratius.ipynb</code>\n",
    "</p>\n",
    "    <br>\n",
    "On 'Grup' és una sola lletra que identifica el grup on esteu matriculats. Els grups disponibles són: A, B, C, D, E, F.\n",
    "\n",
    "És imprescindible que respecteu el format de les funcions i que el vostre codi estigui degudament comentat.<br><br>\n",
    "</div>"
   ]
  }
 ],
 "metadata": {
  "kernelspec": {
   "display_name": "Python 3 (ipykernel)",
   "language": "python",
   "name": "python3"
  },
  "language_info": {
   "codemirror_mode": {
    "name": "ipython",
    "version": 3
   },
   "file_extension": ".py",
   "mimetype": "text/x-python",
   "name": "python",
   "nbconvert_exporter": "python",
   "pygments_lexer": "ipython3",
   "version": "3.8.8"
  }
 },
 "nbformat": 4,
 "nbformat_minor": 4
}
