{
 "cells": [
  {
   "cell_type": "markdown",
   "metadata": {},
   "source": [
    "<div style=\"padding:30px; color: white; background-color: #0071CD\">\n",
    "<center>\n",
    "<img src=\"img/logoub.jpeg\"></img>\n",
    "<center>\n",
    "<h1>Algorísmica Avançada 2022</h1>\n",
    "<h2>Pràctica 3 - Greedy</h2>\n",
    "</center>\n",
    "</div>"
   ]
  },
  {
   "cell_type": "code",
   "execution_count": 10,
   "metadata": {},
   "outputs": [
    {
     "data": {
      "text/html": [
       "<style>.container { width:100% !important; }</style>"
      ],
      "text/plain": [
       "<IPython.core.display.HTML object>"
      ]
     },
     "metadata": {},
     "output_type": "display_data"
    }
   ],
   "source": [
    "from IPython.display import display, HTML\n",
    "display(HTML(\"<style>.container { width:100% !important; }</style>\"))"
   ]
  },
  {
   "cell_type": "markdown",
   "metadata": {},
   "source": [
    "<div class=\"alert alert-info\">\n",
    "<h2>Avís general per a les Pràctiques de Laboratori</h2>\n",
    "\n",
    "És molt important <b>comentar tot el vostre codi</b>. Comentar el codi no només facilita a altres persones que el llegeixin la compressió del que esteu fent, sinó també a vosaltres mateixos durant el procés de disseny i implementació. D'aquesta forma podreu entendre el vostre propi codi encara que faci molt temps que no el consulteu. A més, a l'hora de ser corregits, un codi comentat s'entén molt millor, la qual cosa ajuda a traslladar al professor les idees que teníeu a l'intentar implementar-lo i encara més en el cas que no ho hagueu pogut acabar-ho amb èxit. No cal comentar cada línia, però si el que fa cada part.\n",
    "\n",
    "En segon lloc, és molt important <b>respectar les capçaleres de les funcions i estructura de la funció ```return```</b> que s'indiquin a l'enunciat. Tot i que llegim i corregim els vostres codis en detall, fem servir correctors automàtics per guiar i agilitzar el procés i saber quines solucións funcionen i quines no ja d'entrada. \n",
    "\n",
    "Axí doncs, si es demana que la funció tingui la següent estructura: \n",
    "\n",
    "```python\n",
    "def exercici1(param1, param2):\n",
    "    # implementació de la solució\n",
    "    return resultat \n",
    "```\n",
    "\n",
    "És important que en el notebook existeixi aquesta funció i que no canvieu el nom dels paràmetres ni el tipus de dada retornada.\n",
    "    \n",
    "</div>\n",
    "\n",
    "\n"
   ]
  },
  {
   "cell_type": "markdown",
   "metadata": {},
   "source": [
    "<div class=\"alert alert-success\">\n",
    "    <h1>Problema 1: Repostatge de vehicles (No òptim) (3p)</h1>\n",
    "    <p>\n",
    "       Hem de fer un trajecte des d’un punt d’origen $S$ fins a un destí $D$. El dipòsit del cotxe permet recórrer un màxim de $K$ quilòmetres. A més, al llarg del trajecte, trobem un conjunt de benzineres $B_1,\\dots,B_n$. Cada benziera té la benzina a un preu diferent que podem notar com $p_{B_i},\\ \\ \\forall i=1,\\dots,n$. Implementeu l'algorisme greedy descrit a continuació per anar des de $S$ fins a $D$.<br><br>\n",
    "       Implementeu un algorisme greedy que, donat $K$, una llista de distàncies entre l'orígen i les benzineres on l'últim element és el destí, i una llista  de preus de benzina, retorni el nombre de cops que haurem de parar a repostar i el preu total del trajecte.<br><br>\n",
    "       Per exemple, si tenim un cotxe que pot fer 10km sense repostar, el destí està a 30km i tenim benzineres als punts: 8, 14, 16, 18, 23, 27 amb preus 0.9, 1.2, 0.6, 1.2, 2.1, 1.7 respectivament, podem executar:<br><br><center><b>refill_prices(10, [8, 14, 16, 18, 23, 27, 30], [0.9, 1.2, 0.6, 1.2, 2.1, 1.7])</center><br> i ens haurà de retornar quatre valors:\n",
    "        <ul>\n",
    "            <li> <b>True/False</b> depenent de si existeix, o no, una solució al problema.\n",
    "            <li> <b>Nombre de benzineres on hem de fer parada.</b> En cas que no existeixi solució, retornarà el nombre de benzineres que hem visitat abans d'exhaurir el carburant.\n",
    "            <li> <b>Llista dels quilòmetres que formen part de la solució.</b>\n",
    "            <li> <b>Cost total del trajecte. </b>\n",
    "        </ul></b><b></b>\n",
    "    </p>    \n",
    "    Seguiu el següent esquema a l'hora de programar la vostra solució:<br>\n",
    "    <ol>\n",
    "        <li> Ens movem fins la benzinera de més baix cost a la que podem arribar.\n",
    "        <li> Omplim el dipòsit al màxim.\n",
    "        <li> Busquem la propera benzinera a la que podem arribar amb el cost més baix.\n",
    "        <li> Tornem al punt 1.\n",
    "    </ol>\n",
    "    \n",
    "</div>"
   ]
  },
  {
   "cell_type": "code",
   "execution_count": 11,
   "metadata": {},
   "outputs": [],
   "source": [
    "def refill_prices(K, stations, prices):\n",
    "    \"\"\"\n",
    "    Repostatge no òptim de vehicles amb costos.\n",
    "    \n",
    "    Params\n",
    "    ======\n",
    "    :K: dipòsit del vehicle\n",
    "    :stations: llista de benzineres. L'últim element és el destí.\n",
    "    :prices: Llista de preus. Té un element menys que 'stations'.\n",
    "    \n",
    "    Returns\n",
    "    =======\n",
    "    :exists: Booleà True/False depenent de si existeix o no solució al problema.\n",
    "    :num_stops: Número de benzineres a les que hem de parar.\n",
    "    :stops: Quilòmetres de les benzineres on fem parada.\n",
    "    :value: Cost del trajecte.\n",
    "    \n",
    "    \"\"\"\n",
    "    \n",
    "    exists = False    \n",
    "    stops = []\n",
    "    num_stops = len(stops)\n",
    "    value = 0.0\n",
    "    \n",
    "    return exists, num_stops, stops, value"
   ]
  },
  {
   "cell_type": "code",
   "execution_count": 12,
   "metadata": {},
   "outputs": [
    {
     "name": "stdout",
     "output_type": "stream",
     "text": [
      "(False, 0, [], 0.0)\n"
     ]
    }
   ],
   "source": [
    "print(refill_prices(10, [8, 14, 16, 18, 23, 27, 30], [0.9, 1.2, 0.6, 1.2, 2.1, 1.7]))"
   ]
  },
  {
   "cell_type": "markdown",
   "metadata": {},
   "source": [
    "<div class=\"alert alert-success\">\n",
    "    <h1>Problema 2: Repostatge de vehicles (Òptim) (2p)</h1>\n",
    "    <p>\n",
    "       Modifiqueu l'algorisme anterior per a que la solució sigui òptima. <br>\n",
    "       En aquest cas, només haureu d'omplir el dipòsit amb els litres necessaris per a arribar a la benzinera de menor cost. <br>\n",
    "       Comproveu que la solució que obteniu amb aquest algorisme és inferior a la solució del Problema 1.\n",
    "    </p>    \n",
    "   \n",
    "</div>"
   ]
  },
  {
   "cell_type": "code",
   "execution_count": 13,
   "metadata": {},
   "outputs": [],
   "source": [
    "def refill_prices_optim(K, stations, prices):\n",
    "    \"\"\"\n",
    "    Repostatge òptim de vehicles amb costos. \n",
    "    \n",
    "    Params\n",
    "    ======\n",
    "    :K: dipòsit del vehicle\n",
    "    :stations: llista de benzineres. L'últim element és el destí.\n",
    "    :prices: Llista de preus. Té un element menys que 'stations'.\n",
    "    \n",
    "    Returns\n",
    "    =======\n",
    "    :exists: Booleà True/False depenent de si existeix o no solució al problema.\n",
    "    :num_stops: Número de benzineres a les que hem de parar.\n",
    "    :stops: Quilòmetres de les benzineres on fem parada.\n",
    "    :value: Cost del trajecte.\n",
    "    \n",
    "    \"\"\"\n",
    "    \n",
    "    exists = False    \n",
    "    stops = []\n",
    "    num_stops = len(stops)\n",
    "    value = 0.0\n",
    "    \n",
    "    return exists, num_stops, stops, value\n",
    "        "
   ]
  },
  {
   "cell_type": "code",
   "execution_count": 14,
   "metadata": {},
   "outputs": [
    {
     "name": "stdout",
     "output_type": "stream",
     "text": [
      "(False, 0, [], 0.0)\n"
     ]
    }
   ],
   "source": [
    "print(refill_prices_optim(10, [8, 14, 16, 18, 23, 27, 30], [0.9, 1.2, 0.6, 1.2, 2.1, 1.7]))"
   ]
  },
  {
   "cell_type": "markdown",
   "metadata": {},
   "source": [
    "<div class=\"alert alert-success\">\n",
    "    <h1>Problema 3: Un alfabet estrany (5p)</h1>\n",
    "    <p>\n",
    "        Volem enviar missatges utilitzant el mínim d'espai possible utilitzant una codificació de dos caràcters '.' i '-'. Per fer-ho hem de traduïr cada lletra de l'alfabet català a aquesta representació. <br>\n",
    "        Per exemple, podem assignar que la lletra A correspon a l'string '.', la lletra B a l'string '.-' i la lletra C a l'string '--'. Així, la paraula ABC ens quedaria codificada com '..---'.<br><br>\n",
    "        Per a que la codificació sigui bona i reversible, és a dir, que siguem capaços de desxifrar-la, és important que els strings de codificació que triem no portin a errors.<br>\n",
    "        Per exemple, si codifiquem A='.', B='-.', C='.-' i tenim l'string '.-..-', aquest pot representar tant la paraula ABC com la paraula CAC i, per tant, no és una bona codificació.\n",
    "        Seguiu els següents passos per a implementar la solució:\n",
    "    </p>  \n",
    "    <h2>3.1 Trobar la codificació</h2>\n",
    "    <ol>\n",
    "        <li>Implementeu una funció <code>compute_frequency</code> que calculi la freqüència de cada lletra, és a dir, el nombre de cops que apareix a dins l'string.   \n",
    "        <li>Ara crearem un arbre binari per emmagatzemar els nodes. Utilitza la classe <code>Node</code> seguint les indicacions:\n",
    "        <ol>\n",
    "            <li>Inicialitza una llista <code>nodes_list</code> on cada lletra sigui un node i tingui com a valor, el càlcul de freqüència del primer apartat.\n",
    "            <li>Mentre la llista tingui dos nodes com a mínim, extreu de la llista els dos nodes amb la frequencia més petita i guarda'ls a l'arbre assignant-els-hi el mateix pare. \n",
    "            <li>Assigna el caràcter '.' al node de la dreta i el caràcter '-' al node de l'esquerra.\n",
    "            <li>Guarda el node pare a <code>nodes_list</code> assignant-li com a valor de freqüència la suma dels seus dos fills.\n",
    "            <li>Torna al punt B.\n",
    "        </ol>\n",
    "        <img src=\"img/graph.png\" width='25%'></img><br>\n",
    "        <li>Assigna un codi a cada fulla de l'arbre de la forma següent: sempre que descendeixis a un node de la dreta utilitza el caràcter '.' i al descendir al node de l'esquerra utilitza el caràcter '-'.\n",
    "        <li>Retorna aquesta assignació com a diccionari.\n",
    "    </ol>\n",
    "    <h2>3.2 Codificar i decodificar</h2>\n",
    "    <ol>\n",
    "        <li>Crea una funció <code>encode</code> que utilitzi el diccionari retornat anteriorment per a codificar un text d'entrada\n",
    "        <li>Crea una funció <code>decode</code> que utilitzi el diccionari retornat anteriorment per a decodificar un text d'entrada\n",
    "        <li>Executa la funció <code>alphabet</code> i comprova que el resultat sigui l'esperat.\n",
    "    </ol>\n",
    "    \n",
    "</div>"
   ]
  },
  {
   "cell_type": "markdown",
   "metadata": {},
   "source": [
    "Exemple d'execució:\n",
    "\n",
    "- Text a codificar: ABABAC\n",
    "- Diccionari de freqüències: {'A': 3, 'B': 2, 'C': 1}\n",
    "- Diccionari de conversió: {'C': '--', 'B': '-.', 'A': '.'}\n",
    "- Codificat: .-..-..--\n",
    "- Decodificat: ABABAC"
   ]
  },
  {
   "cell_type": "code",
   "execution_count": 15,
   "metadata": {},
   "outputs": [],
   "source": [
    "from collections import defaultdict\n",
    "\n",
    "def compute_frequency(text):\n",
    "    \"\"\"\n",
    "    Params\n",
    "    ======\n",
    "    :text: El text que volem codificar\n",
    "    \n",
    "    Returns\n",
    "    =======\n",
    "    :dct: Un diccionari amb el nombre de cops que apareix cada simbol en el text d'entrada. Per exemple: {'A': 3, 'B': 2, 'C': 1}\n",
    "    \"\"\"\n",
    "    \n",
    "    dct = {}\n",
    "    # recorrem el text entrat per paràmetre, i comptem quants cops apareix en el text cada caràcter\n",
    "    for elem in text:\n",
    "        # si l'element ja havia estat registrat en el diccionari, augmentem en 1 el valor de la seva freqüència \n",
    "        if elem in dct:\n",
    "            dct[elem]=dct[elem]+1\n",
    "        # si l'element no ha estat enregistrat, l'afegim al diccionari com a key i iniciem el seu valor en 1\n",
    "        else:\n",
    "            dct[elem]=1\n",
    "    \n",
    "    \n",
    "    \n",
    "    return dct"
   ]
  },
  {
   "cell_type": "code",
   "execution_count": 16,
   "metadata": {},
   "outputs": [],
   "source": [
    "class Node:\n",
    "    \"\"\"\n",
    "    Aquesta classe emmagatzema la informació dels nodes de l'arbre binari.\n",
    "    \"\"\"\n",
    "    def __init__(self, node, value, left=None, right=None):\n",
    "        self.node = node    # String que representa el node\n",
    "        self.value = value  # Valor de freqüència\n",
    "        self.left = left    # Node de l'esquerra\n",
    "        self.right = right  # Node de la dreta\n",
    "        self.code = ''      # Codificació del node\n",
    "\n",
    "    def set_code(self, code):\n",
    "        self.code = code\n",
    "\n",
    "    def __repr__(self):\n",
    "        return f\"Node({self.node},{self.value},{self.code})\""
   ]
  },
  {
   "cell_type": "code",
   "execution_count": 17,
   "metadata": {},
   "outputs": [],
   "source": [
    "def makeCode(root, codes):\n",
    "    \n",
    "    # si té fill dret el valor del code serà el del pare + '-'\n",
    "    if root.right:\n",
    "        root.right.code = root.code + root.right.code\n",
    "        if root.right.code != \"\":\n",
    "            codes[root.right.node] = root.right.code\n",
    "        makeCode(root.right, codes)\n",
    " # si té fill esquerra el valor del code serà el del pare + '.'\n",
    "    if root.left:\n",
    "        root.left.code = root.code + root.left.code\n",
    "        if root.left.code != \"\":\n",
    "            codes[root.left.node] = root.left.code\n",
    "        makeCode(root.left, codes)\n",
    "    \n",
    "    else:\n",
    "        codes[root.node] = codes[root.node]\n",
    "\n",
    "\n",
    "def assign_codes(text, counts):   \n",
    "    \"\"\"\n",
    "    Aquesta funció construeix el diccionari de conversió de lletres a símbols '.' i '-'.\n",
    "    \n",
    "    Params\n",
    "    ======\n",
    "    :text: El text que volem convertir\n",
    "    :counts: El diccionari de freqüències que ens retorna la funció compute_frequency\n",
    "    \n",
    "    Returns\n",
    "    =======\n",
    "    :codes: El diccionari de conversió. Per exemple: {'C': '--', 'B': '-.', 'A': '.'}\n",
    "    \"\"\"\n",
    "     # Aquesta llista contindrà els nodes que encara no haguem utilitzat per juntar-los de 2 en 2 segons la seva freqüència i crear-ne un de nou amb aquells 2\n",
    "    nodes = []\n",
    "    \n",
    "\n",
    "    \n",
    "    for key in counts: # creem 1 node per cada element del diccionari \n",
    "        node = Node(key,counts[key]) # creem el node \n",
    "        nodes.append(node) # afegim el node a la llista de nodes\n",
    "        \n",
    "\n",
    "\n",
    "\n",
    "        \n",
    "        \n",
    "\n",
    "    # mentres tinguem nodes\n",
    "    while len(nodes) > 1:\n",
    "        # ordenem els nodes de petit a gran segons la seva freqüència\n",
    "        nodes.sort(key = lambda node: node.value) \n",
    "        print('ordenem: ')\n",
    "        print(nodes)\n",
    " \n",
    "        # escollim els 2 nodes amb menor freqüència, és a dir els que estiguin en la posició 0 i en la posició 1 de la llista ordenada\n",
    "        left = nodes[0]\n",
    "        left.set_code('.')\n",
    "        right = nodes[1]\n",
    "        right.set_code('-')\n",
    " \n",
    "\n",
    "        # combinem els nodes escollits per a crear un nou node\n",
    "        newNode = Node( \"\", left.value+right.value, left, right)\n",
    " \n",
    "        # eliminem els 2 nodes\n",
    "        nodes.remove(left)\n",
    "        nodes.remove(right)\n",
    "        # nodes = [newNode]+nodes # afegim el pare al principi de la llista de nodes\n",
    "        nodes.append(newNode)\n",
    "        print(\"afegim i eliminem: \")\n",
    "        print(nodes)\n",
    "    \n",
    "    codes = {}   # iniciem el diccionari de conversions\n",
    "    codes = counts.copy()   # realitzem 1 còpia del diccionari de freqüències per a tenir les mateixes keys\n",
    "    makeCode(nodes[0], codes)\n",
    "    codes.pop('') \n",
    "  \n",
    "    \n",
    "    return codes\n",
    "    return codes"
   ]
  },
  {
   "cell_type": "code",
   "execution_count": 18,
   "metadata": {},
   "outputs": [],
   "source": [
    "def encode(text, diccionari):\n",
    "    \"\"\"\n",
    "    Donat un text a codificar i un diccionari de conversió, codifica el text.\n",
    "    \n",
    "    Params\n",
    "    ======\n",
    "    :text: El text que volem codificar\n",
    "    :diccionari: El diccionari de conversió que farem servir\n",
    "    \n",
    "    Returns\n",
    "    =======\n",
    "    :code: Una representació del text usant només els caràcters '.' i '-'\n",
    "    \"\"\"\n",
    "    code = \"\"\n",
    "    \n",
    "    # recorrem cada caràcter del text a codificar\n",
    "    for character in text:\n",
    "        code += diccionari[character] # en la string buida, afegim la codificació de cada caràcter de la cadena de text\n",
    "    \n",
    "    return code\n",
    "    "
   ]
  },
  {
   "cell_type": "code",
   "execution_count": 19,
   "metadata": {},
   "outputs": [],
   "source": [
    "def decode(text, diccionari):\n",
    "    \"\"\"\n",
    "    Donat un text a decodificar i un diccionari de conversió, decodifica el text.\n",
    "    \n",
    "    Params\n",
    "    ======\n",
    "    :text: El text que volem decodificar (caràcters '.' i '-')\n",
    "    :diccionari: El diccionari de conversió que hem fet servir per codificar\n",
    "    \n",
    "    Returns\n",
    "    =======\n",
    "    :code: El text resultant de la decodificació.\n",
    "    \"\"\"\n",
    "    current_code = \"\"\n",
    "    code = \"\"\n",
    "    # invertim les keys i els values del diccionari\n",
    "    diccionari = {value:key for key, value in diccionari.items()} \n",
    "    # recorrem bit a bit el text codificat que entra per paràmetre ( amb bit em refereixo a un element que en conjunt o sol, pot formar un caràcter ) \n",
    "    for bit in text:\n",
    "        current_code += bit # guardem en current_code els bits actuals amb els que estem treballant\n",
    "        if(current_code in diccionari):   # si amb els bits que estem treballant, podem formar un caràcter que es trobi dins del diccionari de conversions\n",
    "            character = diccionari[current_code] \n",
    "            code += character # afegim al codi descodificat el caràcter que hem obtingut a partir dels bits acumulats\n",
    "            current_code = \"\" # reiniciem la variable que contenia els bits amb els que estàvem treballant\n",
    "\n",
    "    return code"
   ]
  },
  {
   "cell_type": "code",
   "execution_count": 20,
   "metadata": {},
   "outputs": [],
   "source": [
    "def alphabet(text):\n",
    "    \"\"\"\n",
    "    Funció per comprovar que el codi s'executa correctament. No modifiqueu aquesta funció.\n",
    "    \n",
    "    Params\n",
    "    ======\n",
    "    :text: Missatge que volem fer servir per provar les funcions.\n",
    "    \"\"\"\n",
    "    \n",
    "    print(\"Text a codificar:\", text)\n",
    "    \n",
    "    counts = compute_frequency(text)\n",
    "    print(\"Diccionari de freqüències:\", counts)\n",
    "    \n",
    "    codes = assign_codes(text, counts)\n",
    "    print(\"Diccionari de conversió:\", codes)\n",
    "    \n",
    "    codi = encode(text, codes)\n",
    "    print(\"Codificat:\", codi)\n",
    "    print(\"Decodificat:\", decode(codi, codes))"
   ]
  },
  {
   "cell_type": "code",
   "execution_count": 21,
   "metadata": {},
   "outputs": [],
   "source": [
    "def alphabet(text):\n",
    "    print(\"Text a codificar:\", text)\n",
    "    counts = compute_frequency(text)\n",
    "    print(\"Diccionari de freqüències:\", counts)\n",
    "    codes = assign_codes(text, counts)\n",
    "    print(\"Diccionari de conversió:\", codes)\n",
    "    codi = encode(text, codes)\n",
    "    print(\"Codificat:\", codi)\n",
    "    print(\"Decodificat:\", decode(codi, codes))"
   ]
  },
  {
   "cell_type": "code",
   "execution_count": 22,
   "metadata": {},
   "outputs": [
    {
     "name": "stdout",
     "output_type": "stream",
     "text": [
      "Text a codificar: ABABAC\n",
      "Diccionari de freqüències: {'A': 3, 'B': 2, 'C': 1}\n",
      "ordenem: \n",
      "[Node(C,1,), Node(B,2,), Node(A,3,)]\n",
      "afegim i eliminem: \n",
      "[Node(A,3,), Node(,3,)]\n",
      "ordenem: \n",
      "[Node(A,3,), Node(,3,)]\n",
      "afegim i eliminem: \n",
      "[Node(,6,)]\n",
      "Diccionari de conversió: {'A': '.', 'B': '--', 'C': '-.'}\n",
      "Codificat: .--.--.-.\n",
      "Decodificat: ABABAC\n"
     ]
    }
   ],
   "source": [
    "# text_a_codificar = \"ABBCACCCDBAAABCAACCCB\"\n",
    "text_a_codificar = \"ABABAC\"\n",
    "alphabet(text_a_codificar)"
   ]
  },
  {
   "cell_type": "markdown",
   "metadata": {},
   "source": [
    "<div class=\"alert alert-info\">\n",
    "<center>\n",
    "  <h1>Entrega</h1>\n",
    "</center>\n",
    "\n",
    "<p>\n",
    "L'entrega es farà a través del campus virtual. Teniu fins el dia <b>6 de Novembre a les 23:59</b> per entregar la pràctica. A la tasca que obrirem al campus, <b>només heu d'entregar aquest fitxer .ipynb</b>. El notebook ha de tenir com a nom:\n",
    "</p>\n",
    "<p>\n",
    "    <code>Grup_Cognom_Nom_Greedy.ipynb</code>\n",
    "</p>\n",
    "    <br>\n",
    "On 'Grup' és una sola lletra que identifica el grup on esteu matriculats. Els grups disponibles són: A, B, C, D, E, F.\n",
    "\n",
    "És imprescindible que respecteu el format de les funcions i que el vostre codi estigui degudament comentat.<br><br>\n",
    "</div>"
   ]
  }
 ],
 "metadata": {
  "kernelspec": {
   "display_name": "Python 3 (ipykernel)",
   "language": "python",
   "name": "python3"
  },
  "language_info": {
   "codemirror_mode": {
    "name": "ipython",
    "version": 3
   },
   "file_extension": ".py",
   "mimetype": "text/x-python",
   "name": "python",
   "nbconvert_exporter": "python",
   "pygments_lexer": "ipython3",
   "version": "3.8.8"
  }
 },
 "nbformat": 4,
 "nbformat_minor": 4
}
