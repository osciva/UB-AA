{
 "cells": [
  {
   "cell_type": "markdown",
   "id": "57d4dd92-5400-4018-8735-555311719ea4",
   "metadata": {},
   "source": [
    "<div style=\"padding:30px; color: white; background-color: #0071CD\">\n",
    "<center>\n",
    "<img src=\"img/logoub.jpeg\"></img>\n",
    "<h1>Algorísmica Avançada</h1>\n",
    "<h2>Segon Parcial 2022/2023</h2>\n",
    "</center>\n",
    "</div>"
   ]
  },
  {
   "cell_type": "code",
   "execution_count": 73,
   "id": "56ba094f-0267-43f3-b31b-ad1bd41468b3",
   "metadata": {},
   "outputs": [],
   "source": [
    "import numpy as np"
   ]
  },
  {
   "cell_type": "markdown",
   "id": "655ed55b-8283-49be-a5f6-77c5259c2529",
   "metadata": {},
   "source": [
    "<div class=\"alert alert-success\">\n",
    "    <h1>Problema 1: Nombres sense 1's consecutius</h1>\n",
    "    <p>\n",
    "        Volem saber quants nombres binaris de $N$ xifres hi ha que NO tinguin dos 1's consecutius. <br>Per exemple, per a $N=3$ n'hi ha 5: 000, 001, 010, 100, 101.<br><br>\n",
    "        Implementeu un algorisme que, usant <b>programació dinàmica</b>, retorni quants nombres binaris sense 1's consecutius hi ha per a un valor $N$ qualsevol. Podeu decidir implementar una de les dues funcions <b>bin_count_td</b> o <b>bin_count_bu</b> utilitzant l'estratègia top-down o bottom-up, respectivament.\n",
    "    </p>    \n",
    "    <p><b>Pista 1:</b> Implementeu primer la versió recursiva que us donarà una idea de com aplicar la programació dinàmica.</p>\n",
    "    <p><b>Pista 2:</b> La variable <b>last_digit</b> ens diferencia els números que acaben en 1 i els que acaben en 0, quan crideu la funció recursivament, haureu de tenir aquests dos casos en compte.</p>    \n",
    "    <p><b>Pista 3:</b> Per a calcular el cas $N$, necessiteu tenir dos valors:\n",
    "        <ol>\n",
    "            <li> Quants nombres de $N-1$ xifres acaben en 1.\n",
    "            <li> Quants nombres de $N-1$ xifres acaben en 0.\n",
    "        </ol>\n",
    "    </p>\n",
    "    <p><b>Pista 4:</b> La taula de programació dinàmica ha de tenir mida $2\\times (N+1)$.</p>\n",
    "   \n",
    "</div>"
   ]
  },
  {
   "cell_type": "markdown",
   "id": "564a63d9-a5f2-4420-a39f-c473b695a67d",
   "metadata": {},
   "source": [
    "<div class=\"alert alert-warning\">\n",
    "    <p><b>Responeu si voleu que corregim la funció TOP-DOWN o la funció BOTTOM-UP</b></p>    \n",
    "    <p> TOP-DOWN </p>\n",
    "</div>"
   ]
  },
  {
   "cell_type": "code",
   "execution_count": 74,
   "id": "cb965e6c-4032-475d-874d-5fb4d6bdbb57",
   "metadata": {},
   "outputs": [],
   "source": [
    "# VERSIÓ RECURSIVA (opcional)\n",
    "def bin_count(n, last_digit=0):\n",
    "    \"\"\"\n",
    "    ========\n",
    "    OPCIONAL\n",
    "    ========\n",
    "    \n",
    "    Implementeu aquesta funció només si us ha de ser d'ajut per a resoldre una de les dues funcions de sota\n",
    "    \n",
    "    Params\n",
    "    ======\n",
    "    :n: El nombre de xifres\n",
    "    :last_digit: Un paràmetre d'ajut per a saber amb quina xifra acaba el nombre anterior en la crida recursiva.\n",
    "        Si last_digit=0, hi podem posar un 1 o un 0 al darrere ja que no generarem dos 1's consecutius\n",
    "        Si last_digit=1, només hi podem posar un 0 al darrere.\n",
    "    \n",
    "    Returns\n",
    "    =======\n",
    "    :num: El nombre de números sense 1's consecutius de n xifres.\n",
    "    \"\"\"\n",
    "    \n",
    "    return 0"
   ]
  },
  {
   "cell_type": "code",
   "execution_count": 75,
   "id": "1638a7d7-7ecc-4bd0-a955-cc34838299e4",
   "metadata": {},
   "outputs": [
    {
     "data": {
      "text/plain": [
       "0"
      ]
     },
     "execution_count": 75,
     "metadata": {},
     "output_type": "execute_result"
    }
   ],
   "source": [
    "bin_count(3) # Retorna 5"
   ]
  },
  {
   "cell_type": "code",
   "execution_count": 76,
   "id": "f02f5bbf-31c6-4dcb-9ec7-eb980a57530c",
   "metadata": {},
   "outputs": [
    {
     "data": {
      "text/plain": [
       "[0, 0, 0, 0, 0, 0]"
      ]
     },
     "execution_count": 76,
     "metadata": {},
     "output_type": "execute_result"
    }
   ],
   "source": [
    "[bin_count(n) for n in range(4, 10)] # Retorna [8, 13, 21, 34, 55, 89]"
   ]
  },
  {
   "cell_type": "code",
   "execution_count": 77,
   "id": "18383646-646d-41a6-9e7d-cb6b8f141f98",
   "metadata": {},
   "outputs": [],
   "source": [
    "# VERSIÓ TOP-DOWN\n",
    "def bin_count_td(n, last_digit=0, dp=None):\n",
    "    \"\"\"\n",
    "    Versió TOP-DOWN de l'algorisme anterior.\n",
    "    \"\"\"\n",
    "    #inicialització d'una arrayper a emmagatzemar els valors\n",
    "    if dp is None:\n",
    "        dp= [0]*(2*(n+1))\n",
    "    \n",
    "    #casos base\n",
    "    if n==0: \n",
    "        return 0\n",
    "    \n",
    "    if n==1: # (0, 1)\n",
    "        return 2\n",
    "    \n",
    "    if n==2: # (00, 01, 10)\n",
    "        return 3\n",
    "\n",
    "    \n",
    "    #aprofitant els càlculs previs\n",
    "    if dp[n]!=0:\n",
    "        return dp[n]\n",
    "    \n",
    "    #omplim la memòria amb el càlcul recursiu\n",
    "    #l'últim bit és sempre 1 ja que qualsevol últim nombre binari de n xifres sempre acaba en 1\n",
    "    # és fibonacci amb un cas base extra, p.e. la quantitat de números de 6 xifres, ésla suma dels números de 4 xifres + els de 5 xifres\n",
    "    \n",
    "    dp[n]= (bin_count_td(n-1, 1, dp) + bin_count_td(n-2, 1, dp))\n",
    "    \n",
    "    \n",
    "    return dp[n]"
   ]
  },
  {
   "cell_type": "code",
   "execution_count": 78,
   "id": "729903f2-30ba-45bb-b419-5361fd56f52b",
   "metadata": {},
   "outputs": [
    {
     "data": {
      "text/plain": [
       "5"
      ]
     },
     "execution_count": 78,
     "metadata": {},
     "output_type": "execute_result"
    }
   ],
   "source": [
    "bin_count_td(3) # Retorna 5"
   ]
  },
  {
   "cell_type": "code",
   "execution_count": 79,
   "id": "20f24a87-ed46-499e-b2a3-931ac5e2b203",
   "metadata": {},
   "outputs": [
    {
     "data": {
      "text/plain": [
       "[8, 13, 21, 34, 55, 89]"
      ]
     },
     "execution_count": 79,
     "metadata": {},
     "output_type": "execute_result"
    }
   ],
   "source": [
    "[bin_count_td(n) for n in range(4, 10)] # Retorna [8, 13, 21, 34, 55, 89]"
   ]
  },
  {
   "cell_type": "code",
   "execution_count": 80,
   "id": "1828b809-4cd1-4597-9860-f49135c636d4",
   "metadata": {},
   "outputs": [],
   "source": [
    "# VERSIÓ BOTTOM-UP\n",
    "def bin_count_bu(n):\n",
    "    \"\"\"\n",
    "    Versió BOTTOM-UP de l'algorisme anterior.\n",
    "    \"\"\"\n",
    "    \n",
    "    return 0"
   ]
  },
  {
   "cell_type": "code",
   "execution_count": 81,
   "id": "f24df304-2821-44b9-b19f-7232e4a23c7c",
   "metadata": {},
   "outputs": [
    {
     "data": {
      "text/plain": [
       "0"
      ]
     },
     "execution_count": 81,
     "metadata": {},
     "output_type": "execute_result"
    }
   ],
   "source": [
    "bin_count_bu(3) # Retorna 5"
   ]
  },
  {
   "cell_type": "code",
   "execution_count": 82,
   "id": "4bfb7313-686f-499d-bd1c-68e8b2a4062f",
   "metadata": {},
   "outputs": [
    {
     "data": {
      "text/plain": [
       "[0, 0, 0, 0, 0, 0]"
      ]
     },
     "execution_count": 82,
     "metadata": {},
     "output_type": "execute_result"
    }
   ],
   "source": [
    "[bin_count_bu(n) for n in range(4, 10)] # Retorna [8, 13, 21, 34, 55, 89]"
   ]
  },
  {
   "cell_type": "markdown",
   "id": "94c41455-2638-4134-a7c7-e331e6c9ce43",
   "metadata": {
    "tags": []
   },
   "source": [
    "<div class=\"alert alert-success\">\n",
    "    <h1>Problema 4: Numbrix puzzle</h1>\n",
    "    <p>Donada una matriu amb nombres enters positius i zeros (representats per les caselles buides), l'objectiu és omplir les caselles on apareixen zeros de forma que existeixi un camí des del nombre 1 fins al nombre $N = W \\times H$ on $W$ és l'amplada de la matriu i $H$ és l'alçada. <br>Suposant que sempre tenim el nombre 1 disponible a la matriu, implementeu un algorisme que, usant <b>backtracking i/o ramificació i poda</b>, trobi la solució al problema.<br>\n",
    "        <center>\n",
    "        <img src=\"img/numbrix.png\" width='50%'></img>\n",
    "        </center>\n",
    "        <b>Ajuda</b>: Igual que a la pràctica, disposeu de la funció <b>format_board</b> i <b>delayed_print</b> per a ajudar-vos a visualitzar el tauler en cada moment.<br>\n",
    "        <b>Ajuda</b>: Al treballar amb numpy, ens retornarà un error si comprovem si existeix el tauler o no. Com a la pràctica, si teniu la matriu 'mat', podeu usar la funció <b>mat.tolist()</b> per convertir-ho en una llista de python.\n",
    "    </p>    \n",
    "   \n",
    "</div>"
   ]
  },
  {
   "cell_type": "code",
   "execution_count": 83,
   "id": "938d6678-6e1c-4e35-bbdb-986f62ff9d32",
   "metadata": {},
   "outputs": [],
   "source": [
    "from IPython.display import clear_output\n",
    "from time import sleep, perf_counter\n",
    "import time\n",
    "\n",
    "def format_board(board):\n",
    "    \"\"\"\n",
    "    Funció auxiliar\n",
    "    \"\"\"\n",
    "    _str = \"\"\n",
    "    for idx, i in enumerate(board):\n",
    "        _str+= \"+\"+ (\"-\"*((board.shape[1]*5)-1)) +\"+\\n\"\n",
    "        _str+= f\"| \"\n",
    "        \n",
    "        # Columnes\n",
    "        for j in i:   \n",
    "            if j!=0:\n",
    "                _str+= f\"{str(j):>2}\"+\" | \"\n",
    "            else:\n",
    "                 _str+= \"   | \"\n",
    "        \n",
    "        _str+= f\"\\n\"\n",
    "    _str+= \"+\"+ (\"-\"*((board.shape[1]*5)-1))+\"+\\n\"\n",
    "    \n",
    "    return _str\n",
    "\n",
    "def delayed_print(grid, sleep_time=0.02):\n",
    "    \"\"\"\n",
    "    Funció auxiliar que bloqueja temporalment la funció 'print' per veure l'evolució de l'algorisme\n",
    "    \"\"\"\n",
    "    print(format_board(grid))\n",
    "    clear_output(wait=True)\n",
    "    time.sleep(sleep_time)"
   ]
  },
  {
   "cell_type": "code",
   "execution_count": 90,
   "id": "a6234e24-8eb6-440a-a5fc-9f154de36adf",
   "metadata": {},
   "outputs": [],
   "source": [
    "#funció auxiliar per veure si algun dels veins és el següent número\n",
    "def veins(mat,current):\n",
    "    #columna de l'esquerra del tot -> només podem comprovar adalt, dreta i abaix\n",
    "    if(current[1]==0):\n",
    "        if((mat[current[0]+1][current[1]] == mat[current[0][1]] + 1) or\n",
    "        (mat[current[0]][current[1]-1] == mat[current[0][1]] + 1) or\n",
    "        (mat[current[0]][current[1]+1] == mat[current[0][1]] + 1)):\n",
    "            return True\n",
    "        \n",
    "    #columna de la dreta del tot -> només podem comprovar adalt, esquerra i abaix    \n",
    "    if(current[1]==mat.shape[1]-1):\n",
    "        if((mat[current[0]-1][current[1]] == mat[current[0][1]] + 1) or \n",
    "        (mat[current[0]][current[1]-1] == mat[current[0][1]] + 1) or\n",
    "        (mat[current[0]][current[1]+1] == mat[current[0][1]] + 1)):\n",
    "            return True\n",
    "    \n",
    "    #primera fila -> només podem comprovar dreta, esquerra i abaix\n",
    "    if(current[0]==0):\n",
    "        if((mat[current[0]-1][current[1]] == mat[current[0][1]] + 1) or \n",
    "        (mat[current[0]+1][current[1]] == mat[current[0][1]] + 1) or\n",
    "        (mat[current[0]][current[1]-1] == mat[current[0][1]] + 1)):\n",
    "            return True\n",
    "        \n",
    "    #última fila -> només podem comprovar dreta, esquerra i adalt\n",
    "    if(current[0]==0):\n",
    "        if((mat[current[0]-1][current[1]] == mat[current[0][1]] + 1) or \n",
    "        (mat[current[0]+1][current[1]] == mat[current[0][1]] + 1) or\n",
    "        (mat[current[0]][current[1]+1] == mat[current[0][1]] + 1)):\n",
    "            return True\n",
    "    \n",
    "    #Cantonada adalt esquerra -> només podem comprovar dreta i abaix \n",
    "    if(current[0]==0 and current[1]==0):\n",
    "        if((mat[current[0]+1][current[1]] == mat[current[0][1]] + 1) or\n",
    "        (mat[current[0]][current[1]-1] == mat[current[0][1]] + 1)):\n",
    "            return True\n",
    "        \n",
    "    #Cantonada adalt dreta -> només podem comprovar esquerra i abaix\n",
    "    if(current[0]==0 and current[1]==mat.shape[1]-1):\n",
    "        if((mat[current[0]-1][current[1]] == mat[current[0][1]] + 1) or\n",
    "        (mat[current[0]][current[1]-1] == mat[current[0][1]] + 1)):\n",
    "            return True\n",
    "    \n",
    "    #Cantonada abaix dreta -> només podem comprovar esquerra i adalt\n",
    "    if(current[0]==mat.shape[0]-1 and current[1]==mat.shape[1]-1):\n",
    "        if((mat[current[0]-1][current[1]] == mat[current[0][1]] + 1) or\n",
    "        (mat[current[0]][current[1]+1] == mat[current[0][1]] + 1)):\n",
    "            return True\n",
    "    \n",
    "    #Cantonada abaix esquerra -> només podem comprovar dreta i adalt\n",
    "    if(current[0]==mat.shape[0]-1 and current[1]==0):\n",
    "        if((mat[current[0]+1][current[1]] == mat[current[0][1]] + 1) or\n",
    "        (mat[current[0]][current[1]+1] == mat[current[0][1]] + 1)):\n",
    "            return True\n",
    "    \n",
    "    else:\n",
    "        return False\n",
    "\n",
    "#funció auxiliar que recorre la matriu i ens diu si hi ha algún zero\n",
    "def plena(mat):\n",
    "    plena = True\n",
    "    for i in range(mat.shape[0]):\n",
    "        for j in range(mat.shape[1]):\n",
    "            if mat[i][j] == 0:\n",
    "                plena = False\n",
    "                return plena\n",
    "    return plena\n",
    "    \n",
    "    \n",
    "def numbrix_backtracking(mat, current, num):\n",
    "    \n",
    "    \n",
    "    # Si té solució (és a dir, si està plena i un dels veins dels números és el següent per a qualsevol posició) hem acabat, \n",
    "    # però de moment considerem que només no hi haurà solució si no està plena\n",
    "    if (plena(mat)==True):\n",
    "        return True\n",
    "    \n",
    "    #for each posible move:\n",
    "    for i in range(mat.shape[0]):\n",
    "        for j in range(mat.shape[1]):\n",
    "            #if(this move is valid): és a dir si té un veí que sigui la continuació\n",
    "            if veins(mat,current):\n",
    "                #do this move, és a dir l'actual passa a ser el següent i al següent li augmentem en 1 el valor\n",
    "                current = num\n",
    "                num = num+1\n",
    "                #ok=call backtrack()\n",
    "                bk = numbrix_backtracking(mat, current, num):\n",
    "                #if ok:\n",
    "                if bk:\n",
    "                    return\n",
    "\n",
    "                    #return solution found\n",
    "\n",
    "                #unplace last move done\n",
    "            \n",
    "     \n",
    "    return False\n",
    "\n",
    "def numbrix(mat):\n",
    "    \"\"\"\n",
    "    Donada una matriu amb nombres enters positius i zeros, intenta omplir els zeros de forma que existeixi\n",
    "    un camí coninu de nombres enters entre 1 i N.\n",
    "    \n",
    "    Params\n",
    "    ======\n",
    "    :mat: Una matriu de numpy amb zeros i nombres positius.\n",
    "    \"\"\"\n",
    "    \n",
    "    # Aquesta línia ens dona la coordenada (x, y) de la casella que conté un 1.\n",
    "    x,y = np.argwhere(mat==1)[0]\n",
    "    \n",
    "    # Aquest serà el número a col·locar.\n",
    "    num = 2\n",
    "    \n",
    "    # La crida a la funció recursiva amb els paràmetres actuals\n",
    "    ret = numbrix_backtracking(mat, (x,y), num)\n",
    "    \n",
    "    if ret:\n",
    "        print(format_board(np.array(ret)))\n",
    "    else:\n",
    "        print('No solution found')"
   ]
  },
  {
   "cell_type": "code",
   "execution_count": 91,
   "id": "93ed09f1-f850-41c7-b0fe-56b45e07df59",
   "metadata": {},
   "outputs": [
    {
     "name": "stdout",
     "output_type": "stream",
     "text": [
      "No solution found\n",
      "CPU times: total: 0 ns\n",
      "Wall time: 0 ns\n"
     ]
    }
   ],
   "source": [
    "%%time\n",
    "mat = np.array(\n",
    "      [[5, 0, 3],\n",
    "       [0, 1, 0],\n",
    "       [0, 0, 0]]\n",
    ")\n",
    "numbrix(mat)\n",
    "\n",
    "# +--------------+\n",
    "# |  5 |  4 |  3 | \n",
    "# +--------------+\n",
    "# |  6 |  1 |  2 | \n",
    "# +--------------+\n",
    "# |  7 |  8 |  9 | \n",
    "# +--------------+"
   ]
  },
  {
   "cell_type": "code",
   "execution_count": 92,
   "id": "a9105f61-11bf-4c04-9c7c-4e68b318b0e6",
   "metadata": {},
   "outputs": [
    {
     "ename": "IndexError",
     "evalue": "invalid index to scalar variable.",
     "output_type": "error",
     "traceback": [
      "\u001b[1;31m---------------------------------------------------------------------------\u001b[0m",
      "\u001b[1;31mIndexError\u001b[0m                                Traceback (most recent call last)",
      "File \u001b[1;32m<timed exec>:9\u001b[0m, in \u001b[0;36m<module>\u001b[1;34m\u001b[0m\n",
      "Input \u001b[1;32mIn [90]\u001b[0m, in \u001b[0;36mnumbrix\u001b[1;34m(mat)\u001b[0m\n\u001b[0;32m    109\u001b[0m num \u001b[38;5;241m=\u001b[39m \u001b[38;5;241m2\u001b[39m\n\u001b[0;32m    111\u001b[0m \u001b[38;5;66;03m# La crida a la funció recursiva amb els paràmetres actuals\u001b[39;00m\n\u001b[1;32m--> 112\u001b[0m ret \u001b[38;5;241m=\u001b[39m \u001b[43mnumbrix_backtracking\u001b[49m\u001b[43m(\u001b[49m\u001b[43mmat\u001b[49m\u001b[43m,\u001b[49m\u001b[43m \u001b[49m\u001b[43m(\u001b[49m\u001b[43mx\u001b[49m\u001b[43m,\u001b[49m\u001b[43my\u001b[49m\u001b[43m)\u001b[49m\u001b[43m,\u001b[49m\u001b[43m \u001b[49m\u001b[43mnum\u001b[49m\u001b[43m)\u001b[49m\n\u001b[0;32m    114\u001b[0m \u001b[38;5;28;01mif\u001b[39;00m ret:\n\u001b[0;32m    115\u001b[0m     \u001b[38;5;28mprint\u001b[39m(format_board(np\u001b[38;5;241m.\u001b[39marray(ret)))\n",
      "Input \u001b[1;32mIn [90]\u001b[0m, in \u001b[0;36mnumbrix_backtracking\u001b[1;34m(mat, current, num)\u001b[0m\n\u001b[0;32m     77\u001b[0m \u001b[38;5;28;01mfor\u001b[39;00m i \u001b[38;5;129;01min\u001b[39;00m \u001b[38;5;28mrange\u001b[39m(mat\u001b[38;5;241m.\u001b[39mshape[\u001b[38;5;241m0\u001b[39m]):\n\u001b[0;32m     78\u001b[0m     \u001b[38;5;28;01mfor\u001b[39;00m j \u001b[38;5;129;01min\u001b[39;00m \u001b[38;5;28mrange\u001b[39m(mat\u001b[38;5;241m.\u001b[39mshape[\u001b[38;5;241m1\u001b[39m]):\n\u001b[0;32m     79\u001b[0m         \u001b[38;5;66;03m#if(this move is valid): és a dir si té un veí que sigui la continuació\u001b[39;00m\n\u001b[1;32m---> 80\u001b[0m         \u001b[38;5;28;01mif\u001b[39;00m \u001b[43mveins\u001b[49m\u001b[43m(\u001b[49m\u001b[43mmat\u001b[49m\u001b[43m,\u001b[49m\u001b[43mcurrent\u001b[49m\u001b[43m)\u001b[49m:\n\u001b[0;32m     81\u001b[0m             \u001b[38;5;66;03m#do this move\u001b[39;00m\n\u001b[0;32m     82\u001b[0m             current \u001b[38;5;241m=\u001b[39m num\n\u001b[0;32m     83\u001b[0m             num \u001b[38;5;241m=\u001b[39m num\u001b[38;5;241m+\u001b[39m\u001b[38;5;241m1\u001b[39m\n",
      "Input \u001b[1;32mIn [90]\u001b[0m, in \u001b[0;36mveins\u001b[1;34m(mat, current)\u001b[0m\n\u001b[0;32m     10\u001b[0m \u001b[38;5;66;03m#columna de la dreta del tot -> només podem comprovar adalt, esquerra i abaix    \u001b[39;00m\n\u001b[0;32m     11\u001b[0m \u001b[38;5;28;01mif\u001b[39;00m(current[\u001b[38;5;241m1\u001b[39m]\u001b[38;5;241m==\u001b[39mmat\u001b[38;5;241m.\u001b[39mshape[\u001b[38;5;241m1\u001b[39m]\u001b[38;5;241m-\u001b[39m\u001b[38;5;241m1\u001b[39m):\n\u001b[1;32m---> 12\u001b[0m     \u001b[38;5;28;01mif\u001b[39;00m((mat[current[\u001b[38;5;241m0\u001b[39m]\u001b[38;5;241m-\u001b[39m\u001b[38;5;241m1\u001b[39m][current[\u001b[38;5;241m1\u001b[39m]] \u001b[38;5;241m==\u001b[39m mat[\u001b[43mcurrent\u001b[49m\u001b[43m[\u001b[49m\u001b[38;5;241;43m0\u001b[39;49m\u001b[43m]\u001b[49m\u001b[43m[\u001b[49m\u001b[38;5;241;43m1\u001b[39;49m\u001b[43m]\u001b[49m] \u001b[38;5;241m+\u001b[39m \u001b[38;5;241m1\u001b[39m) \u001b[38;5;129;01mor\u001b[39;00m \n\u001b[0;32m     13\u001b[0m     (mat[current[\u001b[38;5;241m0\u001b[39m]][current[\u001b[38;5;241m1\u001b[39m]\u001b[38;5;241m-\u001b[39m\u001b[38;5;241m1\u001b[39m] \u001b[38;5;241m==\u001b[39m mat[current[\u001b[38;5;241m0\u001b[39m][\u001b[38;5;241m1\u001b[39m]] \u001b[38;5;241m+\u001b[39m \u001b[38;5;241m1\u001b[39m) \u001b[38;5;129;01mor\u001b[39;00m\n\u001b[0;32m     14\u001b[0m     (mat[current[\u001b[38;5;241m0\u001b[39m]][current[\u001b[38;5;241m1\u001b[39m]\u001b[38;5;241m+\u001b[39m\u001b[38;5;241m1\u001b[39m] \u001b[38;5;241m==\u001b[39m mat[current[\u001b[38;5;241m0\u001b[39m][\u001b[38;5;241m1\u001b[39m]] \u001b[38;5;241m+\u001b[39m \u001b[38;5;241m1\u001b[39m)):\n\u001b[0;32m     15\u001b[0m         \u001b[38;5;28;01mreturn\u001b[39;00m \u001b[38;5;28;01mTrue\u001b[39;00m\n\u001b[0;32m     17\u001b[0m \u001b[38;5;66;03m#primera fila -> només podem comprovar dreta, esquerra i abaix\u001b[39;00m\n",
      "\u001b[1;31mIndexError\u001b[0m: invalid index to scalar variable."
     ]
    }
   ],
   "source": [
    "%%time\n",
    "mat = np.array(\n",
    "      [[ 0, 15, 10,  9,  8,  0],\n",
    "       [17,  0,  0,  0,  0,  6],\n",
    "       [18,  0, 12,  3,  0,  1],\n",
    "       [19,  0, 25, 26,  0, 30],\n",
    "       [20,  0,  0,  0,  0, 31],\n",
    "       [ 0, 22, 35, 34, 33,  0]]\n",
    ")\n",
    "numbrix(mat)\n",
    "\n",
    "# +-----------------------------+\n",
    "# | 16 | 15 | 10 |  9 |  8 |  7 | \n",
    "# +-----------------------------+\n",
    "# | 17 | 14 | 11 |  4 |  5 |  6 | \n",
    "# +-----------------------------+\n",
    "# | 18 | 13 | 12 |  3 |  2 |  1 | \n",
    "# +-----------------------------+\n",
    "# | 19 | 24 | 25 | 26 | 29 | 30 | \n",
    "# +-----------------------------+\n",
    "# | 20 | 23 | 36 | 27 | 28 | 31 | \n",
    "# +-----------------------------+\n",
    "# | 21 | 22 | 35 | 34 | 33 | 32 | \n",
    "# +-----------------------------+"
   ]
  },
  {
   "cell_type": "code",
   "execution_count": 15,
   "id": "8fad6823-c9d2-4bdd-a9fa-b24e54608552",
   "metadata": {},
   "outputs": [
    {
     "name": "stdout",
     "output_type": "stream",
     "text": [
      "No solution found\n",
      "CPU times: user 0 ns, sys: 0 ns, total: 0 ns\n",
      "Wall time: 184 µs\n"
     ]
    }
   ],
   "source": [
    "%%time\n",
    "mat = np.array(\n",
    "      [[ 0,27,22,21,20,0],\n",
    "       [29,0,0,0,0,18],\n",
    "       [30,0,0,0,0,13],\n",
    "       [31,0,0,0,0,12],\n",
    "       [36,0,0,0,0,5],\n",
    "       [ 0,34,1,2,3,0]]\n",
    ")\n",
    "numbrix(mat)\n",
    "\n",
    "# +-----------------------------+\n",
    "# | 28 | 27 | 22 | 21 | 20 | 19 | \n",
    "# +-----------------------------+\n",
    "# | 29 | 26 | 23 | 16 | 17 | 18 | \n",
    "# +-----------------------------+\n",
    "# | 30 | 25 | 24 | 15 | 14 | 13 | \n",
    "# +-----------------------------+\n",
    "# | 31 | 32 |  9 | 10 | 11 | 12 | \n",
    "# +-----------------------------+\n",
    "# | 36 | 33 |  8 |  7 |  6 |  5 | \n",
    "# +-----------------------------+\n",
    "# | 35 | 34 |  1 |  2 |  3 |  4 | \n",
    "# +-----------------------------+"
   ]
  }
 ],
 "metadata": {
  "kernelspec": {
   "display_name": "Python 3 (ipykernel)",
   "language": "python",
   "name": "python3"
  },
  "language_info": {
   "codemirror_mode": {
    "name": "ipython",
    "version": 3
   },
   "file_extension": ".py",
   "mimetype": "text/x-python",
   "name": "python",
   "nbconvert_exporter": "python",
   "pygments_lexer": "ipython3",
   "version": "3.10.5"
  }
 },
 "nbformat": 4,
 "nbformat_minor": 5
}
