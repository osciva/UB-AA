{
 "cells": [
  {
   "cell_type": "markdown",
   "id": "57d4dd92-5400-4018-8735-555311719ea4",
   "metadata": {},
   "source": [
    "<div style=\"padding:30px; color: white; background-color: #0071CD\">\n",
    "<center>\n",
    "<img src=\"img/logoub.jpeg\"></img>\n",
    "<h1>Algorísmica Avançada</h1>\n",
    "<h2>Segon Parcial 2022/2023</h2>\n",
    "</center>\n",
    "</div>"
   ]
  },
  {
   "cell_type": "markdown",
   "id": "655ed55b-8283-49be-a5f6-77c5259c2529",
   "metadata": {},
   "source": [
    "<div class=\"alert alert-success\">\n",
    "    <h1>Problema 1: Numbers with no consecutives 1's</h1>\n",
    "    <p>\n",
    "        We want to know how many binary numbers of $N$ digits exist that DO NOT have two consecutive 1's.<br>\n",
    "        For exemple, for $N=3$ there are 5 numbers: 000, 001, 010, 100, 101.<br><br>\n",
    "        Implement an algorithm that, using <b>dynammic programming</b>, returns how many binary numbers without two consecutive 1's exist by any value $N$. You can decide to implement one of these two functions <b>bin_count_td</b> or <b>bin_count_bu</b> using the top-down or bottom-up strategy, respectively.\n",
    "    </p>    \n",
    "    <p><b>Hint 1:</b> First, implement the recursive version that will help you to implement the dynammic programming function.</p>\n",
    "    <p><b>Hint 2:</b> The variable <b>last_digit</b> distinguishes the numbers that end in 1 from the ones that end in 0. When calling the function recursively, you have to take these two cases into account.</p>\n",
    "    <p><b>Hint 3:</b> To compute the $N$ case, you need to compute two values:\n",
    "    <ol>\n",
    "        <li> The amount of numbers of $N-1$ digits that end in 1.\n",
    "        <li> The amount of numbers of $N-1$ digits that end in 0.\n",
    "    </ol>\n",
    "    </p>\n",
    "    <p><b>Hint 4:</b> The dynammic programming table needs to be of size $2\\times (N+1)$.</p>\n",
    "   \n",
    "</div>"
   ]
  },
  {
   "cell_type": "markdown",
   "id": "564a63d9-a5f2-4420-a39f-c473b695a67d",
   "metadata": {},
   "source": [
    "<div class=\"alert alert-warning\">\n",
    "    <p><b>Answer if you implemented the TOP-DOWN or the BOTTOM-UP strategy (We will only correct one of them)</b></p>    \n",
    "    <p> YOUR ANSWER HERE </p>\n",
    "</div>"
   ]
  },
  {
   "cell_type": "code",
   "execution_count": 1,
   "id": "cb965e6c-4032-475d-874d-5fb4d6bdbb57",
   "metadata": {},
   "outputs": [],
   "source": [
    "# RECURSIVE VERSION (optional)\n",
    "def bin_count(n, last_digit=0):\n",
    "    \"\"\"\n",
    "    ========\n",
    "    OPTIONAL\n",
    "    ========\n",
    "    \n",
    "    Implement this function only if helps you to solve one of the two functions below.\n",
    "    \n",
    "    Params\n",
    "    ======\n",
    "    :n: Number of digits\n",
    "    :last_digit: A parameter that helps you to know with which digit ends the previous number in the recursive call.\n",
    "        If last_digit=0, we can either add a 1 or a 0 because we will not generate two consecutive ones.\n",
    "        If last_digit=1, we can only add a 0.\n",
    "    \n",
    "    Returns\n",
    "    =======\n",
    "    :num: The number of numbers of n digits with no consecutive 1's \n",
    "    \"\"\"\n",
    "    \n",
    "    return 0"
   ]
  },
  {
   "cell_type": "code",
   "execution_count": 2,
   "id": "1638a7d7-7ecc-4bd0-a955-cc34838299e4",
   "metadata": {},
   "outputs": [
    {
     "data": {
      "text/plain": [
       "0"
      ]
     },
     "execution_count": 2,
     "metadata": {},
     "output_type": "execute_result"
    }
   ],
   "source": [
    "bin_count(3) # Returns 5"
   ]
  },
  {
   "cell_type": "code",
   "execution_count": 3,
   "id": "f02f5bbf-31c6-4dcb-9ec7-eb980a57530c",
   "metadata": {},
   "outputs": [
    {
     "data": {
      "text/plain": [
       "[0, 0, 0, 0, 0, 0]"
      ]
     },
     "execution_count": 3,
     "metadata": {},
     "output_type": "execute_result"
    }
   ],
   "source": [
    "[bin_count(n) for n in range(4, 10)] # Returns [8, 13, 21, 34, 55, 89]"
   ]
  },
  {
   "cell_type": "code",
   "execution_count": 4,
   "id": "18383646-646d-41a6-9e7d-cb6b8f141f98",
   "metadata": {},
   "outputs": [],
   "source": [
    "# TOP-DOWN VERSION\n",
    "def bin_count_td(n, last_digit=0, dp=None):\n",
    "    \"\"\"\n",
    "    TOP-DOWN version of the previous algorithm.\n",
    "    \"\"\"\n",
    "    \n",
    "    return 0"
   ]
  },
  {
   "cell_type": "code",
   "execution_count": 5,
   "id": "729903f2-30ba-45bb-b419-5361fd56f52b",
   "metadata": {},
   "outputs": [
    {
     "data": {
      "text/plain": [
       "0"
      ]
     },
     "execution_count": 5,
     "metadata": {},
     "output_type": "execute_result"
    }
   ],
   "source": [
    "bin_count_td(3) # Returns 5"
   ]
  },
  {
   "cell_type": "code",
   "execution_count": 6,
   "id": "20f24a87-ed46-499e-b2a3-931ac5e2b203",
   "metadata": {},
   "outputs": [
    {
     "data": {
      "text/plain": [
       "[0, 0, 0, 0, 0, 0]"
      ]
     },
     "execution_count": 6,
     "metadata": {},
     "output_type": "execute_result"
    }
   ],
   "source": [
    "[bin_count_td(n) for n in range(4, 10)] # Returns [8, 13, 21, 34, 55, 89]"
   ]
  },
  {
   "cell_type": "code",
   "execution_count": 7,
   "id": "1828b809-4cd1-4597-9860-f49135c636d4",
   "metadata": {},
   "outputs": [],
   "source": [
    "# BOTTOM-UP VERSION\n",
    "def bin_count_bu(n):\n",
    "    \"\"\"\n",
    "    BOTTOM-UP version of the previous algorithm\n",
    "    \"\"\"\n",
    "    \n",
    "    return 0"
   ]
  },
  {
   "cell_type": "code",
   "execution_count": 8,
   "id": "f24df304-2821-44b9-b19f-7232e4a23c7c",
   "metadata": {},
   "outputs": [
    {
     "data": {
      "text/plain": [
       "0"
      ]
     },
     "execution_count": 8,
     "metadata": {},
     "output_type": "execute_result"
    }
   ],
   "source": [
    "bin_count_bu(3) # Returns 5"
   ]
  },
  {
   "cell_type": "code",
   "execution_count": 9,
   "id": "4bfb7313-686f-499d-bd1c-68e8b2a4062f",
   "metadata": {},
   "outputs": [
    {
     "data": {
      "text/plain": [
       "[0, 0, 0, 0, 0, 0]"
      ]
     },
     "execution_count": 9,
     "metadata": {},
     "output_type": "execute_result"
    }
   ],
   "source": [
    "[bin_count_bu(n) for n in range(4, 10)] # Returns [8, 13, 21, 34, 55, 89]"
   ]
  },
  {
   "cell_type": "markdown",
   "id": "94c41455-2638-4134-a7c7-e331e6c9ce43",
   "metadata": {
    "tags": []
   },
   "source": [
    "<div class=\"alert alert-success\">\n",
    "    <h1>Problema 2: Numbrix puzzle</h1>\n",
    "    <p>Given a matrix of postitive integers numbers and zeros (represented by the empy cells), the goal is to fill the cells with zeros so that it exists a path from the number 1 to the number $N = W \\times H$ where $W$ is the width and $H$ is the height. <br>We will supose that the number 1 always exist in the matrix. Implement an algorithm that, using <b>backtracking and/or branch and bound</b>, finds the solution of this problem.<br>\n",
    "        <center>\n",
    "        <img src=\"img/numbrix.png\" width='50%'></img>\n",
    "        </center>\n",
    "        <b>Help</b>: As you  had in the lab, you can use the functions <b>format_board</b> and <b>delayed_print</b> to help you visualize the board in any time.<br>\n",
    "        <b>Help</b>: Since we are working with numpy, it can return us an error if we check if the board exists. As we did in the lab, if you have the board 'mat' you can use the function <b>mat.tolist()</b> to convert it into a python list.\n",
    "    </p>    \n",
    "   \n",
    "</div>"
   ]
  },
  {
   "cell_type": "code",
   "execution_count": 10,
   "id": "938d6678-6e1c-4e35-bbdb-986f62ff9d32",
   "metadata": {},
   "outputs": [],
   "source": [
    "import numpy as np\n",
    "from IPython.display import clear_output\n",
    "from time import sleep, perf_counter\n",
    "import time\n",
    "\n",
    "def format_board(board):\n",
    "    \"\"\"\n",
    "    Auxiliary function\n",
    "    \"\"\"\n",
    "    _str = \"\"\n",
    "    for idx, i in enumerate(board):\n",
    "        _str+= \"+\"+ (\"-\"*((board.shape[1]*5)-1)) +\"+\\n\"\n",
    "        _str+= f\"| \"\n",
    "        \n",
    "        # Columns\n",
    "        for j in i:   \n",
    "            if j!=0:\n",
    "                _str+= f\"{str(j):>2}\"+\" | \"\n",
    "            else:\n",
    "                 _str+= \"   | \"\n",
    "        \n",
    "        _str+= f\"\\n\"\n",
    "    _str+= \"+\"+ (\"-\"*((board.shape[1]*5)-1))+\"+\\n\"\n",
    "    \n",
    "    return _str\n",
    "\n",
    "def delayed_print(grid, sleep_time=0.02):\n",
    "    \"\"\"\n",
    "    Auxiliary function that freezes the print function to see the canges in the board.\n",
    "    \"\"\"\n",
    "    print(format_board(grid))\n",
    "    clear_output(wait=True)\n",
    "    time.sleep(sleep_time)"
   ]
  },
  {
   "cell_type": "code",
   "execution_count": 11,
   "id": "a6234e24-8eb6-440a-a5fc-9f154de36adf",
   "metadata": {},
   "outputs": [],
   "source": [
    "def numbrix_backtracking(mat, current, num):\n",
    "    \n",
    "    # YOUR CODE HERE\n",
    "    \n",
    "    pass\n",
    "\n",
    "def numbrix(mat):\n",
    "    \"\"\"\n",
    "    Given a matrix with positive integers and zeros, tries to fill the empty cells so that it exists a continuous \n",
    "    path of integer numbers from 1 to N.\n",
    "    \n",
    "    Params\n",
    "    ======\n",
    "    :mat: A matrix of zeros and positive numbers.\n",
    "    \"\"\"\n",
    "    \n",
    "    # This line returns the coordinates (x, y) of the cell that contains a 1.\n",
    "    x,y = np.argwhere(mat==1)[0]\n",
    "    \n",
    "    # This is the next number we have to put.\n",
    "    num = 2\n",
    "    \n",
    "    # The call to the recursive function with the current parameters.\n",
    "    ret = numbrix_backtracking(mat, (x,y), num)\n",
    "    \n",
    "    if ret:\n",
    "        print(format_board(np.array(ret)))\n",
    "    else:\n",
    "        print('No solution found')"
   ]
  },
  {
   "cell_type": "code",
   "execution_count": 12,
   "id": "93ed09f1-f850-41c7-b0fe-56b45e07df59",
   "metadata": {},
   "outputs": [
    {
     "name": "stdout",
     "output_type": "stream",
     "text": [
      "No solution found\n",
      "CPU times: user 0 ns, sys: 0 ns, total: 0 ns\n",
      "Wall time: 167 µs\n"
     ]
    }
   ],
   "source": [
    "%%time\n",
    "mat = np.array(\n",
    "      [[5, 0, 3],\n",
    "       [0, 1, 0],\n",
    "       [0, 0, 0]]\n",
    ")\n",
    "numbrix(mat)\n",
    "\n",
    "# +--------------+\n",
    "# |  5 |  4 |  3 | \n",
    "# +--------------+\n",
    "# |  6 |  1 |  2 | \n",
    "# +--------------+\n",
    "# |  7 |  8 |  9 | \n",
    "# +--------------+"
   ]
  },
  {
   "cell_type": "code",
   "execution_count": 13,
   "id": "a9105f61-11bf-4c04-9c7c-4e68b318b0e6",
   "metadata": {},
   "outputs": [
    {
     "name": "stdout",
     "output_type": "stream",
     "text": [
      "No solution found\n",
      "CPU times: user 0 ns, sys: 0 ns, total: 0 ns\n",
      "Wall time: 149 µs\n"
     ]
    }
   ],
   "source": [
    "%%time\n",
    "mat = np.array(\n",
    "      [[ 0, 15, 10,  9,  8,  0],\n",
    "       [17,  0,  0,  0,  0,  6],\n",
    "       [18,  0, 12,  3,  0,  1],\n",
    "       [19,  0, 25, 26,  0, 30],\n",
    "       [20,  0,  0,  0,  0, 31],\n",
    "       [ 0, 22, 35, 34, 33,  0]]\n",
    ")\n",
    "numbrix(mat)\n",
    "\n",
    "# +-----------------------------+\n",
    "# | 16 | 15 | 10 |  9 |  8 |  7 | \n",
    "# +-----------------------------+\n",
    "# | 17 | 14 | 11 |  4 |  5 |  6 | \n",
    "# +-----------------------------+\n",
    "# | 18 | 13 | 12 |  3 |  2 |  1 | \n",
    "# +-----------------------------+\n",
    "# | 19 | 24 | 25 | 26 | 29 | 30 | \n",
    "# +-----------------------------+\n",
    "# | 20 | 23 | 36 | 27 | 28 | 31 | \n",
    "# +-----------------------------+\n",
    "# | 21 | 22 | 35 | 34 | 33 | 32 | \n",
    "# +-----------------------------+"
   ]
  },
  {
   "cell_type": "code",
   "execution_count": 14,
   "id": "8fad6823-c9d2-4bdd-a9fa-b24e54608552",
   "metadata": {},
   "outputs": [
    {
     "name": "stdout",
     "output_type": "stream",
     "text": [
      "No solution found\n",
      "CPU times: user 0 ns, sys: 0 ns, total: 0 ns\n",
      "Wall time: 175 µs\n"
     ]
    }
   ],
   "source": [
    "%%time\n",
    "mat = np.array(\n",
    "      [[ 0,27,22,21,20,0],\n",
    "       [29,0,0,0,0,18],\n",
    "       [30,0,0,0,0,13],\n",
    "       [31,0,0,0,0,12],\n",
    "       [36,0,0,0,0,5],\n",
    "       [ 0,34,1,2,3,0]]\n",
    ")\n",
    "numbrix(mat)\n",
    "\n",
    "# +-----------------------------+\n",
    "# | 28 | 27 | 22 | 21 | 20 | 19 | \n",
    "# +-----------------------------+\n",
    "# | 29 | 26 | 23 | 16 | 17 | 18 | \n",
    "# +-----------------------------+\n",
    "# | 30 | 25 | 24 | 15 | 14 | 13 | \n",
    "# +-----------------------------+\n",
    "# | 31 | 32 |  9 | 10 | 11 | 12 | \n",
    "# +-----------------------------+\n",
    "# | 36 | 33 |  8 |  7 |  6 |  5 | \n",
    "# +-----------------------------+\n",
    "# | 35 | 34 |  1 |  2 |  3 |  4 | \n",
    "# +-----------------------------+"
   ]
  }
 ],
 "metadata": {
  "kernelspec": {
   "display_name": "Python 3 (ipykernel)",
   "language": "python",
   "name": "python3"
  },
  "language_info": {
   "codemirror_mode": {
    "name": "ipython",
    "version": 3
   },
   "file_extension": ".py",
   "mimetype": "text/x-python",
   "name": "python",
   "nbconvert_exporter": "python",
   "pygments_lexer": "ipython3",
   "version": "3.9.10"
  }
 },
 "nbformat": 4,
 "nbformat_minor": 5
}
