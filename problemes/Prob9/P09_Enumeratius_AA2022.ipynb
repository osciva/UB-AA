{
 "cells": [
  {
   "cell_type": "markdown",
   "metadata": {},
   "source": [
    "<div style=\"padding:30px; color: white; background-color: #0071CD\">\n",
    "<center>\n",
    "<img src=\"img/logoub.jpeg\"></img>\n",
    "<center>\n",
    "<h1>Algorísmica Avançada 2022</h1>\n",
    "<h2>Problemes 9 - Enumeratius: Backtracking</h2>\n",
    "</center>\n",
    "</div>"
   ]
  },
  {
   "cell_type": "code",
   "execution_count": 1,
   "metadata": {},
   "outputs": [
    {
     "data": {
      "text/html": [
       "<style>.container { width:100% !important; }</style>"
      ],
      "text/plain": [
       "<IPython.core.display.HTML object>"
      ]
     },
     "metadata": {},
     "output_type": "display_data"
    }
   ],
   "source": [
    "from IPython.display import display, HTML\n",
    "display(HTML(\"<style>.container { width:100% !important; }</style>\"))"
   ]
  },
  {
   "cell_type": "markdown",
   "metadata": {},
   "source": [
    "<img src=\"img/backscheme.png\" width='40%'/>"
   ]
  },
  {
   "cell_type": "markdown",
   "metadata": {
    "tags": []
   },
   "source": [
    "<div class=\"alert alert-success\">\n",
    "    <h1>Problema 1: Cartes</h1>\n",
    "    <p>\n",
    "        Considerem un conjunt de parelles de cartes del mateix número fins a un valor donat, $N$. Per a $N=3$ tindríem les cartes: $1,1,2,2,3,3$.<br>\n",
    "    Volem trobar una ordenació d'aquest conjunt de cartes de forma que, entre dos cartes d'un mateix valor $n=1,...,N$ hi hagi exactament $n$ cartes. Per a $N=3$ una solució seria:\n",
    "        $$3-1-2-1-3-2$$\n",
    "    Observeu que entre les cartes de valor $1$ hi ha una sola carta, entre les de valor $2$, dues cartes i el mateix per a les cartes de valor $3$.<br>\n",
    "    Implementeu el problema de les cartes on, donat un enter, $N$, mostri, si existeix, la solució al problema.\n",
    "    <br>\n",
    "    <br>\n",
    "        <b>Pista1:</b> Comenceu posant els números més grans ja que són els més problemàtics.</p>\n",
    "        <b>Pista2:</b> Donada una llista, per exemple: <b>mylist=[3,2,0,0,0]</b> la funció <b>mylist.index(0)</b> retorna $2$ que és la posició del primer zero que apareix.\n",
    "    \n",
    "</div>"
   ]
  },
  {
   "cell_type": "code",
   "execution_count": 2,
   "metadata": {},
   "outputs": [],
   "source": [
    "def solve_deck(N):   \n",
    "    # Inicialitzem un vector on escriurem la solució de mida 2N\n",
    "    # Inicialment no tenim cap número visitat\n",
    "    solution = solve_deck_backtracking(N, [0]*(2*N), set([]))\n",
    "    \n",
    "    if not solution:\n",
    "        return f\"N={N:<2}: No s'ha trobat solució\"\n",
    "    return f\"N={N:<2}: {solution}\"\n",
    "\n",
    "\n",
    "def solve_deck_backtracking(N, solution, placed_nums):\n",
    "    \"\"\"\n",
    "    Aquesta funció implementa l'estratègia de backtracking per al problema de les cartes\n",
    "\n",
    "    Params\n",
    "    ======\n",
    "    :N: El número de la parella de cartes de major valor\n",
    "    :solution: Una llista amb la solució temporal \n",
    "    :placed_nums: Un conjunt dels nombres que ja hem col·locat\n",
    "\n",
    "    Returns\n",
    "    =======\n",
    "    :_str: Un string mostrant el resultat, en cas que existeixi o un 'error' en cas que no.\n",
    "           Internament retornarem un booleà per aturar la recursió.\n",
    "    \"\"\"\n",
    "    \n",
    "    # EL TEU CODI AQUÍ\n",
    "    \n",
    "    return False              "
   ]
  },
  {
   "cell_type": "code",
   "execution_count": 3,
   "metadata": {},
   "outputs": [
    {
     "name": "stdout",
     "output_type": "stream",
     "text": [
      "N=3 : No s'ha trobat solució\n"
     ]
    }
   ],
   "source": [
    "print(solve_deck(3))"
   ]
  },
  {
   "cell_type": "code",
   "execution_count": 4,
   "metadata": {},
   "outputs": [
    {
     "name": "stdout",
     "output_type": "stream",
     "text": [
      "N=1 : No s'ha trobat solució\n",
      "N=2 : No s'ha trobat solució\n",
      "N=3 : No s'ha trobat solució\n",
      "N=4 : No s'ha trobat solució\n",
      "N=5 : No s'ha trobat solució\n",
      "N=6 : No s'ha trobat solució\n",
      "N=7 : No s'ha trobat solució\n",
      "N=8 : No s'ha trobat solució\n",
      "N=9 : No s'ha trobat solució\n",
      "N=10: No s'ha trobat solució\n",
      "N=11: No s'ha trobat solució\n",
      "N=12: No s'ha trobat solució\n"
     ]
    }
   ],
   "source": [
    "for N in range(1,13):\n",
    "    print(solve_deck(N))"
   ]
  },
  {
   "cell_type": "markdown",
   "metadata": {},
   "source": [
    "<div class=\"alert alert-success\">\n",
    "    <h1>Problema 2: N-Queens</h1>\n",
    "    <p>\n",
    "        Implementeu el problema de les reines. Donat un tauler de tamany $N\\times N$ i $N$ reines del joc dels escacs, l'objectiu és col·locar-les totes, si és possible, sense que s'ataquin entre si. Recordeu que dues reines s'ataquen entre si si estan situades a la mateixa fila, a la mateixa columna o a la mateixa diagonal.\n",
    "    </p><br>\n",
    "    <b>Pista:</b> Podeu aplicar l'estratègia de col·locar una reina per columna, començant a la columna 0. Si seguiu aquesta estratègia podeu utilitzar la funció <b>check_position_previous_columns</b> per a comprovar si una posició és segura.\n",
    "</div>"
   ]
  },
  {
   "cell_type": "markdown",
   "metadata": {},
   "source": [
    "<img src=\"https://i.imgur.com/FYu8t3s.gif\" width='25%'/>"
   ]
  },
  {
   "cell_type": "code",
   "execution_count": 5,
   "metadata": {},
   "outputs": [],
   "source": [
    "def format_board(board):\n",
    "    \"\"\"\n",
    "    Aquesta funció retorna una visualització per al problema de les N-Reines\n",
    "    \n",
    "    Params\n",
    "    ======\n",
    "    :board: Un llista de llistes amb 0's (posicions buides) i 1's (posicions amb reines)\n",
    "    \n",
    "    Returns\n",
    "    =======\n",
    "    :_str: Una representació del tauler en format string\n",
    "    \"\"\"\n",
    "    _str = \"+\"\n",
    "    for i in board[0]:\n",
    "        _str += \"---+\"\n",
    "    _str += \"\\n\"\n",
    "    for i in board:\n",
    "        _str += \"|\"\n",
    "        for j in i:\n",
    "            _str += \"   |\" if j == 0 else \" Q |\"\n",
    "        _str +=\"\\n+\"\n",
    "        for j in i:\n",
    "            _str += \"---+\"\n",
    "        _str +=\"\\n\"\n",
    "    return _str\n",
    "\n",
    "\n",
    "def check_position_previous_columns(board, row, col):\n",
    "    \"\"\"\n",
    "    Aquesta funció comprova si es pot posar una reina a la posició (row, col) en l'estratègia d'anar\n",
    "    posant reines per columnes. Només comprova les columnes anteriors a la que estem col·locant la reina.\n",
    "    \n",
    "    Params\n",
    "    ======\n",
    "    :board: Un matriu de mida NxN amb 0's i 1's\n",
    "    :row, col: Una posició on voldríem colocar una nova reina\n",
    "    \n",
    "    Returns\n",
    "    =======\n",
    "    :True/False: Depenent de si es pot col·locar o no una nova reina en la posició (row,col)\n",
    "    \"\"\"\n",
    "    \n",
    "    # Comprovem les columnes anteriors de la fila 'row'\n",
    "    for i in range(col):\n",
    "        if board[row][i] == 1:\n",
    "            return False\n",
    "\n",
    "    # Comprovem la diagonal inferior\n",
    "    for i, j in zip(range(row, -1, -1), range(col, -1, -1)):\n",
    "        if board[i][j] == 1:\n",
    "            return False\n",
    "\n",
    "    # Comprovem la diagonal superior\n",
    "    for i, j in zip(range(row, len(board), 1), range(col, -1, -1)):\n",
    "        if board[i][j] == 1:\n",
    "            return False\n",
    "\n",
    "    return True\n",
    "\n",
    "  \n",
    "def solve_queens(N):\n",
    "    \"\"\"\n",
    "    Aquesta funció soluciona el problema de les N-Reines.\n",
    "    \n",
    "    Params\n",
    "    ======\n",
    "    :N: Un enter amb la mida del tauler, NxN i el nombre de reines que hi col·locarem\n",
    "    \n",
    "    Returns\n",
    "    =======\n",
    "    :_str: El tauler en format string amb les reines col·locades en cas que existeixi una solució o un missatge d'error\n",
    "           en cas que no sigui possible.\n",
    "    \"\"\"    \n",
    "    board = [[0]*N for _ in range(N)]    \n",
    "    solution = solve_queens_backtracking(N, board, 0)\n",
    "    \n",
    "    if not solution:\n",
    "        return f'N={N}: No té solució'\n",
    "    return f'N={N}:\\n{format_board(solution)}'\n",
    "\n",
    "\n",
    "\n",
    "def solve_queens_backtracking(N, board, col):\n",
    "    \"\"\"\n",
    "    Aquesta funció implementa l'estratègia de backtracking per al problema de les reines\n",
    "\n",
    "    Params\n",
    "    ======\n",
    "    :N: El número de reines que estem considerant\n",
    "    :board: Llista de llistes amb la graella de posicions \n",
    "    :col: Columna on volem posar la propera reina\n",
    "\n",
    "    Returns\n",
    "    =======\n",
    "    :b: La graella 'board' mostrant el resultat, en cas que existeixi o un 'error' en cas que no.\n",
    "        Internament retornarem un booleà per aturar la recursió.\n",
    "    \"\"\"\n",
    "    \n",
    "    # EL TEU CODI AQUÍ\n",
    "    \n",
    "    return False"
   ]
  },
  {
   "cell_type": "code",
   "execution_count": 6,
   "metadata": {},
   "outputs": [
    {
     "name": "stdout",
     "output_type": "stream",
     "text": [
      "N=2: No té solució\n",
      "N=4: No té solució\n",
      "N=17: No té solució\n"
     ]
    }
   ],
   "source": [
    "print(solve_queens(2))\n",
    "print(solve_queens(4))\n",
    "print(solve_queens(17))"
   ]
  },
  {
   "cell_type": "markdown",
   "metadata": {},
   "source": [
    "<div class=\"alert alert-success\">\n",
    "    <h1>Problema 3: Conjunts de suma $K$</h1>\n",
    "    <p>\n",
    "        Donada una llista d'elements i un valor enter $K$, volem trobar tots els subconjunts de la llista que sumen $K$.<br><br>\n",
    "        <b>Pista:</b> Podeu seguir la mateixa estructura que els exercicis anteriors però fent un 'print' en comptes d'un 'return True' després de fer la crida recursiva.\n",
    "    </p>\n",
    "</div>"
   ]
  },
  {
   "cell_type": "code",
   "execution_count": 7,
   "metadata": {},
   "outputs": [],
   "source": [
    "def sum_K(lst, K):\n",
    "    \"\"\"\n",
    "    Resol el problema dels conjunts de suma K\n",
    "    \n",
    "    Params\n",
    "    ======\n",
    "    :lst: Llista d'elements\n",
    "    :K: Valor de suma\n",
    "    \"\"\"\n",
    "    sum_K_backtracking(lst, K, 0, 0, [])\n",
    "\n",
    "\n",
    "def sum_K_backtracking(lst, K, tmp_sum, idx, sub_list):\n",
    "    \"\"\"\n",
    "    Aquesta funció implementa l'estratègia de backtracking per al problema de la suma K\n",
    "\n",
    "    Params\n",
    "    ======\n",
    "    :lst: La lllista d'elements a considerar\n",
    "    :K: El valor de suma\n",
    "    :tmp_sum: La suma temporal acumulada fins el moment en el procés de recursió\n",
    "    :idx: L'índex de l'element actual que estem considerant\n",
    "    :sub_list: La llista d'elements actual que estem considerant i on anirem afegint elements mentre hi càpiguen.\n",
    "\n",
    "    Returns\n",
    "    =======\n",
    "    :b: Un booleà que ens controlarà internament el procés de recursió.\n",
    "        En aquest cas no retornarà res més ja que imprimirem cada cop que trobem una nova solució\n",
    "    \"\"\"\n",
    "    \n",
    "    # EL TEU CODI AQUÍ\n",
    "            \n",
    "    return False"
   ]
  },
  {
   "cell_type": "code",
   "execution_count": 8,
   "metadata": {},
   "outputs": [],
   "source": [
    "sum_K([2,3,4,6,5], 11)\n",
    "\n",
    "# Ha d'imprimir:\n",
    "# [2, 3, 6]\n",
    "# [2, 4, 5]\n",
    "# [6, 5]"
   ]
  },
  {
   "cell_type": "markdown",
   "metadata": {},
   "source": [
    "<div class=\"alert alert-success\">\n",
    "    <h1>Problema 4: Divisió</h1>\n",
    "    <p>\n",
    "        Donat un nombre $N$ parell i un nombre $M$, volem trobar dos nombres $x$, $y$ de $\\dfrac{N}{2}$ xifres tal que:\n",
    "        <ul>\n",
    "            <li> Se satisfà que la divisió entera entre un i l'altre és exactament $M$, és a dir, $\\dfrac{x}{y}=M$.\n",
    "            <li> Totes les xifres $0,...,N-1$ formen part o bé de $x$ o bé $y$ però no d'ambdós nombres.\n",
    "    </ul>\n",
    "    </p>\n",
    "</div>"
   ]
  },
  {
   "cell_type": "markdown",
   "metadata": {},
   "source": [
    "Exemple:\n",
    "\n",
    "Considerant $N=6$ i $M=2$ volem trobar dos nombres de 3 xifres.<br>\n",
    "Observeu que els nombres $x=304$, $y=152$ satisfan:\n",
    "- $\\dfrac{x}{y} = M$ ja que $\\dfrac{304}{152} = 2$.\n",
    "- Les xifres de $x$ i $y$ són exactament tots els nombres des de $0$ fins a $N-1$, és a dir: $\\{0, 1, 2, 3, 4, 5\\}$\n"
   ]
  },
  {
   "cell_type": "code",
   "execution_count": 9,
   "metadata": {},
   "outputs": [],
   "source": [
    "def division(N, M):\n",
    "    \"\"\"\n",
    "    Soluciona el problema de la divisió. Donat dos enters N i M, volem trobar dos nombres x, y tals que\n",
    "    x i y contenen tote les xifres entre 0 i N-1 i x/y = M.\n",
    "    \n",
    "    Params\n",
    "    ======\n",
    "    :N: Els dos nombres que busquem estan formats per N/2 xifres.\n",
    "    :M: Els dos nombres que busquem x, y, satisfan que x/y = M\n",
    "    \n",
    "    Returns\n",
    "    =======\n",
    "    :x,y: Una parella de nombres que satisfà la condició.\n",
    "    \"\"\"\n",
    "    x, y = 0, 0\n",
    "    \n",
    "    # EL TEU CODI AQUÍ\n",
    "    \n",
    "    return x, y\n",
    "\n",
    "\n",
    "#\n",
    "# LA TEVA FUNCIÓ BACKTRACKING AQUÍ    \n",
    "#"
   ]
  },
  {
   "cell_type": "code",
   "execution_count": 10,
   "metadata": {},
   "outputs": [
    {
     "data": {
      "text/plain": [
       "(0, 0)"
      ]
     },
     "execution_count": 10,
     "metadata": {},
     "output_type": "execute_result"
    }
   ],
   "source": [
    "division(6, 2) # Retorna (304, 152) o bé (430, 215)"
   ]
  },
  {
   "cell_type": "code",
   "execution_count": 11,
   "metadata": {},
   "outputs": [
    {
     "data": {
      "text/plain": [
       "(0, 0)"
      ]
     },
     "execution_count": 11,
     "metadata": {},
     "output_type": "execute_result"
    }
   ],
   "source": [
    "division(10, 62) # Retorna (79546, 1283) o bé (94736, 1528) (observeu que el zero forma part del segon nombre )"
   ]
  }
 ],
 "metadata": {
  "kernelspec": {
   "display_name": "Python 3 (ipykernel)",
   "language": "python",
   "name": "python3"
  },
  "language_info": {
   "codemirror_mode": {
    "name": "ipython",
    "version": 3
   },
   "file_extension": ".py",
   "mimetype": "text/x-python",
   "name": "python",
   "nbconvert_exporter": "python",
   "pygments_lexer": "ipython3",
   "version": "3.8.8"
  }
 },
 "nbformat": 4,
 "nbformat_minor": 4
}
