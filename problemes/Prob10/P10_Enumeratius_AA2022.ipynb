{
 "cells": [
  {
   "cell_type": "markdown",
   "metadata": {},
   "source": [
    "<div style=\"padding:30px; color: white; background-color: #0071CD\">\n",
    "<center>\n",
    "<img src=\"img/logoub.jpeg\"></img>\n",
    "<center>\n",
    "<h1>Algorísmica Avançada 2022</h1>\n",
    "<h2>Problemes 10 - Enumeratius: Ramificació i Poda</h2>\n",
    "</center>\n",
    "</div>"
   ]
  },
  {
   "cell_type": "code",
   "execution_count": 1,
   "metadata": {},
   "outputs": [
    {
     "data": {
      "text/html": [
       "<style>.container { width:100% !important; }</style>"
      ],
      "text/plain": [
       "<IPython.core.display.HTML object>"
      ]
     },
     "metadata": {},
     "output_type": "display_data"
    }
   ],
   "source": [
    "from IPython.display import display, HTML\n",
    "display(HTML(\"<style>.container { width:100% !important; }</style>\"))"
   ]
  },
  {
   "cell_type": "code",
   "execution_count": 2,
   "metadata": {},
   "outputs": [],
   "source": [
    "import numpy as np\n",
    "from queue import PriorityQueue"
   ]
  },
  {
   "cell_type": "markdown",
   "metadata": {},
   "source": [
    "<div class=\"alert alert-success\">\n",
    "    <h1>Problema 1: Job Sequencing with deadlines</h1>\n",
    "    <br> Suposem que tenim un conjunt de tasques a realitzar, $J_1,\\dots,J_n$. Cada una d'elles té assignada una penalització per no realitzar-la a temps $p_1,\\dots,p_n$, un temps de durada de la tasca $t_1,\\dots,t_n$ i un temps de deadline: $d_1,\\dots,d_n$.<br><br>\n",
    "    Implementeu un algoritme que trobi quines tasques hem de realitzar i quines no per a tenir una penalització mínima. La funció ha de retornar les tasques realitzades i la penalització mínima obtinguda (la suma de les tasques que descartem).\n",
    "    <br>\n",
    "</div>"
   ]
  },
  {
   "cell_type": "markdown",
   "metadata": {},
   "source": [
    "Un exemple concret:\n",
    "\n",
    "| Tasca (Ji)  | 1 | 2 | 3 | 4 | \n",
    "| --- | --- | --- | --- | --- |\n",
    "| Penalització  | 5 | 10 | 6 | 3 | \n",
    "| Deadline  | 1 | 3 | 2 | 1 | \n",
    "| Temps  | 1 | 2 | 1 | 1 | "
   ]
  },
  {
   "cell_type": "markdown",
   "metadata": {},
   "source": [
    "Considerem la notació següent:\n",
    "\n",
    "Sigui $x$ un node, $S_x$ les tasques agafades en el node $x$:\n",
    "\n",
    "$$m(x) = \\max\\{i\\ |\\ i\\in S_x\\} \\ \\ \\ \\ \\ \\ \\text{És l'última tasca que forma part de la solució}$$\n",
    "<br>\n",
    "$$s(x) = \\sum_{i\\in S_x}t_i \\ \\ \\ \\ \\ \\ \\text{És la suma dels temps que tardem a fer les tasques selecionades}$$\n",
    "<br>\n",
    "$$d(x) = \\max\\{d_i\\ |\\ i\\in S_x\\} \\ \\ \\ \\ \\ \\ \\text{És el deadline màxim de les tasques que formen part de la solució}$$\n",
    "<br>\n",
    "$$c(x) = \\sum_{i<m,\\ i\\notin S_x}p_i\\ \\ \\ \\ \\ \\ \\text{És el cost de no considerar un seguit de tasques}$$\n",
    "<br>\n",
    "$$u(x) = \\sum_{i\\notin S_x}p_i \\ \\ \\ \\ \\ \\ \\text{És la cota superior de les penalitzacions}$$\n",
    "<br>\n",
    "$$sup = \\infty \\ \\ \\ \\ \\ \\ \\text{Aquí guardarem la millor cota trobada fins al moment} $$"
   ]
  },
  {
   "cell_type": "markdown",
   "metadata": {},
   "source": [
    "Anem a resoldre el problema. A l'acabar, ens ha de quedar un arbre com el següent:"
   ]
  },
  {
   "cell_type": "markdown",
   "metadata": {},
   "source": [
    "<center><img src=\"img/tree.png\" width='50%'/></center>"
   ]
  },
  {
   "cell_type": "markdown",
   "metadata": {},
   "source": [
    "Acabeu d'omplir la següent taula d'execució:\n",
    "\n",
    "| Node  | S_x | m(x) | s(x) | d(x) | c(x) | u(x) | sup |\n",
    "| --- | --- | --- | --- | --- | --- | --- | --- |\n",
    "| 1 | {} | - | 0 | 0 | 0 | 5+10+6+3=24 | 24 |\n",
    "| 2 | {1} | 1 | 1 | 1 | 0 | 10+6+3=19 | 19 |\n",
    "| 3 |  |  |  | |  | | |\n",
    "| 4 |  |  |  | |  | | |\n",
    "| 5 |  |  |  | |  | | |\n",
    "| 6 |  |  |  | |  | | |\n",
    "| 7 |  |  |  | |  | | |\n",
    "| 8 |  |  |  | |  | | |\n",
    "| 9 |  |  |  | |  | | |\n",
    "| 10 |  |  |  | |  | | |"
   ]
  },
  {
   "cell_type": "markdown",
   "metadata": {},
   "source": [
    "Un parell de coses a considerar durant la implementació:\n",
    "+ Us recomanem guardar 6 variables a la PriorityQueue: $c(x)$, $u(x)$, $S_x$, $s(x)$, $d(x)$ i $m(x)$. Extraureu sempre el node amb cost més baix.\n",
    "+ A part de considerar les cotes $c(x)$ i $sup$ a l'hora d'afegir un nou node a la PQ, heu de controlar també els temps/deadlines. Una forma fàcil és comprovar que la suma de totes les tasques de la solució $s(x)$ és menor o igual al valor $d(x)$."
   ]
  },
  {
   "cell_type": "code",
   "execution_count": 3,
   "metadata": {},
   "outputs": [],
   "source": [
    "def compute_c(jobs, m, Sx):\n",
    "    \"\"\"\n",
    "    Donada la llista de tasques, el valor m i les tasques seleccionades, calcula el valor c(x)\n",
    "    \"\"\"\n",
    "    c = 0\n",
    "    return c\n",
    "\n",
    "def compute_u(jobs, Sx):\n",
    "    \"\"\"\n",
    "    Donada la llista de tasques i les tasques seleccionades, calcula el valor u(x)\n",
    "    \"\"\"\n",
    "    u = 0\n",
    "    return u\n",
    "\n",
    "def solve_jobs(jobs):\n",
    "    \"\"\"\n",
    "    Soluciona el problema de les tasques\n",
    "    \"\"\"\n",
    "    \n",
    "    # Millor solució trobada. Inicialment té cota infinit\n",
    "    sup = np.inf\n",
    "    best_Sx = None\n",
    "    \n",
    "    # Guardem en una cua de prioritat els nodes\n",
    "    # Guardarem les variables:\n",
    "    # 1. Cost, c(x)\n",
    "    # 2. Cota superior, u(x)\n",
    "    # 3. Tasques que hem agafat fins al moment, S_x \n",
    "    # 4. Suma dels temps de les tasques de S_x, s(x)\n",
    "    # 5. Màxim dels deadlines de les tasques de S_x, d(x)\n",
    "    # 6. Valor m(x)\n",
    "    \n",
    "    # Inicialitzem la cua de prioritat i els diferents valors que guardarem\n",
    "    pq = PriorityQueue()\n",
    "    Sx = set()\n",
    "    m = 0\n",
    "    s = 0\n",
    "    mx = 0\n",
    "    c = compute_c(jobs, m, Sx)\n",
    "    u = compute_u(jobs, Sx)\n",
    "    \n",
    "    pq.put((c, u, Sx, s, mx, m))\n",
    "    \n",
    "    while not pq.empty():\n",
    "        \n",
    "        # Obtenim un nou element de la cua, el de més baix cost\n",
    "        current_c, current_u, current_Sx, current_sum, current_mx, current_m = pq.get()        \n",
    "    \n",
    "        # EL TEU CODI AQUÍ\n",
    "        \n",
    "    return best_Sx, sup"
   ]
  },
  {
   "cell_type": "code",
   "execution_count": 4,
   "metadata": {},
   "outputs": [
    {
     "data": {
      "text/plain": [
       "(None, inf)"
      ]
     },
     "execution_count": 4,
     "metadata": {},
     "output_type": "execute_result"
    }
   ],
   "source": [
    "# Retorna ({1, 2}, 0)\n",
    "jobs = [(1, 10, 3, 2),\n",
    "        (2, 3, 1, 1)]\n",
    "solve_jobs(jobs)"
   ]
  },
  {
   "cell_type": "code",
   "execution_count": 5,
   "metadata": {},
   "outputs": [
    {
     "data": {
      "text/plain": [
       "(None, inf)"
      ]
     },
     "execution_count": 5,
     "metadata": {},
     "output_type": "execute_result"
    }
   ],
   "source": [
    "# Retorna ({2, 3}, 8)\n",
    "jobs = [(1, 5, 1, 1),\n",
    "        (2, 10, 3, 2),\n",
    "        (3, 6, 2, 1),\n",
    "        (4, 3, 1, 1)]\n",
    "solve_jobs(jobs)"
   ]
  },
  {
   "cell_type": "markdown",
   "metadata": {},
   "source": [
    "<div class=\"alert alert-success\">\n",
    "    <h1>Problema 2: Sliding-Puzzle</h1>\n",
    "    <br>\n",
    "    Donat un taulell de $n\\times n$ de nombres des d'$1$ fins a $n^2-1$ inicialment desordenats, volem trobar el nombre mínim de moviments possibles de manera que els nombres estiguin ordenats en ordre creixent i la casella sense número estigui a l'última posició.\n",
    "</div>"
   ]
  },
  {
   "cell_type": "markdown",
   "metadata": {},
   "source": [
    "<img src=\"https://www.researchgate.net/profile/Ruo-Ando/publication/347300656/figure/fig1/AS:969204928901121@1608087870493/Initial-state-and-goal-state-of-8-puzzle.ppm\" width='50%'/>"
   ]
  },
  {
   "cell_type": "code",
   "execution_count": 6,
   "metadata": {
    "scrolled": true
   },
   "outputs": [
    {
     "name": "stdout",
     "output_type": "stream",
     "text": [
      "Un tauler aleatori:\n",
      "+-----------+\n",
      "| 1 | 5 | 2 | \n",
      "+-----------+\n",
      "| 8 |   | 3 | \n",
      "+-----------+\n",
      "| 4 | 7 | 6 | \n",
      "+-----------+\n",
      "\n"
     ]
    }
   ],
   "source": [
    "from npuzzle import NPuzzle\n",
    "\n",
    "# Inicialitzem un tauler i el barregem\n",
    "board = NPuzzle()\n",
    "board.create_board(n=3, moves=100)\n",
    "\n",
    "print (\"Un tauler aleatori:\")\n",
    "print(board)"
   ]
  },
  {
   "cell_type": "markdown",
   "metadata": {},
   "source": [
    "La funció ``get_state_id`` ens retorna un 'string' amb la configuració del tauler. D'aquesta forma podrem guardar els estats que ja hem visitat per a no repetir-los\n"
   ]
  },
  {
   "cell_type": "code",
   "execution_count": 7,
   "metadata": {},
   "outputs": [
    {
     "data": {
      "text/plain": [
       "'1,5,2,8,0,3,4,7,6'"
      ]
     },
     "execution_count": 7,
     "metadata": {},
     "output_type": "execute_result"
    }
   ],
   "source": [
    "board.get_state_id()"
   ]
  },
  {
   "cell_type": "markdown",
   "metadata": {},
   "source": [
    "Per a cada tauler, podem definir una cota que depèn del nombre de moviments que hem fet fins al moment i un valor optimista calculat com una 'distància' entre el tauler que estem considerant i el tauler objectiu.\n",
    "\n",
    "$$C(X) = g(X) + h(X)$$\n",
    "+ $g(X)$ és el nombre de passos que portem fins el moment.\n",
    "+ $h(X)$ pot ser:\n",
    "    + $h_1(X)$: El nombre de caselles que no estan al seu lloc sense tenir en compte la casella buida (hamming_distance)\n",
    "    + $h_2(X)$: La suma de les distàncies de manhattan de cada casella al seu lloc correcte (manhattan_distance)"
   ]
  },
  {
   "cell_type": "code",
   "execution_count": 8,
   "metadata": {},
   "outputs": [
    {
     "data": {
      "text/plain": [
       "7"
      ]
     },
     "execution_count": 8,
     "metadata": {},
     "output_type": "execute_result"
    }
   ],
   "source": [
    "board.hamming_distance() # h1(X)"
   ]
  },
  {
   "cell_type": "code",
   "execution_count": 9,
   "metadata": {},
   "outputs": [
    {
     "data": {
      "text/plain": [
       "8"
      ]
     },
     "execution_count": 9,
     "metadata": {},
     "output_type": "execute_result"
    }
   ],
   "source": [
    "board.manhattan_distance() # h2(X)"
   ]
  },
  {
   "cell_type": "markdown",
   "metadata": {},
   "source": [
    "Podem demanar quins moviments són valids des d'una configuració del tauler amb la funció ``allowed_moves()``. Un moviment consisteix en 'moure' la casella buida en una de les quatre direccions permeses:<br>\n",
    "+ $L$: Left\n",
    "+ $R$: Right\n",
    "+ $U$: Up\n",
    "+ $D$: Down"
   ]
  },
  {
   "cell_type": "code",
   "execution_count": 10,
   "metadata": {},
   "outputs": [
    {
     "name": "stdout",
     "output_type": "stream",
     "text": [
      "['L', 'R', 'U', 'D']\n"
     ]
    }
   ],
   "source": [
    "am = board.allowed_moves()\n",
    "print(am)"
   ]
  },
  {
   "cell_type": "markdown",
   "metadata": {},
   "source": [
    "Executem un moviment amb la funció ``move()``"
   ]
  },
  {
   "cell_type": "code",
   "execution_count": 11,
   "metadata": {},
   "outputs": [
    {
     "name": "stdout",
     "output_type": "stream",
     "text": [
      "+-----------+\n",
      "| 1 | 5 | 2 | \n",
      "+-----------+\n",
      "|   | 8 | 3 | \n",
      "+-----------+\n",
      "| 4 | 7 | 6 | \n",
      "+-----------+\n",
      "\n"
     ]
    }
   ],
   "source": [
    "new_board = board.move(am[0])\n",
    "print(new_board)"
   ]
  },
  {
   "cell_type": "markdown",
   "metadata": {},
   "source": [
    "La funció state ens comprova si el nostre estat és un estat solució."
   ]
  },
  {
   "cell_type": "code",
   "execution_count": 12,
   "metadata": {},
   "outputs": [
    {
     "data": {
      "text/plain": [
       "False"
      ]
     },
     "execution_count": 12,
     "metadata": {},
     "output_type": "execute_result"
    }
   ],
   "source": [
    "# Solucionat: True\n",
    "# No solucionat: False\n",
    "new_board.state()"
   ]
  },
  {
   "cell_type": "code",
   "execution_count": 13,
   "metadata": {},
   "outputs": [],
   "source": [
    "def solve_puzzle(board):\n",
    "    \"\"\"\n",
    "    Soluciona el problema del N-Puzzle\n",
    "    \n",
    "    Params\n",
    "    ======\n",
    "    :board: Un objecte de la classe NPuzzle\n",
    "    \n",
    "    Returns\n",
    "    =======\n",
    "    :best_bound: Nombre de passos mínims per transformar el tauler d'entrada en el tauler objectiu\n",
    "    :best_board: El tauler objectiu. Haurien de ser els números ordenats de petit a gran amb la casella buida al final.\n",
    "    :expanded: El nombre de taulers expandits. Cada cop que traiem un tauler de la cua de prioritat, sumem 1.\n",
    "    \"\"\"\n",
    "    \n",
    "    # Millor solució trobada. Inicialment té cota infinit\n",
    "    best_bound = np.inf\n",
    "    best_board = board\n",
    "    \n",
    "    # Guardem en una cua de prioritat els taulells.\n",
    "    # Guardarem les variables:\n",
    "    # 1. Distància mínima (cota inferior) entre el tauler actual i el tauler solució\n",
    "    # 2. Número de passes que duem en aquest tauler, g(X)\n",
    "    # 3. El tauler\n",
    "    pq = PriorityQueue()\n",
    "    pq.put((board.manhattan_distance(), 0, board))\n",
    "    \n",
    "    # Com que els estats poden repetir-se al llarg de l'exploració, guardarem en un 'set' tots els\n",
    "    # estats visitats. Així evidem tornar a visitar estats.\n",
    "    existent_states = set([board.get_state_id()])\n",
    "    expanded = 0\n",
    "    \n",
    "    while not pq.empty():\n",
    "        \n",
    "        # Obtenim un nou element de la cua\n",
    "        curr_bound, curr_steps, curr_board = pq.get()\n",
    "        \n",
    "        # EL TEU CODI AQUÍ\n",
    "                \n",
    "    return best_bound, best_board, expanded\n",
    "    "
   ]
  },
  {
   "cell_type": "code",
   "execution_count": 14,
   "metadata": {},
   "outputs": [
    {
     "name": "stdout",
     "output_type": "stream",
     "text": [
      "Tauler inicial:\n",
      "+-----------+\n",
      "| 1 | 6 | 2 | \n",
      "+-----------+\n",
      "| 3 | 8 | 4 | \n",
      "+-----------+\n",
      "| 7 | 5 |   | \n",
      "+-----------+\n",
      "\n",
      "Solucionat en inf passos\n",
      "Taulers expandits: 0\n",
      "Tauler final:\n",
      "+-----------+\n",
      "| 1 | 6 | 2 | \n",
      "+-----------+\n",
      "| 3 | 8 | 4 | \n",
      "+-----------+\n",
      "| 7 | 5 |   | \n",
      "+-----------+\n",
      "\n"
     ]
    }
   ],
   "source": [
    "board = NPuzzle()\n",
    "board.create_board(moves=100, n=3)\n",
    "print(\"Tauler inicial:\")\n",
    "print(board)\n",
    "distance, final_board, expanded = solve_puzzle(board)\n",
    "print(f\"Solucionat en {distance} passos\")\n",
    "print(f\"Taulers expandits: {expanded}\")\n",
    "print(\"Tauler final:\")\n",
    "print(final_board)"
   ]
  },
  {
   "cell_type": "markdown",
   "metadata": {},
   "source": [
    "<div class=\"alert alert-success\">    \n",
    "    <h1>Problema 3: Assignació de tasques</h1>\n",
    "    <br>\n",
    "    Sigui $A$ una matriu de nombres enters de mida $n\\times n$:\n",
    "    $$A = \\begin{pmatrix}a_{0,0}\\quad \\cdots \\quad a_{0,n}\\\\\n",
    "                         \\vdots\\quad\\quad\\quad\\quad\\vdots\\\\\n",
    "                         a_{n,0}\\quad \\cdots \\quad a_{n,n}\n",
    "         \\end{pmatrix}$$\n",
    "    L'element $a_{i,j}$ correspon al cost d'assignar la tasca $i$ a l'empresa $j$.<br>\n",
    "    Volem trobar el mínim cost d'assignar tasques a empreses amb la condició que totes les tasques han d'estar assignades i les empreses han de fer només una tasca.\n",
    "     \n",
    "</div>"
   ]
  },
  {
   "cell_type": "markdown",
   "metadata": {},
   "source": [
    "## Funcions útils"
   ]
  },
  {
   "cell_type": "code",
   "execution_count": 15,
   "metadata": {},
   "outputs": [],
   "source": [
    "costs = np.array([[11,12,18,40],\n",
    "                  [14,15,13,22],\n",
    "                  [11,17,19,23],\n",
    "                  [17,14,20,28]])"
   ]
  },
  {
   "cell_type": "markdown",
   "metadata": {},
   "source": [
    "####  <u>np.min</u>\n",
    "Ens permet obtenir el mínim de cada columna o fila d'una matriu"
   ]
  },
  {
   "cell_type": "code",
   "execution_count": 16,
   "metadata": {},
   "outputs": [
    {
     "name": "stdout",
     "output_type": "stream",
     "text": [
      "[11 12 13 22]\n",
      "58\n"
     ]
    }
   ],
   "source": [
    "print(costs.min(axis=0)) # Axis=0 indica que volem el mínim de cada columna\n",
    "print(sum(costs.min(axis=0)))"
   ]
  },
  {
   "cell_type": "code",
   "execution_count": 17,
   "metadata": {},
   "outputs": [
    {
     "name": "stdout",
     "output_type": "stream",
     "text": [
      "[11 13 11 14]\n",
      "49\n"
     ]
    }
   ],
   "source": [
    "print(costs.min(axis=1)) # Axis=1 indica que volem el mínim de cada fila\n",
    "print(sum(costs.min(axis=1)))"
   ]
  },
  {
   "cell_type": "markdown",
   "metadata": {},
   "source": [
    "#### <u>np.delete</u>\n",
    "Ens permet eliminar una fila o una columna d'un array de numpy.<br>\n",
    "Observa els exemples:"
   ]
  },
  {
   "cell_type": "code",
   "execution_count": 18,
   "metadata": {},
   "outputs": [
    {
     "name": "stdout",
     "output_type": "stream",
     "text": [
      "[[11 12 18 40]\n",
      " [14 15 13 22]\n",
      " [17 14 20 28]]\n"
     ]
    }
   ],
   "source": [
    "# Axis=0 indica que volem eliminar files. En aquest cas estem eliminant només la fila 2\n",
    "new_costs1 = np.delete(costs, 2, axis=0) \n",
    "print(new_costs1)"
   ]
  },
  {
   "cell_type": "code",
   "execution_count": 19,
   "metadata": {},
   "outputs": [
    {
     "name": "stdout",
     "output_type": "stream",
     "text": [
      "[[11 17 19 23]\n",
      " [17 14 20 28]]\n"
     ]
    }
   ],
   "source": [
    "# Axis=0 indica que volem eliminar files. En aquest cas estem eliminant les files 0 i 1\n",
    "new_costs2 = np.delete(costs, [0,1], axis=0) \n",
    "print(new_costs2)"
   ]
  },
  {
   "cell_type": "code",
   "execution_count": 20,
   "metadata": {},
   "outputs": [
    {
     "name": "stdout",
     "output_type": "stream",
     "text": [
      "[[12 40]\n",
      " [15 22]\n",
      " [17 23]\n",
      " [14 28]]\n"
     ]
    }
   ],
   "source": [
    "# Axis=1 indica que volem eliminar columnes. En aquest cas estem eliminant les columnes 0 i 2\n",
    "new_costs3 = np.delete(costs, [0,2], axis=1)\n",
    "print(new_costs3)"
   ]
  },
  {
   "cell_type": "code",
   "execution_count": 21,
   "metadata": {},
   "outputs": [
    {
     "name": "stdout",
     "output_type": "stream",
     "text": [
      "[[11 17]\n",
      " [17 14]]\n"
     ]
    }
   ],
   "source": [
    "# Podem esborrar files i columnes d'una matriu\n",
    "new_costs4 = np.delete(np.delete(costs, [0,1], axis=0), [2,3], axis=1)\n",
    "print(new_costs4)"
   ]
  },
  {
   "cell_type": "code",
   "execution_count": 22,
   "metadata": {},
   "outputs": [],
   "source": [
    "def inf_bound(matrix):\n",
    "    \"\"\"\n",
    "    Calcula la suma del mínim de cada columna\n",
    "    \n",
    "    Params\n",
    "    ======\n",
    "    :matrix: La matriu de costs\n",
    "    \n",
    "    Returns\n",
    "    =======\n",
    "    :inf: La suma del mínim de cada columna\n",
    "    \"\"\"\n",
    "    \n",
    "    return 0\n",
    "\n",
    "def sup_bound(matrix):\n",
    "    \"\"\"\n",
    "    Retorna el cost d'una assignació qualsevol.\n",
    "    \n",
    "    Params\n",
    "    ======\n",
    "    :matrix: La matriu de costs\n",
    "    \n",
    "    Returns\n",
    "    =======\n",
    "    :sup: El cost d'una assignació qualsevol. Per exemple, podem retornar la suma de la diagonal de la matriu\n",
    "          que consisteix en assignar la tasca 'i' a l'empresa 'i' on i=0,1,2,3,4...\n",
    "    \"\"\"\n",
    "    \n",
    "    return 0\n",
    "\n",
    "def tasks(matrix):\n",
    "    \"\"\"\n",
    "    Troba l'assignació entre tasques i empreses amb cost mínim utilitzant ramificació i poda.\n",
    "    Cada cop que troba una assignació millor ll'imprimeix per pantalla.\n",
    "    \n",
    "    Params\n",
    "    =====\n",
    "    :matrix: La matriu de costs\n",
    "    \"\"\"\n",
    "    \n",
    "    # Cotes inicials\n",
    "    sup = sup_bound(matrix)\n",
    "    inf = inf_bound(matrix)\n",
    "    \n",
    "    # Cua de prioritat. Guardarem quatre elements:\n",
    "    # 1. Prioritat\n",
    "    # 2. Parelles ja assignades (tasca, empresa)\n",
    "    # 3. Tasca que hem d'assignar a continuació (row)\n",
    "    # 4. Empreses ja assignades (col)\n",
    "    pq = PriorityQueue()\n",
    "    pq.put((inf, [], 0, set([])))\n",
    "    \n",
    "    # Iterarem mentre la cua de prioritat no sigui buida\n",
    "    while not pq.empty():\n",
    "        \n",
    "        # Extraiem un element\n",
    "        elem_cota, elem_list, elem_row, elem_cols = pq.get()  \n",
    "        \n",
    "        # EL TEU CODI AQUÍ\n",
    "        "
   ]
  },
  {
   "cell_type": "code",
   "execution_count": 23,
   "metadata": {},
   "outputs": [
    {
     "name": "stdout",
     "output_type": "stream",
     "text": [
      "Matriu de costs:\n",
      "[[11 12 18 40]\n",
      " [14 15 13 22]\n",
      " [11 17 19 23]\n",
      " [17 14 20 28]]\n",
      "\n"
     ]
    }
   ],
   "source": [
    "costs = np.array([[11,12,18,40],\n",
    "                  [14,15,13,22],\n",
    "                  [11,17,19,23],\n",
    "                  [17,14,20,28]])\n",
    "\n",
    "print(\"Matriu de costs:\")\n",
    "print(costs)\n",
    "print()\n",
    "\n",
    "# Millor solució trobada, cost: 61\n",
    "# Tasca 0 -> Empresa 0\n",
    "# Tasca 1 -> Empresa 2\n",
    "# Tasca 2 -> Empresa 3\n",
    "# Tasca 3 -> Empresa 1\n",
    "\n",
    "tasks(costs)"
   ]
  },
  {
   "cell_type": "code",
   "execution_count": 24,
   "metadata": {},
   "outputs": [
    {
     "name": "stdout",
     "output_type": "stream",
     "text": [
      "Matriu de costs:\n",
      "[[38 43 49 21 25 26 18 49]\n",
      " [32 48 34 38 29 16 45 44]\n",
      " [45 16 29 25 39 29 32 34]\n",
      " [44 30 41 36 27 34 33 24]\n",
      " [34 43 39 10 23 17 39 23]\n",
      " [26 28 36 45 27 47 36 45]\n",
      " [28 22 42 10 38 19 38 25]\n",
      " [19 36 21 46 13 39 30 24]]\n",
      "\n"
     ]
    }
   ],
   "source": [
    "costs = np.array( [[38, 43, 49, 21, 25, 26, 18, 49],\n",
    "                   [32, 48, 34, 38, 29, 16, 45, 44],\n",
    "                   [45, 16, 29, 25, 39, 29, 32, 34],\n",
    "                   [44, 30, 41, 36, 27, 34, 33, 24],\n",
    "                   [34, 43, 39, 10, 23, 17, 39, 23],\n",
    "                   [26, 28, 36, 45, 27, 47, 36, 45],\n",
    "                   [28, 22, 42, 10, 38, 19, 38, 25],\n",
    "                   [19, 36, 21, 46, 13, 39, 30, 24]])\n",
    "\n",
    "print(\"Matriu de costs:\")\n",
    "print(costs)\n",
    "print()\n",
    "\n",
    "# Millor solució trobada, cost: 154\n",
    "# Tasca 0 -> Empresa 6\n",
    "# Tasca 1 -> Empresa 5\n",
    "# Tasca 2 -> Empresa 1\n",
    "# Tasca 3 -> Empresa 7\n",
    "# Tasca 4 -> Empresa 4\n",
    "# Tasca 5 -> Empresa 0\n",
    "# Tasca 6 -> Empresa 3\n",
    "# Tasca 7 -> Empresa 2\n",
    "\n",
    "tasks(costs)"
   ]
  },
  {
   "cell_type": "markdown",
   "metadata": {},
   "source": [
    "En aquest cas no us donem la solució ja que és un exemple aleatori. Proveu-ho amb diferents mides de matrius."
   ]
  },
  {
   "cell_type": "code",
   "execution_count": 25,
   "metadata": {},
   "outputs": [
    {
     "name": "stdout",
     "output_type": "stream",
     "text": [
      "Matriu de costs:\n",
      "[[17 17 28 46 12 27 33 26 24 31]\n",
      " [16 12 15 29 17 12 21 31 14 17]\n",
      " [38 17 31 10 34 13 43 44 12 27]\n",
      " [48 13 35 16 18 48 30 44 45 26]\n",
      " [37 11 20 47 27 13 35 15 43 12]\n",
      " [18 39 28 36 15 39 44 40 11 25]\n",
      " [17 44 41 11 31 45 34 35 10 17]\n",
      " [24 33 14 47 36 38 20 49 31 42]\n",
      " [22 22 27 40 19 39 41 17 34 45]\n",
      " [45 44 13 10 44 24 18 18 33 11]]\n",
      "\n"
     ]
    }
   ],
   "source": [
    "costs = np.random.randint(10,50,(10,10))\n",
    "\n",
    "print(\"Matriu de costs:\")\n",
    "print(costs)\n",
    "print()\n",
    "\n",
    "tasks(costs)"
   ]
  }
 ],
 "metadata": {
  "kernelspec": {
   "display_name": "Python 3 (ipykernel)",
   "language": "python",
   "name": "python3"
  },
  "language_info": {
   "codemirror_mode": {
    "name": "ipython",
    "version": 3
   },
   "file_extension": ".py",
   "mimetype": "text/x-python",
   "name": "python",
   "nbconvert_exporter": "python",
   "pygments_lexer": "ipython3",
   "version": "3.8.8"
  }
 },
 "nbformat": 4,
 "nbformat_minor": 4
}
