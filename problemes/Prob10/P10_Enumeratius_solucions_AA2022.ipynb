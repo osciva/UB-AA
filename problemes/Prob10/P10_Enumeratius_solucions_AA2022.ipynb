{
 "cells": [
  {
   "cell_type": "markdown",
   "metadata": {},
   "source": [
    "<div style=\"padding:30px; color: white; background-color: #0071CD\">\n",
    "<center>\n",
    "<img src=\"img/logoub.jpeg\"></img>\n",
    "<center>\n",
    "<h1>Algorísmica Avançada 2022</h1>\n",
    "<h2>Problemes 10 - Enumeratius: Ramificació i Poda</h2>\n",
    "</center>\n",
    "</div>"
   ]
  },
  {
   "cell_type": "code",
   "execution_count": 1,
   "metadata": {},
   "outputs": [
    {
     "data": {
      "text/html": [
       "<style>.container { width:100% !important; }</style>"
      ],
      "text/plain": [
       "<IPython.core.display.HTML object>"
      ]
     },
     "metadata": {},
     "output_type": "display_data"
    }
   ],
   "source": [
    "from IPython.display import display, HTML\n",
    "display(HTML(\"<style>.container { width:100% !important; }</style>\"))"
   ]
  },
  {
   "cell_type": "code",
   "execution_count": 2,
   "metadata": {},
   "outputs": [],
   "source": [
    "import numpy as np\n",
    "from queue import PriorityQueue"
   ]
  },
  {
   "cell_type": "markdown",
   "metadata": {},
   "source": [
    "<div class=\"alert alert-success\">\n",
    "    <h1>Problema 1: Sliding-Puzzle</h1>\n",
    "    <br>\n",
    "    Donat un taulell de $n\\times n$ de nombres des d'$1$ fins a $n^2-1$ inicialment desordenats, volem trobar el nombre mínim de moviments possibles de manera que els nombres estiguin ordenats en ordre creixent i la casella sense número estigui a l'última posició.\n",
    "</div>"
   ]
  },
  {
   "cell_type": "markdown",
   "metadata": {},
   "source": [
    "<img src=\"https://www.researchgate.net/profile/Ruo-Ando/publication/347300656/figure/fig1/AS:969204928901121@1608087870493/Initial-state-and-goal-state-of-8-puzzle.ppm\" width='25%'/>"
   ]
  },
  {
   "cell_type": "code",
   "execution_count": 3,
   "metadata": {
    "scrolled": true
   },
   "outputs": [
    {
     "name": "stdout",
     "output_type": "stream",
     "text": [
      "Un tauler aleatori:\n",
      "+-----------+\n",
      "| 4 | 3 | 6 | \n",
      "+-----------+\n",
      "| 2 | 1 | 8 | \n",
      "+-----------+\n",
      "| 7 | 5 |   | \n",
      "+-----------+\n",
      "\n"
     ]
    }
   ],
   "source": [
    "from npuzzle import NPuzzle\n",
    "\n",
    "# Inicialitzem un tauler i el barregem\n",
    "board = NPuzzle()\n",
    "board.create_board(n=3, moves=100)\n",
    "\n",
    "print (\"Un tauler aleatori:\")\n",
    "print(board)"
   ]
  },
  {
   "cell_type": "markdown",
   "metadata": {},
   "source": [
    "La funció ``get_state_id`` ens retorna un 'string' amb la configuració del tauler. D'aquesta forma podrem guardar els estats que ja hem visitat per a no repetir-los\n"
   ]
  },
  {
   "cell_type": "code",
   "execution_count": 4,
   "metadata": {},
   "outputs": [
    {
     "data": {
      "text/plain": [
       "'4,3,6,2,1,8,7,5,0'"
      ]
     },
     "execution_count": 4,
     "metadata": {},
     "output_type": "execute_result"
    }
   ],
   "source": [
    "board.get_state_id()"
   ]
  },
  {
   "cell_type": "markdown",
   "metadata": {},
   "source": [
    "Per a cada tauler, podem definir una cota que depèn del nombre de moviments que hem fet fins el moment i un valor optimista calculat com una 'distància' entre el tauler que estem considerant i el tauler objectiu.\n",
    "\n",
    "$$C(X) = g(X) + h(X)$$\n",
    "+ $g(X)$ és el nombre de passos que portem fins el moment.\n",
    "+ $h(X)$ pot ser:\n",
    "    + $h_1(X)$: El nombre de caselles que no estan al seu lloc sense tenir en compte la casella buida (hamming_distance)\n",
    "    + $h_2(X)$: La suma de les distàncies de manhattan de cada casella al seu lloc correcte (manhattan_distance)"
   ]
  },
  {
   "cell_type": "code",
   "execution_count": 5,
   "metadata": {},
   "outputs": [
    {
     "data": {
      "text/plain": [
       "7"
      ]
     },
     "execution_count": 5,
     "metadata": {},
     "output_type": "execute_result"
    }
   ],
   "source": [
    "board.hamming_distance() # h1(X)"
   ]
  },
  {
   "cell_type": "code",
   "execution_count": 6,
   "metadata": {},
   "outputs": [
    {
     "data": {
      "text/plain": [
       "10"
      ]
     },
     "execution_count": 6,
     "metadata": {},
     "output_type": "execute_result"
    }
   ],
   "source": [
    "board.manhattan_distance() # h2(X)"
   ]
  },
  {
   "cell_type": "markdown",
   "metadata": {},
   "source": [
    "Podem demanar quins moviments són valids des d'una configuració del tauler amb la funció ``allowed_moves()``. Un moviment consisteix en 'moure' la casella buida en una de les quatre direccions permeses:<br>\n",
    "+ $L$: Left\n",
    "+ $R$: Right\n",
    "+ $U$: Up\n",
    "+ $D$: Down"
   ]
  },
  {
   "cell_type": "code",
   "execution_count": 7,
   "metadata": {},
   "outputs": [
    {
     "name": "stdout",
     "output_type": "stream",
     "text": [
      "['L', 'U']\n"
     ]
    }
   ],
   "source": [
    "am = board.allowed_moves()\n",
    "print(am)"
   ]
  },
  {
   "cell_type": "markdown",
   "metadata": {},
   "source": [
    "Executem un moviment amb la funció ``move()``"
   ]
  },
  {
   "cell_type": "code",
   "execution_count": 8,
   "metadata": {},
   "outputs": [
    {
     "name": "stdout",
     "output_type": "stream",
     "text": [
      "+-----------+\n",
      "| 4 | 3 | 6 | \n",
      "+-----------+\n",
      "| 2 | 1 | 8 | \n",
      "+-----------+\n",
      "| 7 |   | 5 | \n",
      "+-----------+\n",
      "\n"
     ]
    }
   ],
   "source": [
    "new_board = board.move(am[0])\n",
    "print(new_board)"
   ]
  },
  {
   "cell_type": "markdown",
   "metadata": {},
   "source": [
    "La funció state ens comprova si el nostre estat és un estat solució."
   ]
  },
  {
   "cell_type": "code",
   "execution_count": 9,
   "metadata": {},
   "outputs": [
    {
     "data": {
      "text/plain": [
       "False"
      ]
     },
     "execution_count": 9,
     "metadata": {},
     "output_type": "execute_result"
    }
   ],
   "source": [
    "# Solucionat: True\n",
    "# No solucionat: False\n",
    "new_board.state()"
   ]
  },
  {
   "cell_type": "code",
   "execution_count": 16,
   "metadata": {},
   "outputs": [],
   "source": [
    "import numpy as np\n",
    "\n",
    "def solve_puzzle(board):\n",
    "    # Millor solució trobada. Inicialment té cota infinit\n",
    "    best_bound = np.inf\n",
    "    best_board = board\n",
    "    # Guardem en una cua de prioritat els taulells.\n",
    "    # Guardarem les variables:\n",
    "    # 1. Distància mínima (cota inferior) entre el tauler actual i el tauler solució\n",
    "    # 2. Número de passes que duem en aquest tauler, g(X)\n",
    "    # 3. El tauler\n",
    "    pq = PriorityQueue()\n",
    "    pq.put((board.manhattan_distance(), 0, board))\n",
    "    # Com que els estats poden repetir-se al llarg de l'exploració, guardarem en un 'set' tots els\n",
    "    # estats visitats. Així evidem tornar a visitar estats.\n",
    "    existent_states = set([board.get_state_id()])\n",
    "    expanded = 0\n",
    "    while not pq.empty():\n",
    "        # Obtenim un nou element de la cua\n",
    "        curr_bound, curr_steps, curr_board = pq.get()\n",
    "        expanded += 1\n",
    "        # Mirem tots els moviments valids que podem fer des d'aquest tauler\n",
    "        for a_move in curr_board.allowed_moves():\n",
    "            new_board = curr_board.move(a_move)\n",
    "            new_steps = curr_steps + 1\n",
    "            new_bound = new_steps + new_board.manhattan_distance() # g(X) + h(X)\n",
    "            # Si és un estat solució i ens millora la cota, actualitzem.\n",
    "            if new_board.state():\n",
    "                if new_bound < best_bound:\n",
    "                    best_bound = new_bound\n",
    "                    best_board = new_board\n",
    "            # En cas de que no sigui solució però ens millori la cota. \n",
    "            elif (new_bound < best_bound) and (new_board.get_state_id() not in existent_states):\n",
    "                existent_states.add(new_board.get_state_id())\n",
    "                pq.put((new_bound,new_steps,new_board))   \n",
    "    return best_bound, best_board, expanded\n",
    "    "
   ]
  },
  {
   "cell_type": "code",
   "execution_count": 17,
   "metadata": {},
   "outputs": [
    {
     "name": "stdout",
     "output_type": "stream",
     "text": [
      "Tauler inicial:\n",
      "+-----------+\n",
      "| 6 | 7 | 5 | \n",
      "+-----------+\n",
      "| 1 |   | 3 | \n",
      "+-----------+\n",
      "| 2 | 8 | 4 | \n",
      "+-----------+\n",
      "\n",
      "Solucionat en 24 passos\n",
      "Taulers expandits: 3256\n",
      "Tauler final:\n",
      "+-----------+\n",
      "| 1 | 2 | 3 | \n",
      "+-----------+\n",
      "| 4 | 5 | 6 | \n",
      "+-----------+\n",
      "| 7 | 8 |   | \n",
      "+-----------+\n",
      "\n"
     ]
    }
   ],
   "source": [
    "board = NPuzzle()\n",
    "board.create_board(moves=100, n=3)\n",
    "print(\"Tauler inicial:\")\n",
    "print(board)\n",
    "distance, final_board, expanded = solve_puzzle(board)\n",
    "print(f\"Solucionat en {distance} passos\")\n",
    "print(f\"Taulers expandits: {expanded}\")\n",
    "print(\"Tauler final:\")\n",
    "print(final_board)"
   ]
  }
 ],
 "metadata": {
  "kernelspec": {
   "display_name": "Python 3 (ipykernel)",
   "language": "python",
   "name": "python3"
  },
  "language_info": {
   "codemirror_mode": {
    "name": "ipython",
    "version": 3
   },
   "file_extension": ".py",
   "mimetype": "text/x-python",
   "name": "python",
   "nbconvert_exporter": "python",
   "pygments_lexer": "ipython3",
   "version": "3.8.8"
  }
 },
 "nbformat": 4,
 "nbformat_minor": 4
}
