{
 "cells": [
  {
   "cell_type": "markdown",
   "metadata": {},
   "source": [
    "<div style=\"padding:30px; color: white; background-color: #0071CD\">\n",
    "<center>\n",
    "<img src=\"img/logoub.jpeg\"></img>\n",
    "<center>\n",
    "<h1>Algorísmica Avançada 2022</h1>\n",
    "<h2>Problemes 5 - Greedy</h2>\n",
    "</center>\n",
    "</div>"
   ]
  },
  {
   "cell_type": "code",
   "execution_count": null,
   "metadata": {},
   "outputs": [],
   "source": [
    "from IPython.display import display, HTML\n",
    "display(HTML(\"<style>.container { width:100% !important; }</style>\"))"
   ]
  },
  {
   "cell_type": "markdown",
   "metadata": {
    "tags": []
   },
   "source": [
    "<div class=\"alert alert-success\">\n",
    "    <h1>Problema 1: Retornar el canvi</h1>\n",
    "    <p>\n",
    "        Escriu un algorisme que, donat un preu $X$ i un pagament $P$, en euros, ens retorni el canvi. És a dir, quants bitllets i quantes monedes de cada valor cal retornar.<br><br>\n",
    "        Exemple:<br>\n",
    "        A l'executar <b>change(30.75, 40)</b> ha de retornar la llista [(5,1),(2,2),(0.20,1),(0.05,1)] ja que hem de retornar 1 bitllet de 5 euros, 2 monedes de 2 euros, 1 moneda de 20 cèntims i 1 moneda de 5 cèntims.\n",
    "    </p>    \n",
    "    \n",
    "</div>"
   ]
  },
  {
   "cell_type": "code",
   "execution_count": null,
   "metadata": {},
   "outputs": [],
   "source": [
    "from collections import defaultdict\n",
    "\n",
    "def change(X, P, coins = [.01, .02, .05, .1, .2, .5, 1, 2, 5, 10, 20, 50, 100, 200, 500]):\n",
    "    \"\"\"\n",
    "    Soluciona el problema de retornar el canvi.\n",
    "    \n",
    "    Params\n",
    "    ======\n",
    "    :X: Preu \n",
    "    :P: Pagament. Ha de ser superior o igual a X.\n",
    "    :coins: Llista de monedes o bitllets de la moneda que estiguem considerant. Per defecte, euros.\n",
    "    \n",
    "    Returns\n",
    "    =======\n",
    "    :lst: Llista de monedes o bitllets i la quantitat de cada un d'ells amb el format següent. lst = [(value, quantity)] on:\n",
    "        :value: és un valor existent dins la llista 'coins'\n",
    "        :quantity: és el nombre de monedes/bitllets amb valor 'value'.\n",
    "    \n",
    "    \"\"\"\n",
    "    # Calculem el canvi\n",
    "    v = P-X\n",
    "    \n",
    "    # Aquí guardarem la solució del problema com a diccionari. La clau serà la moneda/bitllet i el valor serà la quantitat.\n",
    "    solution = defaultdict(int)\n",
    "    \n",
    "    # Agafem la 'moneda' més gran, en aquest cas el bitllet de 500.\n",
    "    n = len(coins) - 1 \n",
    "    \n",
    "    # Comprovem si hem acabat, és a dir, si el valor que ens queda és inferior a la moneda més petita, l'algorisme acaba.\n",
    "    while v >= coins[0]:\n",
    "        \n",
    "        # Comprovem si podem pagar amb aquesta moneda. Si no podem, agafem la moneda següent.\n",
    "        while coins[n] > v:\n",
    "            n -= 1\n",
    "                        \n",
    "        # Afegim a la solució\n",
    "        solution[coins[n]] += 1\n",
    "        \n",
    "        # Modifiquem el valor que ens falta per retornar. Afegim el round a dos decimals per a que no doni problemes amb algunes operacions.\n",
    "        v = round(v - coins[n], 2)\n",
    "        \n",
    "    # Imprimim amb el format que es demana\n",
    "    lst = list(solution.items())\n",
    "    return lst"
   ]
  },
  {
   "cell_type": "code",
   "execution_count": null,
   "metadata": {},
   "outputs": [],
   "source": [
    "change(30.75, 40)"
   ]
  },
  {
   "cell_type": "code",
   "execution_count": null,
   "metadata": {},
   "outputs": [],
   "source": [
    "# És òptim aquest algorisme?\n",
    "change(4, 10, coins=[1,3,4])"
   ]
  },
  {
   "cell_type": "markdown",
   "metadata": {
    "tags": []
   },
   "source": [
    "<div class=\"alert alert-success\">\n",
    "    <h1>Problema 2: Selecció d'activitats</h1>\n",
    "    <p>\n",
    "        Donat un conjunt d'activitats amb la seva hora d'inici i la seva hora de finalització, trobar quin és el nombre màxim d'activitats que es pot realitzar suposant que només podem fer una activitat alhora.\n",
    "    </p>     \n",
    "    \n",
    "</div>"
   ]
  },
  {
   "cell_type": "code",
   "execution_count": null,
   "metadata": {},
   "outputs": [],
   "source": [
    "def task_selection(activities):\n",
    "    \"\"\"\n",
    "    Retorna les activitats que és possible realitzar\n",
    "    \n",
    "    Params\n",
    "    ======\n",
    "    :activities: Llista d'activitats disponibles. Cada parella (x,y) representa l'hora d'inici i de finalització de l'activitat\n",
    "    \n",
    "    Returns\n",
    "    =======\n",
    "    :act: Activitats que es poden realitzar\n",
    "    \"\"\"\n",
    "    \n",
    "    # Ordenar en funció de la hora de finalització \n",
    "    activities = sorted(activities, key=lambda x: x[1])\n",
    "    \n",
    "    start, end = -1, -1\n",
    "    act = []\n",
    "    \n",
    "    # Iterem per totes les activitats, extraient-ne l'hora d'inici i fi\n",
    "    for acty in activities:\n",
    "        new_start, new_end = acty\n",
    "        \n",
    "        # Si aquesta activitat no entra en conflicte amb l'anterior, la podem fer\n",
    "        # En el primer cas, segur que podem fer l'activitat ja que end = -1\n",
    "        if new_start >= end:\n",
    "            # modifiquem els valors \n",
    "            act.append(acty)\n",
    "            start, end = new_start, new_end\n",
    "    \n",
    "    return act"
   ]
  },
  {
   "cell_type": "code",
   "execution_count": null,
   "metadata": {},
   "outputs": [],
   "source": [
    "activities = [(1, 4), (3, 8), (8, 11), (12, 14), (8, 12), (3, 5), (5, 9), (2, 13), (6, 10), (5, 7), (0, 6)]\n",
    "task_selection(activities) # Retorna: [(1, 4), (5, 7), (8, 11), (12, 14)]"
   ]
  },
  {
   "cell_type": "markdown",
   "metadata": {},
   "source": [
    "<div class=\"alert alert-success\">\n",
    "    <h1>Problema 3: Problema de la motxilla</h1>\n",
    "    <img src='https://upload.wikimedia.org/wikipedia/commons/f/fd/Knapsack.svg' width='20%'>\n",
    "    <p>\n",
    "       Disposem d'una motxilla que té una capacitat màxima de $K$ quilos. Tenim una llista de $n$ elements $E$, on cada element està representat per dos valors: el seu pes, $w$, i el seu valor $v$. És a dir:\n",
    "        $$E = \\{(w_e, v_e),\\ \\ \\ \\forall e=1,\\dots,n\\}$$\n",
    "       Volem maximitzar el valor de la motxilla, omplint-la amb els elements de $E$. Concretament, volem trobar:\n",
    "        $$\\max_A\\{A\\subset E\\ |\\ \\sum_{a\\in A}w_a\\leq K \\}$$\n",
    "    </p>    \n",
    "    Implementa un algorisme greedy que trobi una solució al problema. <b>Aquesta solució és òptima?</b>\n",
    "</div>"
   ]
  },
  {
   "cell_type": "code",
   "execution_count": null,
   "metadata": {},
   "outputs": [],
   "source": [
    "def knapsack(K, E):\n",
    "    # Opció 1: Escollim l'element de valor més elevat sense tenir en compte el pes\n",
    "    def find_element_best_value(weight, K, E):\n",
    "        candidates = [e for e in E if e[0] <= K-weight]\n",
    "        if len(candidates)>0:\n",
    "            candidates = sorted(candidates, key=lambda x: -x[1])\n",
    "            return candidates[0]\n",
    "        return False    \n",
    "    # Opció 2: Escollim l'element que té un millor equilibri entre pes i valor\n",
    "    def find_element_best_ratio(weight, K, E):\n",
    "        candidates = [e for e in E if e[0] <= K-weight]\n",
    "        if len(candidates)>0:\n",
    "            candidates = sorted(candidates, key=lambda x: -x[1]/x[0])\n",
    "            return candidates[0]\n",
    "        return False    \n",
    "    # Assignem una de les múltiples funcions que podem definir.\n",
    "    # COMPTE! Aquesta solució no és òptima tal i com està implementada, l'opció òptima és ordenar un sol cop la llista \n",
    "    # i anar agafant un element cada cop.\n",
    "    find_element = find_element_best_ratio    \n",
    "    # Inicialitzem el pes actual de la motxilla, el valor acumulat fins el moment i els ítems que hi hem carregat\n",
    "    total_weight = 0\n",
    "    total_value  = 0\n",
    "    selected_elems = []    \n",
    "    # Escollim el millor element seguin una política\n",
    "    elem = find_element(total_weight, K, E)  \n",
    "    # Mentre existeixin elements que poguem afegir...\n",
    "    while elem:       \n",
    "        # Eliminem l'element de la llista\n",
    "        E.remove(elem)     \n",
    "        # Modifiquem els valors que emmagatzemen la informació\n",
    "        total_weight += elem[0]\n",
    "        total_value += elem[1]\n",
    "        selected_elems.append(elem)      \n",
    "        # Busquem un nou element\n",
    "        elem = find_element(total_weight, K, E)\n",
    "    return selected_elems, total_weight, total_value"
   ]
  },
  {
   "cell_type": "code",
   "execution_count": null,
   "metadata": {},
   "outputs": [],
   "source": [
    "print(knapsack(15, [(12,4), (1,2), (4,10), (1,1), (2,2)]))\n",
    "print(knapsack(25, [(24,24), (10,18), (10,18), (7,10)]))\n",
    "print(knapsack(5,  [(3,2),(2,3),(5,6)]))"
   ]
  }
 ],
 "metadata": {
  "kernelspec": {
   "display_name": "Python 3 (ipykernel)",
   "language": "python",
   "name": "python3"
  },
  "language_info": {
   "codemirror_mode": {
    "name": "ipython",
    "version": 3
   },
   "file_extension": ".py",
   "mimetype": "text/x-python",
   "name": "python",
   "nbconvert_exporter": "python",
   "pygments_lexer": "ipython3",
   "version": "3.8.8"
  }
 },
 "nbformat": 4,
 "nbformat_minor": 4
}
