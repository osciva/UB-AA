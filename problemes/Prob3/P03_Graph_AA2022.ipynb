{
 "cells": [
  {
   "cell_type": "markdown",
   "id": "d2c99117",
   "metadata": {},
   "source": [
    "<div style=\"padding:30px; color: white; background-color: #0071CD\">\n",
    "<center>\n",
    "<img src=\"img/logoub.jpeg\"></img>\n",
    "<center>\n",
    "<h1>Algorísmica Avançada 2022</h1>\n",
    "<h2>Problemes 3 - Floyd-Warshall, Cicles, Camins i Circuits Eulerians</h2>\n",
    "</center>\n",
    "</div>"
   ]
  },
  {
   "cell_type": "code",
   "execution_count": 7,
   "id": "f32e242d",
   "metadata": {},
   "outputs": [
    {
     "data": {
      "text/html": [
       "<style>.container { width:100% !important; }</style>"
      ],
      "text/plain": [
       "<IPython.core.display.HTML object>"
      ]
     },
     "metadata": {},
     "output_type": "display_data"
    }
   ],
   "source": [
    "from IPython.display import display, HTML\n",
    "display(HTML(\"<style>.container { width:100% !important; }</style>\"))"
   ]
  },
  {
   "cell_type": "markdown",
   "id": "f6ea32cd-599c-4b1d-80ef-617764e8e2a6",
   "metadata": {
    "tags": []
   },
   "source": [
    "## Recordatori: Camís més curts entre totes les parelles de nodes. Algorisme Floyd-Warshall"
   ]
  },
  {
   "cell_type": "markdown",
   "id": "cb5e3d3f-f539-40c8-a9ce-c6726cb6849c",
   "metadata": {},
   "source": [
    "Suposeu que tenim el següent graf:"
   ]
  },
  {
   "cell_type": "code",
   "execution_count": 8,
   "id": "69fa3de8-e3a1-4a47-ab86-6b114be49271",
   "metadata": {},
   "outputs": [],
   "source": [
    "from digraph_plot import my_draw_networkx_edge_labels\n",
    "import networkx as nx\n",
    "import numpy as np\n",
    "from matplotlib import pyplot as plt"
   ]
  },
  {
   "cell_type": "code",
   "execution_count": 9,
   "id": "06036560-54a8-4418-96a1-896bda91dc8b",
   "metadata": {},
   "outputs": [
    {
     "data": {
      "image/png": "[encoded data removed]",
      "text/plain": [
       "<Figure size 432x288 with 1 Axes>"
      ]
     },
     "metadata": {},
     "output_type": "display_data"
    }
   ],
   "source": [
    "G = nx.DiGraph()\n",
    "G.add_weighted_edges_from((('A','B',3), ('A','D',7), ('B','A',8), ('B','C',2), ('C','A',5), ('C','D',1), ('D','A',2)))\n",
    "\n",
    "# Establim les posicions de cada node de forma que ens quedi un quadrat\n",
    "pos = {'A': [0,1], 'B':[1,1], 'C':[1,0], 'D':[0,0]}\n",
    "\n",
    "# Dibuixem els nodes i les arestes\n",
    "nx.draw(G,pos, with_labels=True, connectionstyle='arc3, rad = 0.1')\n",
    "\n",
    "# Dibuixem els pesos\n",
    "labels = nx.get_edge_attributes(G,'weight')\n",
    "my_draw_networkx_edge_labels(G, pos, edge_labels=labels, rad=0.1, rotate=False)\n",
    "plt.show()"
   ]
  },
  {
   "cell_type": "markdown",
   "id": "75eb7842-fcc0-4472-a0c8-1f802671483a",
   "metadata": {},
   "source": [
    "El primer pas és construir una matriu (**matriu de pes del graf**) tal que:\n",
    "- Tingui zeros a la diagonal (indicant que la distància de cada node a si mateix és zero).\n",
    "- Les arestes existents tinguin representades el pes.\n",
    "- Les arestes inexistents estiguin inicialitzades a infinit.\n",
    "La matriu que correspon a aquest graf és:\n",
    "$$A^0 = \\begin{pmatrix}\n",
    "0 & 3 & \\infty & 7 \\\\\n",
    "8 & 0 & 2 & \\infty \\\\\n",
    "5 & \\infty & 0 & 1 \\\\\n",
    "2 & \\infty & \\infty & 0\n",
    "\\end{pmatrix}$$"
   ]
  },
  {
   "cell_type": "markdown",
   "id": "36d47333-95af-47cc-9d16-9503ef30b2d6",
   "metadata": {},
   "source": [
    "L'algorisme Floy-Warshall considera ara $k=1,...,4$ (ja que tenim 4 files) com a **node intermedi** i procedeix de la següent forma:<br>\n",
    "1. La columna i fila $k$ quedaran igual. A més, la diagonal quedarà sempre amb zeros. Per tant, per a $k=1$: $$A^1 = \\begin{pmatrix}\n",
    "0 & 3 & \\infty & 7 \\\\\n",
    "8 & 0 &  &  \\\\\n",
    "5 & & 0 &  \\\\\n",
    "2 & & & 0\n",
    "\\end{pmatrix}$$\n",
    "2. Ara hem de calcular els valors que falten usant la matriu anterior, és a dir, $A^0$.\n",
    "- Comencem per calcular la primera posició buida: $A^1[2,3]$. (Observeu que el primer element és el $A[1,1]$ i no $A[0,0]$ en aquest exemple). Tenim que $A^0[2,3]=2$ i que $A^0[2,k]+A^0[k,3]=8+\\infty=\\infty$ on $k=1$ en aquest cas. Com que $2<\\infty$, ens quedem amb $A^1[2,3]=2$. \n",
    "- De la mateixa forma,  $A^0[2,4]=\\infty$ i $A^0[2,k]+A^0[k,4]=8+7=15$.\n",
    "- Si seguim calculant ens quedarà: $$A^1 = \\begin{pmatrix}\n",
    "0 & 3 & \\infty & 7 \\\\\n",
    "8 & 0 & 2 & 15 \\\\\n",
    "5 & 8 & 0 & 1 \\\\\n",
    "2 & 5 & \\infty & 0\n",
    "\\end{pmatrix}$$\n",
    "\n",
    "3. Seguim calculant $A^{(k+1)}$ de la mateixa forma, utilitzant els valors de $A^k$. Finalment ens quedarà:\n",
    "$$A^4 = \\begin{pmatrix}\n",
    "0 & 3 & 5 & 6 \\\\\n",
    "5 & 0 & 2 & 3 \\\\\n",
    "3 & 6 & 0 & 1 \\\\\n",
    "2 & 5 & 7 & 0\n",
    "\\end{pmatrix}$$"
   ]
  },
  {
   "cell_type": "markdown",
   "id": "747e5743",
   "metadata": {},
   "source": [
    "<div class=\"alert alert-success\">\n",
    "<h1>Problema 1</h1>\n",
    "<p>\n",
    "    Donat un graf $G$ volem trobar el camí més curt entre totes les parelles dels seus nodes. <br>\n",
    "    Aquest problema es pot solucionar amb l'algorisme Floyd-Warshall, implementeu-lo.\n",
    " <br></p>    \n",
    "\n",
    "        \n",
    "</div>\n"
   ]
  },
  {
   "cell_type": "markdown",
   "id": "411bd9aa-d633-435b-b316-1b4c8d2b15b9",
   "metadata": {},
   "source": [
    "**Hint**: Si heu entès l'exemple anterior us adonareu que els càlculs que fem per a cada casella es poden expressar de la següent forma: $$A^{k}[i,j] = \\min\\big(A^{k-1}[i,j], A^{k-1}[i,k]+A^{k-1}[i,k]\\big),\\ \\ k=0,\\dots,\\text{#files}$$\n"
   ]
  },
  {
   "cell_type": "markdown",
   "id": "96a5abfc-101e-48e1-b355-817bf041a478",
   "metadata": {},
   "source": [
    "Havent vist això... **quina és la complexitat d'aquest algorisme**?"
   ]
  },
  {
   "cell_type": "code",
   "execution_count": 38,
   "id": "59588789",
   "metadata": {},
   "outputs": [],
   "source": [
    "def floyd_wharsall(G, id2index):\n",
    "    n = len(G.nodes())    \n",
    "    A = np.zeros((n,n))+np.inf    \n",
    "    # pas1 -> zeros a la diagonal    \n",
    "    for i in range(n):\n",
    "        A[i][i] = 0        \n",
    "    # pas2 -> omplir la matriu    \n",
    "    labels = nx.get_edge_attributes(G,'weight')    \n",
    "    for elem in labels.items():\n",
    "        sortida, arribada, pes = elem[0][0], elem[0][1], elem[1]\n",
    "        #distancia[sortida][arribada]=pes\n",
    "        A[id2index[sortida]][id2index[arribada]] = pes        \n",
    "    # pas 3 triple for\n",
    "    for k in range(n):\n",
    "        for i in range(n):\n",
    "            for j in range(n):\n",
    "                dist[i,j] = min(dist[i,k]+dist[k,j], dist[i][j])  \n",
    "    return A"
   ]
  },
  {
   "cell_type": "code",
   "execution_count": 39,
   "id": "e528277b",
   "metadata": {},
   "outputs": [
    {
     "data": {
      "image/png": "[encoded data removed]",
      "text/plain": [
       "<Figure size 432x288 with 1 Axes>"
      ]
     },
     "metadata": {},
     "output_type": "display_data"
    },
    {
     "name": "stdout",
     "output_type": "stream",
     "text": [
      "[[ 0.  3. inf  7.]\n",
      " [ 8.  0.  2. inf]\n",
      " [ 5. inf  0.  1.]\n",
      " [ 2. inf inf  0.]]\n"
     ]
    }
   ],
   "source": [
    "G = nx.DiGraph()\n",
    "G.add_weighted_edges_from(((1,2,3), (1,4,7), (2,1,8), (2,3,2), (3,1,5), (3,4,1), (4,1,2)))\n",
    "\n",
    "# Establim les posicions de cada node de forma que ens quedi un quadrat\n",
    "pos = {1: [0,1], 2:[1,1], 3:[1,0], 4:[0,0]}\n",
    "\n",
    "# Dibuixem els nodes i les arestes\n",
    "nx.draw(G,pos, with_labels=True, connectionstyle='arc3, rad = 0.1')\n",
    "\n",
    "# Dibuixem els pesos\n",
    "labels = nx.get_edge_attributes(G,'weight')\n",
    "my_draw_networkx_edge_labels(G, pos, edge_labels=labels, rad=0.1, rotate=False)\n",
    "plt.show()\n",
    "\n",
    "id2index = {k: v for v, k in enumerate(sorted(G.nodes()))}\n",
    "dist = floyd_wharsall(G, id2index)\n",
    "\n",
    "print(dist)"
   ]
  },
  {
   "cell_type": "markdown",
   "id": "5c501d16",
   "metadata": {},
   "source": [
    "# Cicles"
   ]
  },
  {
   "cell_type": "markdown",
   "id": "9f60493f",
   "metadata": {},
   "source": [
    "Donat un graf $G$, un __cicle__ és un conjunt de nodes de $G$ connectats per arestes formant una cadena tancada:\n",
    "\n",
    "<img src=\"https://upload.wikimedia.org/wikipedia/commons/f/f6/Undirected_6_cycle.svg\" alt=\"Cicle\" />"
   ]
  },
  {
   "cell_type": "markdown",
   "id": "2145a810",
   "metadata": {},
   "source": [
    "<div class=\"alert alert-success\">\n",
    "<h1>Problema 2</h1>\n",
    "<p>\n",
    "    Implementeu un algorisme per a detectar si un graf conté, com a mínim, un cicle. <br>\n",
    "    Per a facilitar lleugerament el problema, suposarem que el graf és <b>no dirigit</b> i té només <b>una component connexa</b>.\n",
    "</p>    \n",
    "        \n",
    "</div>"
   ]
  },
  {
   "cell_type": "code",
   "execution_count": null,
   "id": "caa8d962",
   "metadata": {},
   "outputs": [],
   "source": [
    "import networkx as nx\n",
    "from matplotlib import pyplot as plt\n",
    "\n",
    "def cycles(G):\n",
    "    \"\"\"\n",
    "    Comprova si un graf té cicles\n",
    "    \n",
    "    Params\n",
    "    ======\n",
    "    :G: Un objeccte de la classe nx.Graph\n",
    "    \n",
    "    Returns\n",
    "    =======\n",
    "    :b: Un boleà True/False indicant si el graf G té o no cicles.\n",
    "    \"\"\"\n",
    "    \n",
    "    b = False\n",
    "    return b"
   ]
  },
  {
   "cell_type": "code",
   "execution_count": null,
   "id": "b50a4b1a",
   "metadata": {},
   "outputs": [],
   "source": [
    "G1 = nx.Graph()\n",
    "G1.add_edges_from(((1,2), (1,4), (2,1), (2,3), (4,3)))\n",
    "\n",
    "G2 = nx.Graph()\n",
    "G2.add_edges_from(((1,2), (1,3), (2,4), (2,5), (2,6), (3,7), (3,8)))\n",
    "\n",
    "G3 = nx.Graph()\n",
    "G3.add_edges_from(((1,2), (1,4), (2,1), (2,3), (4,3), (4,5), (3,5)))\n",
    "\n",
    "fig, axs = plt.subplots(1,3,figsize=(20,5))\n",
    "nx.draw(G1, with_labels=True, ax=axs[0])\n",
    "axs[0].set_title(f'Cicles: {cycles(G1)}')\n",
    "\n",
    "nx.draw(G2, with_labels=True, ax=axs[1])\n",
    "axs[1].set_title(f'Cicles: {cycles(G2)}')\n",
    "\n",
    "nx.draw(G3, with_labels=True, ax=axs[2])\n",
    "axs[2].set_title(f'Cicles: {cycles(G3)}')\n",
    "\n",
    "plt.show()"
   ]
  },
  {
   "cell_type": "markdown",
   "id": "9f67d12f",
   "metadata": {},
   "source": [
    "## Camí Eulerià\n",
    "\n",
    "Un __camí eulerià__ d'un Graf $G$ és un camí de $G$ que passa una única vegada per cada aresta. El problema dels camins eulerians va ser la base de tota la teoria de grafs i va ser postulat per Lehonard Euler en el famós problema de __els set ponts de Königsberg__. En aquest problema Euler es preguntava si podia creuar tots els ponts una sola vegada.\n",
    "\n",
    "<table>\n",
    "    <tr>\n",
    "        <td>\n",
    "            <img src=\"https://upload.wikimedia.org/wikipedia/commons/5/5d/Konigsberg_bridges.png\" alt=\"Ponts de Konigsberg\" style=\"width:300px\"/>\n",
    "        </td>\n",
    "        <td>\n",
    "            <img src=\"https://upload.wikimedia.org/wikipedia/commons/9/96/K%C3%B6nigsberg_graph.svg\" alt=\"Ponts de Konigsberg\" style=\"width:300px\"/>\n",
    "        </td>\n",
    "    </tr>\n",
    "</table>"
   ]
  },
  {
   "cell_type": "markdown",
   "id": "91eb1d95",
   "metadata": {},
   "source": [
    "<div class=\"alert alert-success\">\n",
    "<h1>Problema 3</h1>\n",
    "<p>\n",
    "    Implementeu un algorisme que trobi un <b>camí eulerià</b>, si existeix, per a un graf <b>no dirigit</b> donat. Seguiu el següent procediment:\n",
    "    <ol>\n",
    "        <li> Comproveu que pot existir un camí. Quina condició han de complir els graus dels nodes?\n",
    "        <li> Implementeu un <b>dfs per a les arestes</b>. En el moment en que no pugui continuar l'exploració (ja que totes les arestes d'un node ja han estat visitades), afegim el node en el camí a retornar. \n",
    "    </ol>\n",
    "</p>    \n",
    "        \n",
    "</div>"
   ]
  },
  {
   "cell_type": "code",
   "execution_count": null,
   "id": "c2fc4cb0-794c-4867-ae9f-354d6ac84e3f",
   "metadata": {},
   "outputs": [],
   "source": [
    "def euler_path(G):\n",
    "    \"\"\"\n",
    "    Calcula el camí eulerià d'un graf no dirigit\n",
    "    \n",
    "    Params\n",
    "    ======\n",
    "    :G: Un objecte de la classe nx.Graph\n",
    "    \n",
    "    Returns\n",
    "    =======\n",
    "    :path: El camí eulerià\n",
    "    \"\"\"\n",
    "    path = []\n",
    "    return path"
   ]
  },
  {
   "cell_type": "code",
   "execution_count": null,
   "id": "ee737255-0aa7-466d-93ac-849592d7663e",
   "metadata": {},
   "outputs": [],
   "source": [
    "G = nx.Graph()\n",
    "G.add_edges_from([(0,1),(1,2),(2,0),(0,3),(3,4),(4,0)])\n",
    "nx.draw_kamada_kawai(G, with_labels=True)\n",
    "euler_path(G)"
   ]
  },
  {
   "cell_type": "code",
   "execution_count": null,
   "id": "f50c0124-07b6-469d-95ef-e4f767253b67",
   "metadata": {},
   "outputs": [],
   "source": [
    "G = nx.Graph()\n",
    "G.add_edges_from([(0,1),(1,2),(2,0),(0,3),(3,4),(4,5),(5,3)])\n",
    "nx.draw_kamada_kawai(G, with_labels=True)\n",
    "euler_path(G)"
   ]
  },
  {
   "cell_type": "code",
   "execution_count": null,
   "id": "d37b5691-9886-4f45-9cc3-6fbe3e7931b9",
   "metadata": {},
   "outputs": [],
   "source": [
    "G = nx.Graph()\n",
    "G.add_edges_from([(0,1),(1,2),(2,3),(3,4),(4,2),(4,1)])\n",
    "nx.draw_kamada_kawai(G, with_labels=True)\n",
    "euler_path(G)"
   ]
  },
  {
   "cell_type": "markdown",
   "id": "52c92352",
   "metadata": {},
   "source": [
    "## Circuit Eulerià\n",
    "\n",
    "Un __circuit eulerià__ d'un graf $G$ és un camí de $G$ que passa una única vegada per cada aresta i que **té com a inici i fi el mateix node**. Observeu que tot circuit eulerià és també un camí eulerià però que el recíproc no és cert."
   ]
  },
  {
   "cell_type": "markdown",
   "id": "3fb6ed24",
   "metadata": {},
   "source": [
    "<div class=\"alert alert-success\">\n",
    "<h1>Problema 4</h1>\n",
    "<p>\n",
    "    Implementeu un algorisme que trobi un <b>circuit eulerià</b>, si existeix, per a un graf <b>no dirigit</b> donat.\n",
    "</p>    \n",
    "        \n",
    "</div>"
   ]
  },
  {
   "cell_type": "code",
   "execution_count": null,
   "id": "87910122-9075-432e-9bc4-c8b9a3b92f4e",
   "metadata": {},
   "outputs": [],
   "source": [
    "from random import choice\n",
    "def euler_circuit(G):\n",
    "    \"\"\"\n",
    "    Calcula el circuit eulerià d'un graf no dirigit\n",
    "    \n",
    "    Params\n",
    "    ======\n",
    "    :G: Un objecte de la classe nx.Graph\n",
    "    \n",
    "    Returns\n",
    "    =======\n",
    "    :path: El circuit eulerià\n",
    "    \"\"\"\n",
    "    path = []\n",
    "    return path"
   ]
  },
  {
   "cell_type": "code",
   "execution_count": null,
   "id": "4428c631-0bbb-4b21-bb15-6fd0ab834553",
   "metadata": {},
   "outputs": [],
   "source": [
    "G = nx.Graph()\n",
    "G.add_edges_from([(0,1),(1,2),(2,0),(0,3),(3,4),(4,0)])\n",
    "nx.draw_kamada_kawai(G, with_labels=True)\n",
    "euler_circuit(G)"
   ]
  },
  {
   "cell_type": "code",
   "execution_count": null,
   "id": "3e46ce30-4448-4241-bc49-4d35263dd746",
   "metadata": {},
   "outputs": [],
   "source": [
    "G = nx.Graph()\n",
    "G.add_edges_from([(0,1),(1,2),(2,3),(3,4),(4,2),(4,1)])\n",
    "nx.draw_kamada_kawai(G, with_labels=True)\n",
    "euler_circuit(G)"
   ]
  },
  {
   "cell_type": "code",
   "execution_count": null,
   "id": "6b4ea306-0b7e-45ca-91f6-097584b9df99",
   "metadata": {},
   "outputs": [],
   "source": [
    "G = nx.Graph()\n",
    "G.add_edges_from([(0,1),(1,2),(2,0),(0,3),(3,4),(4,5),(5,3)])\n",
    "nx.draw_kamada_kawai(G, with_labels=True)\n",
    "euler_circuit(G)"
   ]
  },
  {
   "cell_type": "markdown",
   "id": "e2e35ba9-b4b4-48fe-93e4-893ea0de87f5",
   "metadata": {},
   "source": [
    "<div class=\"alert alert-success\">\n",
    "<h1>Problema 5</h1>\n",
    "<p>\n",
    "    Implementeu funcions equivalents a les dels Problemes 3 i 4 considerant ara que teniu grafs dirigits.\n",
    "</p>    \n",
    "        \n",
    "</div>"
   ]
  },
  {
   "cell_type": "code",
   "execution_count": null,
   "id": "804f2dc7-24ce-4a86-938b-aa158d9e00d1",
   "metadata": {},
   "outputs": [],
   "source": [
    "def euler_path_digraph(G):\n",
    "    \"\"\"\n",
    "    Calcula el circuit eulerià d'un graf dirigit\n",
    "    \n",
    "    Params\n",
    "    ======\n",
    "    :G: Un objecte de la classe nx.DiGraph\n",
    "    \n",
    "    Returns\n",
    "    =======\n",
    "    :path: El camí eulerià\n",
    "    \"\"\"\n",
    "    path = []\n",
    "    return path"
   ]
  },
  {
   "cell_type": "code",
   "execution_count": null,
   "id": "a3338f9b-90b0-48c9-b502-f328aae68d79",
   "metadata": {},
   "outputs": [],
   "source": [
    "def euler_circuit_digraph(G):\n",
    "    \"\"\"\n",
    "    Calcula el circuit eulerià d'un graf dirigit\n",
    "    \n",
    "    Params\n",
    "    ======\n",
    "    :G: Un objecte de la classe nx.DiGraph\n",
    "    \n",
    "    Returns\n",
    "    =======\n",
    "    :path: El circuit eulerià\n",
    "    \"\"\"\n",
    "    path = []\n",
    "    return path"
   ]
  },
  {
   "cell_type": "markdown",
   "id": "43d98e2d",
   "metadata": {},
   "source": [
    "<div class=\"alert alert-success\">\n",
    "<h1>Problema 6</h1>\n",
    "<p>\n",
    "    Considereu la següent planta d'un pis:<br>\n",
    "    <img src='https://ssegui.github.io/algo2/classes/images/house.png' width=30% />\n",
    "</p>    \n",
    "    <ol>\n",
    "        <li> Existeix un camí que passi exactament un cop per cada porta? En cas afirmatiu, quin és el recorregut que hem de seguir?\n",
    "        <li> Existeix un camí que passi exactament un cop per cada porta començant i acabant a la mateixa habitació? En cas afirmatiu, quin és el recorregut que hem de seguir? A quines habitacions podem començar?\n",
    "        <li> Existeix un camí que visiti totes les habitacions un sol cop? (No hem de passar necessàriament per a totes les portes).\n",
    "    </ol>\n",
    "    \n",
    "Creeu un graf G utilitzant networkx que representi el plànol de la casa donat. Utilitzant les funcions dels exercicis anteriors, responeu a les preguntes.\n",
    "        \n",
    "</div>"
   ]
  },
  {
   "cell_type": "code",
   "execution_count": null,
   "id": "37f35300-7072-48ee-abab-cb7b7d7f3255",
   "metadata": {},
   "outputs": [],
   "source": [
    "G = nx.Graph()\n",
    "G.add_edges_from([(0,1),(1,2),(0,3),(3,4),(1,4),(4,5),(1,5),(5,6),(2,6)])\n",
    "pos = {0: (0,1), 1:(1,1), 2:(2,1), 3:(0,0), 4:(0.75,0), 5:(1.25,0), 6:(2,0)}\n",
    "nx.draw(G, pos=pos, with_labels=True)\n",
    "euler_path(G)\n",
    "\n",
    "# Podem començar a les habitacions 4 i 5 (dues centrals de la part inferior) ja que tenen grau senar"
   ]
  },
  {
   "cell_type": "code",
   "execution_count": null,
   "id": "b182e464-d4df-4e62-9dbf-29e30eda6fba",
   "metadata": {},
   "outputs": [],
   "source": [
    "euler_circuit(G)"
   ]
  }
 ],
 "metadata": {
  "kernelspec": {
   "display_name": "Python 3 (ipykernel)",
   "language": "python",
   "name": "python3"
  },
  "language_info": {
   "codemirror_mode": {
    "name": "ipython",
    "version": 3
   },
   "file_extension": ".py",
   "mimetype": "text/x-python",
   "name": "python",
   "nbconvert_exporter": "python",
   "pygments_lexer": "ipython3",
   "version": "3.8.8"
  }
 },
 "nbformat": 4,
 "nbformat_minor": 5
}
