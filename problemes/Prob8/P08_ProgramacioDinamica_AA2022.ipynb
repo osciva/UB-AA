{
 "cells": [
  {
   "cell_type": "markdown",
   "metadata": {},
   "source": [
    "<div style=\"padding:30px; color: white; background-color: #0071CD\">\n",
    "<center>\n",
    "<img src=\"img/logoub.jpeg\"></img>\n",
    "<center>\n",
    "<h1>Algorísmica Avançada 2022</h1>\n",
    "<h2>Problemes 8 - Programació Dinàmica</h2>\n",
    "</center>\n",
    "</div>"
   ]
  },
  {
   "cell_type": "code",
   "execution_count": 1,
   "metadata": {},
   "outputs": [
    {
     "data": {
      "text/html": [
       "<style>.container { width:100% !important; }</style>"
      ],
      "text/plain": [
       "<IPython.core.display.HTML object>"
      ]
     },
     "metadata": {},
     "output_type": "display_data"
    }
   ],
   "source": [
    "from IPython.display import display, HTML\n",
    "display(HTML(\"<style>.container { width:100% !important; }</style>\"))"
   ]
  },
  {
   "cell_type": "code",
   "execution_count": 2,
   "metadata": {},
   "outputs": [],
   "source": [
    "import networkx as nx\n",
    "from matplotlib import pyplot as plt\n",
    "from digraph_plot import my_draw_networkx_edge_labels\n",
    "import numpy as np"
   ]
  },
  {
   "cell_type": "markdown",
   "metadata": {},
   "source": [
    "<div class=\"alert alert-success\">\n",
    "    <h1>Problema 1: Subseqüència Incremental més Llarga (Longest Increasing Subsequence, LIS)</h1>\n",
    "    <p>\n",
    "        Donada una seqüència de números, per exemple: $10, 22, 9, 33, 21, 50, 41, 60, 80$, volem trobar la subsequència d'elements més llarga possible que satisfaci que els seus elements estiguin ordenats de petit a gran.<br>\n",
    "        En el cas de l'exemple donat, la subseqüència més llarga té 6 elements: $10, 22, 33, 50, 60, 80$. Observeu però, que no és única.\n",
    "    <p>\n",
    "    \n",
    "</div>"
   ]
  },
  {
   "cell_type": "code",
   "execution_count": 2,
   "metadata": {},
   "outputs": [],
   "source": [
    "def lis_ends_here(seq, n):\n",
    "    \"\"\"\n",
    "    Aquesta funció ens retorna la longitud de la seqüència més llarga que acaba a la posició 'n'.\n",
    "    \n",
    "    Params\n",
    "    ======\n",
    "    :seq: Llista d'elements\n",
    "    :n: Índex de la llista\n",
    "    \n",
    "    Returns\n",
    "    =======\n",
    "    :val: Longitud de la LIS suposant que finalitza a 'n'.\n",
    "    \"\"\"\n",
    "    #cas base\n",
    "    if n==0:\n",
    "        return 1\n",
    "\n",
    "    \n",
    "    val=1\n",
    "    \n",
    "    for i in range(n-1,-1,-1):\n",
    "        if seq[i]<seq[n]:\n",
    "            val=max(val, 1+lis_ends_here(seq,i))\n",
    "                \n",
    "    return val\n",
    "\n",
    "def lis_rec(seq):\n",
    "    \"\"\"\n",
    "    Solució recursiva al problema LIS.\n",
    "    \n",
    "    Params\n",
    "    ======\n",
    "    :seq: Seqüència inicial.\n",
    "    \n",
    "    Returns\n",
    "    =======\n",
    "    :val: Longitud de LIS.\n",
    "    \"\"\"\n",
    "    candidates=[lis_ends_here(seq,i) for i in range(len(seq))]\n",
    "    print(candidates)\n",
    "    return max(candidates)\n",
    "    "
   ]
  },
  {
   "cell_type": "code",
   "execution_count": 3,
   "metadata": {},
   "outputs": [
    {
     "name": "stdout",
     "output_type": "stream",
     "text": [
      "[1, 2, 1, 3, 3, 4, 4, 5, 6]\n",
      "6\n",
      "[1, 1, 2, 1]\n",
      "2\n",
      "[1, 2, 1, 2]\n",
      "2\n"
     ]
    }
   ],
   "source": [
    "print(lis_rec([1,2,0,9,3,5,4,6,8]))  # Retorna 6\n",
    "print(lis_rec([4,1,2,1]))            # Retorna 2\n",
    "print(lis_rec([5,7,1,6]))            # Retorna 2"
   ]
  },
  {
   "cell_type": "code",
   "execution_count": 6,
   "metadata": {},
   "outputs": [],
   "source": [
    "def lis_dp_bottom_up(seq):\n",
    "    \"\"\"\n",
    "    Solució al problema LIS usant programació dinàmica.\n",
    "    \n",
    "    Params\n",
    "    ======\n",
    "    :seq: Llista d'enters\n",
    "    \n",
    "    Returns\n",
    "    =======\n",
    "    :val: La longitud de la subseqüència incremental més llarga.\n",
    "    \n",
    "    \"\"\"\n",
    "    dp=[1]*(len(seq))\n",
    "    n=len(seq)\n",
    "    for i in range(1,n):\n",
    "        for j in range(0,i):\n",
    "            if seq[i]>seq[j] and dp[i]<dp[j]+1:\n",
    "                dp[i]=dp[j]+1\n",
    "                \n",
    "    return max(dp)"
   ]
  },
  {
   "cell_type": "code",
   "execution_count": 7,
   "metadata": {},
   "outputs": [
    {
     "name": "stdout",
     "output_type": "stream",
     "text": [
      "6\n",
      "2\n",
      "2\n"
     ]
    }
   ],
   "source": [
    "print(lis_dp_bottom_up([1,2,0,9,3,5,4,6,8])) # Retorna 6\n",
    "print(lis_dp_bottom_up([4,1,2,1]))           # Retorna 2\n",
    "print(lis_dp_bottom_up([5,7,1,6]))           # Retorna 2"
   ]
  },
  {
   "cell_type": "markdown",
   "metadata": {},
   "source": [
    "<div class=\"alert alert-success\">\n",
    "    <h1>Problema 2: Problema de la motxilla</h1>\n",
    "    <p>\n",
    "        Implementeu la funció <b>knapsack</b>. Donat un nombre enter positiu, $W$, que defineix la capacitat (en Kg) màxima de la motxilla, una llista d'enters, $weights$, que definex el pes dels objectes i una llista d'enters, $values$, que indica el valor dels objectes, retorneu el valor màxim que podem ficar dins la motxilla. <br>\n",
    "    <p>\n",
    "    <p><b>Quina és la complexitat de l'algorisme?</b></p>\n",
    "    \n",
    "</div>"
   ]
  },
  {
   "cell_type": "markdown",
   "metadata": {},
   "source": [
    "<p>\n",
    "    Exemple:\n",
    "    <ul>\n",
    "        <li>Número d'items: 6\n",
    "        <li>Preus dels ítems: 6, 4, 5, 3, 9, 7\n",
    "        <li>Pesos dels ítems: 4, 2, 3, 1, 6, 4\n",
    "        <li>Capacitat de la motxilla: 10\n",
    "    <center><img src='img/knapsack.png'></center>\n",
    "</p>"
   ]
  },
  {
   "cell_type": "code",
   "execution_count": 17,
   "metadata": {},
   "outputs": [],
   "source": [
    "def knapsack(W, weights, values, n):\n",
    "    \"\"\"\n",
    "    Implementa la solució al problema de la motxilla.\n",
    "\n",
    "    Params\n",
    "    ======\n",
    "    :W: Capacitat màxima de la motxilla\n",
    "    :weights : llista d'enters amb els pesos dels objectes\n",
    "    :values : llista d'enters amb els valors dels objectes\n",
    "    :n: numero d'objectes\n",
    "    \n",
    "    Returns\n",
    "    =======\n",
    "    :value: valor màxim que podem ficar dins la motxilla\n",
    "    \"\"\"\n",
    "    \n",
    "    # Inicialitzem la taula de programació dinàmica.\n",
    "    # Cada cel·la (i,w) ens retornarà el valor màxim que podem obtenir considerant els 'i' primers objectes\n",
    "    # tals que el seu pes total és inferior o igual a w.\n",
    "    K = [[0 for x in range(W+1)] for x in range (n+1)]\n",
    "\n",
    "    for i in range(n+1):\n",
    "        for w in range(W+1):\n",
    "            if(i==0) or (w==0):\n",
    "                K[i][w] = 0 \n",
    "            elif weights[i-1] <= w:\n",
    "                K[i][w] = max(values[i-1] + K[i-1][w-weights[i-1]], K[i-1][w])\n",
    "            else:\n",
    "                K[i][w] = K[i-1][w]\n",
    "\n",
    "    value = K[n][W]\n",
    "    \n",
    "    \n",
    "    # Print\n",
    "    for line in K:\n",
    "        for elm in line:\n",
    "            print(f\"{elm:>3}\",end=\" \")\n",
    "        print()\n",
    "    # end print\n",
    "    \n",
    "    return K[n][W]"
   ]
  },
  {
   "cell_type": "code",
   "execution_count": 18,
   "metadata": {},
   "outputs": [
    {
     "name": "stdout",
     "output_type": "stream",
     "text": [
      "  0   0   0   0   0 \n",
      "  0   6   6   6   6 \n",
      "  0   6  10  16  16 \n",
      "  0   6  10  16  18 \n",
      "18\n"
     ]
    }
   ],
   "source": [
    "W = 4\n",
    "weights = [1, 2, 3]\n",
    "values = [6, 10, 12]\n",
    "n = len(values)\n",
    "print(knapsack(W, weights, values, n))  # Retorna 18"
   ]
  },
  {
   "cell_type": "code",
   "execution_count": 19,
   "metadata": {},
   "outputs": [
    {
     "name": "stdout",
     "output_type": "stream",
     "text": [
      "  0   0   0   0   0   0   0   0   0   0   0 \n",
      "  0   0   0   0   0   0   4   4   4   4   4 \n",
      "  0   0   0   0   2   2   4   4   4   4   6 \n",
      "  0   0   0   0   2   3   4   4   4   5   6 \n",
      "  0   0   0   1   2   3   4   4   4   5   6 \n",
      "  0   0   0   1   2   3   4   4   4   6   6 \n",
      "  0   0   0   1   2   3   4   4   4   6   6 \n",
      "6\n"
     ]
    }
   ],
   "source": [
    "W = 10\n",
    "weights = [6,4,5,3,9,7]\n",
    "values = [4,2,3,1,6,4]\n",
    "n = len(values)\n",
    "print(knapsack(W, weights, values, n))  # Retorna 19"
   ]
  },
  {
   "cell_type": "code",
   "execution_count": 20,
   "metadata": {},
   "outputs": [
    {
     "name": "stdout",
     "output_type": "stream",
     "text": [
      "  0   0   0   0   0   0   0   0   0   0   0   0   0   0   0   0   0   0   0   0   0   0   0   0   0   0   0   0   0   0   0   0   0   0   0   0   0   0   0   0   0 \n",
      "  0   0   0   0   0   0   0   0   0   0  60  60  60  60  60  60  60  60  60  60  60  60  60  60  60  60  60  60  60  60  60  60  60  60  60  60  60  60  60  60  60 \n",
      "  0   0   0   0   0   0   0   0   0   0  60  60  60  60  60  60  60  60  60  60 100 100 100 100 100 100 100 100 100 100 160 160 160 160 160 160 160 160 160 160 160 \n",
      "  0   0   0   0   0   0   0   0   0   0  60  60  60  60  60  60  60  60  60  60 100 100 100 100 100 100 100 100 100 100 160 160 160 160 160 160 160 160 160 160 180 \n",
      "180\n"
     ]
    }
   ],
   "source": [
    "W = 40\n",
    "weights = [10, 20, 30]\n",
    "values = [60, 100, 120]\n",
    "n = len(values)\n",
    "print(knapsack(W, weights, values, n))  # Retorna 180"
   ]
  },
  {
   "cell_type": "markdown",
   "metadata": {
    "tags": []
   },
   "source": [
    "<div class=\"alert alert-success\">\n",
    "    <h1>Problema 3: Travelling Salesman Problem</h1>\n",
    "    <p>\n",
    "        Implementeu la funció <b>travelling_salesman</b>. Seguiu una estratègia de programació dinàmica on aneu emmagatzemant càlculs realitzats prèviament.<br><br> \n",
    "        <b>Quina és la complexitat de l'algorisme?</b>\n",
    "    <p>\n",
    "        \n",
    "        \n",
    "    \n",
    "</div>"
   ]
  },
  {
   "cell_type": "code",
   "execution_count": 11,
   "metadata": {},
   "outputs": [],
   "source": [
    "from itertools import combinations\n",
    "from collections import defaultdict\n",
    "\n",
    "def travelling_salesman(G):\n",
    "    \"\"\"\n",
    "    Aquesta funció implementa la solució al TSP (Travelling Salesman Problem)\n",
    "    \n",
    "    Params\n",
    "    ======\n",
    "    :G: Un objecte de la classe nx.DiGraph\n",
    "    \n",
    "    Returns\n",
    "    =======\n",
    "    :value: El cost mínim de visitar tots els nodes\n",
    "    \"\"\"\n",
    "    \n",
    "    value = 0\n",
    "    return value"
   ]
  },
  {
   "cell_type": "code",
   "execution_count": 12,
   "metadata": {},
   "outputs": [
    {
     "data": {
      "image/png": "[encoded data removed]",
      "text/plain": [
       "<Figure size 600x500 with 1 Axes>"
      ]
     },
     "metadata": {},
     "output_type": "display_data"
    },
    {
     "data": {
      "text/plain": [
       "0"
      ]
     },
     "execution_count": 12,
     "metadata": {},
     "output_type": "execute_result"
    }
   ],
   "source": [
    "# Matriu de pesos del graf que volem crear\n",
    "A = np.array([[0,4,1,9],\n",
    "              [3,0,6,11],\n",
    "              [4,1,0,2],\n",
    "              [6,5,-4,0]])\n",
    "#A = np.array([[0,3,4,6],[4,0,1,5],[1,6,0,-4],[9,11,2,0]])\n",
    "#A = np.array([[0,10,15,20],[10,0,35,25],[15,35,0,30],[20,25,30,0]])\n",
    "G = nx.from_numpy_matrix(A,create_using=nx.DiGraph)\n",
    "\n",
    "fig = plt.figure(figsize=(6,5))\n",
    "\n",
    "# Si voleu executar grafs amb més de 4 nodes, podeu canviar el layout a spring_layout\n",
    "pos=nx.planar_layout(G) \n",
    "nx.draw(G, pos,with_labels=True,connectionstyle='arc3, rad = 0.1', ax=fig.gca())\n",
    "labels = nx.get_edge_attributes(G,'weight')\n",
    "my_draw_networkx_edge_labels(G,pos,edge_labels=labels, rad=0.1,rotate=False)\n",
    "plt.show()\n",
    "\n",
    "res = travelling_salesman(G)\n",
    "res   # Retorna 9"
   ]
  },
  {
   "cell_type": "markdown",
   "metadata": {},
   "source": [
    "<div class=\"alert alert-success\">\n",
    "    <h1>Problema 4: Train Sorting</h1>\n",
    "    <p>\n",
    "        Implementeu la funció <b>train_sorting</b>. Seguiu una estratègia de programació dinàmica .\n",
    "    <p>  \n",
    "     <p>L'Èric és enginyer. Condueix trens però també organitza els vagons dins cada tren. Prefereix posar els vagons en ordre decreixent de pes, amb el vagó més pesat al davant del tren.\n",
    "     Malauradament, classificar els vagons de tren no és fàcil. Els vagons arriben a l'estació de tren en un ordre predeterminat i no es pot simplement agafar un vagó i col·locar-lo en un lloc qualsevol.\n",
    "     Quan arriba un vagó, l'Èric pot afegir-lo al principi o al final del seu tren, o negar-se a afegir-lo. El tren resultant ha de ser el més llarg possible, però els vagons que conté han d'estar ordenats per pes.</p>\n",
    "     <p>Tenint en compte els pesos dels vagons en l'ordre en què arriben, quin és el tren més llarg que pot fer l'Èric?</p>\n",
    "</div>"
   ]
  },
  {
   "cell_type": "code",
   "execution_count": 13,
   "metadata": {},
   "outputs": [],
   "source": [
    "def train_sorting(values):\n",
    "    \"\"\"\n",
    "    Calcula la longitd màxima que pot tenir el tren\n",
    "    \n",
    "    Params\n",
    "    ======\n",
    "    :values: Vector d'enters que indica el pes del vagons en l'ordre en que arriben a l'estació\n",
    "    \n",
    "    Returns\n",
    "    =======\n",
    "    :d: La longitud màxima del tren\n",
    "    \"\"\"\n",
    "    pass"
   ]
  },
  {
   "cell_type": "code",
   "execution_count": 14,
   "metadata": {},
   "outputs": [
    {
     "name": "stdout",
     "output_type": "stream",
     "text": [
      "None\n"
     ]
    }
   ],
   "source": [
    "values = [1,2,3,2,5,3]\n",
    "print(train_sorting(values))  # Retorna 4"
   ]
  },
  {
   "cell_type": "markdown",
   "metadata": {},
   "source": [
    " <div class=\"alert alert-success\">\n",
    "     <h1>Problema 5: Longest Palindromic Subsequence</h1>  \n",
    "     <p>Donada una seqüencia de text, volem trobar la longitud del palindom més llarg. Un palíndrom és una paraula que es llegeix igual d'esquerra a dreta que de dreta a esquerra.<br><br>\n",
    "     Exemple: BBABCBCAB <br>\n",
    "     Solució: longitud 7 ( BABCBAB )<br><br>\n",
    "    </p>\n",
    "    <p>Trobeu una solució bottom-up amb programació dinàmica</p>\n",
    "    <p><b>Pista:</b> si el primer i l'últim caràcter de la cadena és el mateix : $lps(str) = 2 + lps(str[1:n-2])$</p>\n",
    "    <p>en cas contrari: $lps(str) = max(lps(str[0:n-2],str[1:n-1])$</p>\n",
    " </div>"
   ]
  },
  {
   "cell_type": "code",
   "execution_count": 15,
   "metadata": {},
   "outputs": [],
   "source": [
    "# Aquí teniu la solució per força bruta\n",
    "def longest_palindrom_subsequence_brute_force(seq, i,j):\n",
    "    \"\"\"\n",
    "    Algorisme de força bruta (recursiu) \n",
    "    \n",
    "    Params\n",
    "    ======\n",
    "    :seq: Una cadena de text\n",
    "    :prices: Una llista amb els preus de cada longitud de segment.\n",
    "    \n",
    "    Returns\n",
    "    =======\n",
    "    :d: La longitud del palindrom més llarg\n",
    "    \"\"\"\n",
    "    # cas base 1, sequencia d'un únic caràcter\n",
    "    if i == j:\n",
    "        return 1\n",
    "    \n",
    "    # cas base 2, sequencia de dos caràcters\n",
    "    if (seq[i] == seq[j]) and (i + 1 == j):\n",
    "        return 2\n",
    "    \n",
    "    # Si els dos elements són iguals\n",
    "    if (seq[i] == seq[j]):\n",
    "        return longest_palindrom_subsequence_brute_force(seq, i + 1, j - 1) + 2\n",
    "    \n",
    "    # Si són diferents\n",
    "    return max(longest_palindrom_subsequence_brute_force(seq, i, j - 1),\n",
    "               longest_palindrom_subsequence_brute_force(seq, i + 1, j))\n"
   ]
  },
  {
   "cell_type": "code",
   "execution_count": 16,
   "metadata": {},
   "outputs": [
    {
     "name": "stdout",
     "output_type": "stream",
     "text": [
      "7\n"
     ]
    }
   ],
   "source": [
    "seq = 'BBABCBCAB'\n",
    "print(longest_palindrom_subsequence_brute_force(seq,0,len(seq)-1))"
   ]
  },
  {
   "cell_type": "code",
   "execution_count": 17,
   "metadata": {},
   "outputs": [],
   "source": [
    "def longest_palindrom_subsequence_dp(seq):\n",
    "    \"\"\"\n",
    "    Algorisme usant una estratègia bottom-up\n",
    "    \n",
    "    Params\n",
    "    ======\n",
    "    :text: El text que estem considerant\n",
    "    \n",
    "    Returns\n",
    "    =======\n",
    "    :d: La longitud del palindrom més llarg\n",
    "    \"\"\"\n",
    "    pass\n"
   ]
  },
  {
   "cell_type": "code",
   "execution_count": 18,
   "metadata": {},
   "outputs": [
    {
     "name": "stdout",
     "output_type": "stream",
     "text": [
      "None\n"
     ]
    }
   ],
   "source": [
    "seq = 'BBABCBCAB'\n",
    "print(longest_palindrom_subsequence_dp(seq))"
   ]
  }
 ],
 "metadata": {
  "kernelspec": {
   "display_name": "Python 3 (ipykernel)",
   "language": "python",
   "name": "python3"
  },
  "language_info": {
   "codemirror_mode": {
    "name": "ipython",
    "version": 3
   },
   "file_extension": ".py",
   "mimetype": "text/x-python",
   "name": "python",
   "nbconvert_exporter": "python",
   "pygments_lexer": "ipython3",
   "version": "3.8.8"
  }
 },
 "nbformat": 4,
 "nbformat_minor": 4
}
