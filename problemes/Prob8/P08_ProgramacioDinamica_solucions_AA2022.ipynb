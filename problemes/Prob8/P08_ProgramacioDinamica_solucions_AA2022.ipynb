{
 "cells": [
  {
   "cell_type": "markdown",
   "metadata": {},
   "source": [
    "<div style=\"padding:30px; color: white; background-color: #0071CD\">\n",
    "<center>\n",
    "<img src=\"img/logoub.jpeg\"></img>\n",
    "<center>\n",
    "<h1>Algorísmica Avançada 2022</h1>\n",
    "<h2>Problemes 8 - Programació Dinàmica</h2>\n",
    "</center>\n",
    "</div>"
   ]
  },
  {
   "cell_type": "code",
   "execution_count": 1,
   "metadata": {},
   "outputs": [
    {
     "data": {
      "text/html": [
       "<style>.container { width:100% !important; }</style>"
      ],
      "text/plain": [
       "<IPython.core.display.HTML object>"
      ]
     },
     "metadata": {},
     "output_type": "display_data"
    }
   ],
   "source": [
    "from IPython.display import display, HTML\n",
    "display(HTML(\"<style>.container { width:100% !important; }</style>\"))"
   ]
  },
  {
   "cell_type": "code",
   "execution_count": 2,
   "metadata": {},
   "outputs": [],
   "source": [
    "import networkx as nx\n",
    "from matplotlib import pyplot as plt\n",
    "from digraph_plot import my_draw_networkx_edge_labels\n",
    "import numpy as np"
   ]
  },
  {
   "cell_type": "markdown",
   "metadata": {},
   "source": [
    "<div class=\"alert alert-success\">\n",
    "    <h1>Problema 1: Subseqüència Incremental més Llarga (Longest Increasing Subsequence, LIS)</h1>\n",
    "    <p>\n",
    "        Donada una seqüència de números, per exemple: $10, 22, 9, 33, 21, 50, 41, 60, 80$, volem trobar la subsequència d'elements més llarga possible que satisfaci que els seus elements estiguin ordenats de petit a gran.<br>\n",
    "        En el cas de l'exemple donat, la subseqüència més llarga té 6 elements: $10, 22, 33, 50, 60, 80$. Observeu però, que no és única.\n",
    "    <p>\n",
    "    \n",
    "</div>"
   ]
  },
  {
   "cell_type": "code",
   "execution_count": 3,
   "metadata": {},
   "outputs": [],
   "source": [
    "def lis_ends_here(seq, n):\n",
    "    # Cas base, estem considerant seqüències que acaben en l'element 0,\n",
    "    # és a dir, seqüències d'un sol element. En aquest cas la seqüència\n",
    "    # més llarga només tindrà 1 sol element (l'únic que té).\n",
    "    if n==0:\n",
    "        return 1\n",
    "    # Si n>1 podem cridar recursivament per preguntar el valor de seqüències més petites.\n",
    "    # En el cas que n=3, comprovarem les seqüències que acaben en l'element 2 i recursivament \n",
    "    # les que acaben en l'element 1 i l'element 0.\n",
    "    val = 1\n",
    "    for i in range(n-1, -1, -1):\n",
    "        # Si trobem un element menor anterior, com a mínim incrementem en 1 el valor a retornar\n",
    "        if seq[i] < seq[n]:\n",
    "            val = max(val, 1+lis_ends_here(seq, i))\n",
    "    return val\n",
    "def lis_rec(seq):\n",
    "    # Busquem tots els candidats i escollim el maxim\n",
    "    candidates = [lis_ends_here(seq, i) for i in range(len(seq))]\n",
    "    print(candidates)\n",
    "    return max(candidates)"
   ]
  },
  {
   "cell_type": "code",
   "execution_count": 4,
   "metadata": {},
   "outputs": [
    {
     "name": "stdout",
     "output_type": "stream",
     "text": [
      "[1, 2, 1, 3, 3, 4, 4, 5, 6]\n",
      "6\n",
      "[1, 1, 2, 1]\n",
      "2\n",
      "[1, 2, 1, 2]\n",
      "2\n"
     ]
    }
   ],
   "source": [
    "print(lis_rec([1,2,0,9,3,5,4,6,8]))  # Retorna 6\n",
    "print(lis_rec([4,1,2,1]))            # Retorna 2\n",
    "print(lis_rec([5,7,1,6]))            # Retorna 2"
   ]
  },
  {
   "cell_type": "code",
   "execution_count": 5,
   "metadata": {},
   "outputs": [],
   "source": [
    "def lis_dp_bottom_up(seq):\n",
    "    n = len(seq)  \n",
    "    # Inicialitzem una llista on anirem guardant els resultats de les execucions.\n",
    "    # Aquesta llista contindrà la longitud de la seqüència més llarga que podem construïr\n",
    "    # i que acabi a la posició 'i'=0,...,n-1\n",
    "    dp = [1]*n\n",
    "    # Iterem. Suposem que la seqüència màxima acaba a la posició i=0,...,n-1\n",
    "    for i in range(1, n):        \n",
    "        # Mirem tots els anteriors i, en cas que trobem una parella d'elements en ordre,\n",
    "        # modifiquem la llista        \n",
    "        for j in range(0, i):\n",
    "            if seq[j] < seq[i]:\n",
    "                dp[i] = max(dp[i], dp[j] + 1)\n",
    "    return max(dp)"
   ]
  },
  {
   "cell_type": "code",
   "execution_count": 6,
   "metadata": {},
   "outputs": [
    {
     "name": "stdout",
     "output_type": "stream",
     "text": [
      "ITR: 1\n",
      "SEQ: [1, 2, 0, 9, 3, 5, 4, 6, 8]\n",
      "DPT: [1, 2, 1, 1, 1, 1, 1, 1, 1]\n",
      "\n",
      "ITR: 2\n",
      "SEQ: [1, 2, 0, 9, 3, 5, 4, 6, 8]\n",
      "DPT: [1, 2, 1, 1, 1, 1, 1, 1, 1]\n",
      "\n",
      "ITR: 3\n",
      "SEQ: [1, 2, 0, 9, 3, 5, 4, 6, 8]\n",
      "DPT: [1, 2, 1, 3, 1, 1, 1, 1, 1]\n",
      "\n",
      "ITR: 4\n",
      "SEQ: [1, 2, 0, 9, 3, 5, 4, 6, 8]\n",
      "DPT: [1, 2, 1, 3, 3, 1, 1, 1, 1]\n",
      "\n",
      "ITR: 5\n",
      "SEQ: [1, 2, 0, 9, 3, 5, 4, 6, 8]\n",
      "DPT: [1, 2, 1, 3, 3, 4, 1, 1, 1]\n",
      "\n",
      "ITR: 6\n",
      "SEQ: [1, 2, 0, 9, 3, 5, 4, 6, 8]\n",
      "DPT: [1, 2, 1, 3, 3, 4, 4, 1, 1]\n",
      "\n",
      "ITR: 7\n",
      "SEQ: [1, 2, 0, 9, 3, 5, 4, 6, 8]\n",
      "DPT: [1, 2, 1, 3, 3, 4, 4, 5, 1]\n",
      "\n",
      "ITR: 8\n",
      "SEQ: [1, 2, 0, 9, 3, 5, 4, 6, 8]\n",
      "DPT: [1, 2, 1, 3, 3, 4, 4, 5, 6]\n",
      "\n",
      "6\n"
     ]
    }
   ],
   "source": [
    "print(lis_dp_bottom_up([1,2,0,9,3,5,4,6,8])) # Retorna 6\n",
    "# print(lis_dp_bottom_up([4,1,2,1]))           # Retorna 2"
   ]
  },
  {
   "cell_type": "markdown",
   "metadata": {},
   "source": [
    "<div class=\"alert alert-success\">\n",
    "    <h1>Problema 2: Problema de la motxilla</h1>\n",
    "    <p>\n",
    "        Implementeu la funció <b>knapsack</b>. Donat un nombre enter positiu, $W$, que defineix la capacitat (en Kg) màxima de la motxilla, una llista d'enters, $weights$, que definex el pes dels objectes i una llista d'enters, $values$, que indica el valor dels objectes, retorneu el valor màxim que podem ficar dins la motxilla. <br>\n",
    "    <p>\n",
    "    <p><b>Quina és la complexitat de l'algorisme?</b></p>\n",
    "    \n",
    "</div>"
   ]
  },
  {
   "cell_type": "markdown",
   "metadata": {},
   "source": [
    "<p>\n",
    "    Exemple:\n",
    "    <ul>\n",
    "        <li>Número d'items: 6\n",
    "        <li>Preus dels ítems: 6, 4, 5, 3, 9, 7\n",
    "        <li>Pesos dels ítems: 4, 2, 3, 1, 6, 4\n",
    "        <li>Capacitat de la motxilla: 10\n",
    "    <center><img src='img/knapsack.png'></center>\n",
    "</p>"
   ]
  },
  {
   "cell_type": "code",
   "execution_count": 7,
   "metadata": {},
   "outputs": [],
   "source": [
    "def knapsack(W, weights, values, n):\n",
    "    # Inicialitzem la taula de programació dinàmica.\n",
    "    # Cada cel·la (i,w) ens retornarà el valor màxim que podem obtenir considerant els 'i' primers objectes\n",
    "    # tals que el seu pes total és inferior o igual a w.\n",
    "    K = [[0 for x in range(W+1)] for x in range (n+1)]\n",
    "    # La variable i ens controla els diferents objectes que tenim.\n",
    "    # L'usem per accedir a la llista de 'values'\n",
    "    for i in range(n+1):  \n",
    "        # La variable w ens controla el pes total que estem considerant fins al moment\n",
    "        for w in range(W+1): \n",
    "            # Si no tenim cap objecte o si el pes màxim que estem considerant és 0, no podem posar cap objecte.\n",
    "            if(i==0) or (w==0):\n",
    "                K[i][w] = 0 # També podríem posar un 'continue' doncs ja ho hem inicialitzat tot a zero. \n",
    "            # En el cas en que l'objecte a considerar estigui dins el pes permès, mirem si el podem afegir (si maximitza el valor)\n",
    "            elif weights[i-1] <= w:\n",
    "                K[i][w] = max(values[i-1] + K[i-1][w-weights[i-1]], K[i-1][w])\n",
    "            # En cas que l'objecte no estigui dins el pes permès, no modifiquem el valor\n",
    "            else:\n",
    "                K[i][w] = K[i-1][w]\n",
    "    # El cas que ens interessa \n",
    "    value = K[n][W]\n",
    "    return value"
   ]
  },
  {
   "cell_type": "code",
   "execution_count": 8,
   "metadata": {},
   "outputs": [
    {
     "name": "stdout",
     "output_type": "stream",
     "text": [
      "  0   0   0   0   0 \n",
      "  0   6   6   6   6 \n",
      "  0   6  10  16  16 \n",
      "  0   6  10  16  18 \n",
      "18\n"
     ]
    }
   ],
   "source": [
    "W = 4\n",
    "weights = [1, 2, 3]\n",
    "values = [6, 10, 12]\n",
    "n = len(values)\n",
    "print(knapsack(W, weights, values, n))"
   ]
  },
  {
   "cell_type": "code",
   "execution_count": 9,
   "metadata": {},
   "outputs": [
    {
     "name": "stdout",
     "output_type": "stream",
     "text": [
      "  0   0   0   0   0   0   0   0   0   0   0 \n",
      "  0   0   0   0   6   6   6   6   6   6   6 \n",
      "  0   0   4   4   6   6  10  10  10  10  10 \n",
      "  0   0   4   5   6   9  10  11  11  15  15 \n",
      "  0   3   4   7   8   9  12  13  14  15  18 \n",
      "  0   3   4   7   8   9  12  13  14  16  18 \n",
      "  0   3   4   7   8  10  12  14  15  16  19 \n",
      "19\n"
     ]
    }
   ],
   "source": [
    "W = 10\n",
    "weights = [4,2,3,1,6,4]\n",
    "values = [6,4,5,3,9,7]\n",
    "n = len(values)\n",
    "print(knapsack(W, weights, values, n))"
   ]
  },
  {
   "cell_type": "code",
   "execution_count": 10,
   "metadata": {},
   "outputs": [
    {
     "name": "stdout",
     "output_type": "stream",
     "text": [
      "  0   0   0   0   0   0   0   0   0   0   0   0   0   0   0   0   0   0   0   0   0   0   0   0   0   0   0   0   0   0   0   0   0   0   0   0   0   0   0   0   0 \n",
      "  0   0   0   0   0   0   0   0   0   0  60  60  60  60  60  60  60  60  60  60  60  60  60  60  60  60  60  60  60  60  60  60  60  60  60  60  60  60  60  60  60 \n",
      "  0   0   0   0   0   0   0   0   0   0  60  60  60  60  60  60  60  60  60  60 100 100 100 100 100 100 100 100 100 100 160 160 160 160 160 160 160 160 160 160 160 \n",
      "  0   0   0   0   0   0   0   0   0   0  60  60  60  60  60  60  60  60  60  60 100 100 100 100 100 100 100 100 100 100 160 160 160 160 160 160 160 160 160 160 180 \n",
      "180\n"
     ]
    }
   ],
   "source": [
    "W = 40\n",
    "weights = [10, 20, 30]\n",
    "values = [60, 100, 120]\n",
    "n = len(values)\n",
    "print(knapsack(W, weights, values, n))"
   ]
  },
  {
   "cell_type": "code",
   "execution_count": null,
   "metadata": {},
   "outputs": [],
   "source": []
  }
 ],
 "metadata": {
  "kernelspec": {
   "display_name": "Python 3 (ipykernel)",
   "language": "python",
   "name": "python3"
  },
  "language_info": {
   "codemirror_mode": {
    "name": "ipython",
    "version": 3
   },
   "file_extension": ".py",
   "mimetype": "text/x-python",
   "name": "python",
   "nbconvert_exporter": "python",
   "pygments_lexer": "ipython3",
   "version": "3.8.8"
  }
 },
 "nbformat": 4,
 "nbformat_minor": 4
}
