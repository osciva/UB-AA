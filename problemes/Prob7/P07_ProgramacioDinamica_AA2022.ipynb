{
 "cells": [
  {
   "cell_type": "markdown",
   "metadata": {},
   "source": [
    "\n",
    "<div style=\"padding:30px; color: white; background-color: #0071CD\">\n",
    "<center>\n",
    "<img src=\"img/logoub.jpeg\"></img>\n",
    "<center>\n",
    "<h1>Algorísmica Avançada 2022</h1>\n",
    "<h2>Problemes 7 - Programació Dinàmica</h2>\n",
    "</center>\n",
    "</div>"
   ]
  },
  {
   "cell_type": "code",
   "execution_count": 2,
   "metadata": {},
   "outputs": [
    {
     "data": {
      "text/html": [
       "<style>.container { width:100% !important; }</style>"
      ],
      "text/plain": [
       "<IPython.core.display.HTML object>"
      ]
     },
     "metadata": {},
     "output_type": "display_data"
    }
   ],
   "source": [
    "from IPython.display import display, HTML\n",
    "display(HTML(\"<style>.container { width:100% !important; }</style>\"))"
   ]
  },
  {
   "cell_type": "markdown",
   "metadata": {},
   "source": [
    "# Programació dinàmica vs Recursió"
   ]
  },
  {
   "cell_type": "markdown",
   "metadata": {},
   "source": [
    "Quan tenim un algorisme recursiu que crida múltiples vegades el mateix subproblema, cal veure si hi ha la possibilitat de convertir-ho en un algorisme de programació dinàmica. El cas de <b>Fibonacci</b> és un clar exemple ja que per a calcular el fibonacci d'un número en concret cal haver calculat el fibonnaci dels seus dos números anteriors.\n",
    "\n",
    "Al fer-ho recursivament estarem generant el següent arbre de crides:\n",
    "\n",
    "<img src=\"img/fibonacci.png\">\n",
    "\n",
    "Com podeu observar, moltes de les crides que fem ens les podem estalviar doncs amb calcular un sol cop el fibonacci de cada nombre en tenim suficient. La programació dinàmica ens ajuda en aquest cas."
   ]
  },
  {
   "cell_type": "markdown",
   "metadata": {
    "tags": []
   },
   "source": [
    "<div class=\"alert alert-success\">\n",
    "    <h1>Problema 1.1: Fibonacci recursiu</h1>\n",
    "    <p>\n",
    "        Implementeu la funció <b>fib_rec</b>. Donat un nombre enter positiu o zero, $n$, ha de retornar el nombre de fibonacci, $F(n)$ que li correspon. <br>\n",
    "        Per exemple: <br>\n",
    "        $$F(0)=0, \\quad F(1)=1, \\quad F(2)=1, \\quad F(3)=2, \\quad F(4)=3, \\quad F(5)=5$$\n",
    "    <p>\n",
    "    <p><b>Quina és la complexitat de l'algorisme? (Observeu l'arbre de la imatge anterior)</b></p>\n",
    "    \n",
    "</div>"
   ]
  },
  {
   "cell_type": "code",
   "execution_count": 3,
   "metadata": {},
   "outputs": [],
   "source": [
    "def fib_rec(n):\n",
    "    \"\"\"\n",
    "    Calcula el nombre amb índex 'n' de la seqüència de Fibonacci.\n",
    "    \n",
    "    Params\n",
    "    ======\n",
    "    :n: El nombre de fibonacci que volem calcular.\n",
    "    \n",
    "    Returns\n",
    "    =======\n",
    "    :F(n): El nombre de la seqüència corresponent.\n",
    "    \"\"\"\n",
    "    \n",
    "    if (n==0) or (n==1):\n",
    "        return n\n",
    "    return fib_rec(n-1)+fib_rec(n-2)"
   ]
  },
  {
   "cell_type": "code",
   "execution_count": 4,
   "metadata": {},
   "outputs": [
    {
     "name": "stdout",
     "output_type": "stream",
     "text": [
      "[0, 1, 1, 2, 3, 5, 8, 13, 21, 34, 55, 89, 144, 233, 377, 610, 987, 1597, 2584, 4181]\n"
     ]
    }
   ],
   "source": [
    "print([fib_rec(n) for n in range(20)])"
   ]
  },
  {
   "cell_type": "markdown",
   "metadata": {},
   "source": [
    "<div class=\"alert alert-success\">\n",
    "    <h1>Problema 1.2: Fibonacci amb programació dinàmica (Top-Down)</h1>\n",
    "    <p>\n",
    "        Implementeu la funció <b>fib_top_down</b>. Seguiu una estratègia de programació dinàmica utilitzant el mateix esquema que fibonacci recursiu però on aneu emmagatzemant els càlculs realitzats prèviament.\n",
    "    <p>    \n",
    "</div>"
   ]
  },
  {
   "cell_type": "code",
   "execution_count": 13,
   "metadata": {},
   "outputs": [],
   "source": [
    "def fib_top_down(n, dp=None):\n",
    "    \"\"\"\n",
    "    Calcula el nombre amb índex 'n' de la seqüència de Fibonacci.\n",
    "    \n",
    "    Params\n",
    "    ======\n",
    "    :n: El nombre de fibonacci que volem calcular.\n",
    "    \n",
    "    Returns\n",
    "    =======\n",
    "    :F(n): El nombre de la seqüència corresponent.\n",
    "    \"\"\"\n",
    " # Inicialització d'un array per a emmagatzemar els valors ja calculats\n",
    "    if dp is None:\n",
    "        dp = [0]*(n+1)\n",
    "        \n",
    "    # Casos base\n",
    "    if (n==0) or (n==1):\n",
    "        return n\n",
    "    \n",
    "    # Cas en que ja hem calculat el valor prèviament\n",
    "    if dp[n] != 0:\n",
    "        return dp[n]\n",
    "    \n",
    "\n",
    "    # Cas on no hem calculat encara el valor previ\n",
    "    dp[n] = fib_top_down(n-1, dp) + fib_top_down(n-2, dp)\n",
    "    \n",
    "    return dp[n]"
   ]
  },
  {
   "cell_type": "code",
   "execution_count": 14,
   "metadata": {},
   "outputs": [
    {
     "name": "stdout",
     "output_type": "stream",
     "text": [
      "[0, 1, 1, 2, 3, 5, 8, 13, 21, 34, 55, 89, 144, 233, 377, 610, 987, 1597, 2584, 4181]\n"
     ]
    }
   ],
   "source": [
    "print([fib_top_down(n) for n in range(20)])"
   ]
  },
  {
   "cell_type": "markdown",
   "metadata": {},
   "source": [
    "<div class=\"alert alert-success\">\n",
    "    <h1>Problema 1.2: Fibonacci amb programació dinàmica (Bottom-Up)</h1>\n",
    "    <p>\n",
    "        Implementeu la funció <b>fib_bottom_up</b>. Seguiu una estratègia de programació dinàmica on aneu emmagatzemant càlculs realitzats prèviament.<br><br> \n",
    "        <b>Quina és la complexitat de l'algorisme?</b>\n",
    "    <p>\n",
    "        \n",
    "        \n",
    "    \n",
    "</div>"
   ]
  },
  {
   "cell_type": "code",
   "execution_count": 15,
   "metadata": {},
   "outputs": [],
   "source": [
    "def fib_bottom_up(n):\n",
    "    \"\"\"\n",
    "    Calcula el nombre amb índex 'n' de la seqüència de Fibonacci.\n",
    "    \n",
    "    Params\n",
    "    ======\n",
    "    :n: El nombre de fibonacci que volem calcular.\n",
    "    \n",
    "    Returns\n",
    "    =======\n",
    "    :F(n): El nombre de la seqüència corresponent.\n",
    "    \"\"\"\n",
    "    \n",
    "    # Emmagatzem en una llista els càlculs previs\n",
    "    # Guardem els dos primers valors 1 i 1\n",
    "    # I inicialitzem la resta de valors a zero\n",
    "    dp = [0, 1] + [0]*(n-1)\n",
    "    \n",
    "    # Anem calculant i afegint el nombre de fibonacci següent a partir dels dos anteriors\n",
    "    for i in range(2,n+1):\n",
    "        dp[i] = dp[i-1]+dp[i-2]\n",
    "    \n",
    "    # Retornem el valor demanat\n",
    "    return dp[n]\n",
    "    \n",
    "    # EL TEU CODI AQUÍ"
   ]
  },
  {
   "cell_type": "code",
   "execution_count": 16,
   "metadata": {},
   "outputs": [
    {
     "name": "stdout",
     "output_type": "stream",
     "text": [
      "[0, 1, 1, 2, 3, 5, 8, 13, 21, 34, 55, 89, 144, 233, 377, 610, 987, 1597, 2584, 4181]\n"
     ]
    }
   ],
   "source": [
    "print([fib_bottom_up(n) for n in range(20)])"
   ]
  },
  {
   "cell_type": "markdown",
   "metadata": {},
   "source": [
    " <div class=\"alert alert-success\">\n",
    "     <h1>Problema 2: Rod Cutting</h1>  \n",
    "     <p>Volem tallar una barra de N segments de longitud en trossos per maximitzar-ne el seu valor de venta. Cada segment tallat té un preu associat en funció de la seva longitud.<br>\n",
    "     <center><img src='https://iq.opengenus.org/content/images/2020/01/07-rodcutting-example-2.jpg' width='50%'></center>\n",
    "     Per exemple, donada una barra de 5 peces de longitud i la taula de preus següent: <br><br>\n",
    "     Long: 1 2 3 4 5<br>\n",
    "     Preu: 1 5 5 6 7<br><br>\n",
    "     Podem decidir\n",
    "     <ul>\n",
    "         <li>no tallar la barra, long=5 i per tant preu=7.\n",
    "         <li>Tallar-la en dos trossos de 1 i 4 i per tant preu=1+6=7\n",
    "         <li>Tallar-la en cinc trossos de 1 i per tant preu=5\n",
    "         <li>...\n",
    "    </ul>             \n",
    "    </p>\n",
    " </div>"
   ]
  },
  {
   "cell_type": "code",
   "execution_count": 25,
   "metadata": {},
   "outputs": [],
   "source": [
    "def rod_cutting_rec(N, prices):\n",
    "    \"\"\"\n",
    "    Algorisme recursiu.\n",
    "    \n",
    "    Params\n",
    "    ======\n",
    "    :N: Un enter amb el nombre de segments de la barra\n",
    "    :prices: Una llista amb els preus de cada longitud de segment.\n",
    "    \n",
    "    Returns\n",
    "    =======\n",
    "    :best: El millor preu de venta de les peces\n",
    "    \"\"\"\n",
    "    \n",
    "    best = 0\n",
    "    \n",
    "     # Casos base\n",
    "    if N==0:\n",
    "        return 0\n",
    "    if N==1:\n",
    "        return prices[N-1]\n",
    "    \n",
    "    # Crida recursiva trobant el màxim dels talls\n",
    "    best = max([prices[N-i-1]+rod_cutting_rec(i, prices) for i in range(0, N)])\n",
    "    \n",
    "    return best"
   ]
  },
  {
   "cell_type": "code",
   "execution_count": 26,
   "metadata": {},
   "outputs": [
    {
     "data": {
      "text/plain": [
       "11"
      ]
     },
     "execution_count": 26,
     "metadata": {},
     "output_type": "execute_result"
    }
   ],
   "source": [
    "rod_cutting_rec(5, [1,5,5,6,7]) # Retorna 11"
   ]
  },
  {
   "cell_type": "code",
   "execution_count": 31,
   "metadata": {},
   "outputs": [],
   "source": [
    "def rod_cutting_dp_bottom_up(N, prices):\n",
    "    \"\"\"\n",
    "    Algorisme programació dinàmica bottom up.\n",
    "    \n",
    "    Params\n",
    "    ======\n",
    "    :N: Un enter amb el nombre de segments de la barra\n",
    "    :prices: Una llista amb els preus de cada longitud de segment.\n",
    "    \n",
    "    Returns\n",
    "    =======\n",
    "    :best: El millor preu de venta de les peces\n",
    "    \"\"\"\n",
    "    \n",
    "    best = 0\n",
    "    \n",
    "    # Inicialitzem la memòria\n",
    "    dp = [0]*(N+1)\n",
    "    \n",
    "    # Recorrem total la llista resoldrem tots els subproblemes incrementalment\n",
    "    # començant pel cas on només tenim una peça i anant augmentant\n",
    "    for i in range(1,N+1):\n",
    "        max_val = -float('inf')\n",
    "        \n",
    "        # El màxim d'un subcas serà el màxim entre tots els subcasos anteriors.\n",
    "        # Amb l'ajuda d'aquest 'for' seleccionem el millor valor considerant:\n",
    "        # - Venem la peça prices[j]\n",
    "        # - Prenem el millor valor guardat a la taula per a la peça restant, dp[i-j-1]\n",
    "        for j in range(i):\n",
    "            max_val = max(max_val, prices[j] + dp[i-j-1])\n",
    "        \n",
    "        # Assignem el millor valor.\n",
    "        dp[i] = max_val\n",
    "    \n",
    "    \n",
    "    best = dp[N]\n",
    "    \n",
    "    return best"
   ]
  },
  {
   "cell_type": "code",
   "execution_count": 32,
   "metadata": {},
   "outputs": [
    {
     "data": {
      "text/plain": [
       "11"
      ]
     },
     "execution_count": 32,
     "metadata": {},
     "output_type": "execute_result"
    }
   ],
   "source": [
    "rod_cutting_dp_bottom_up(5,[1,5,5,6,7]) # Retorna 11"
   ]
  },
  {
   "cell_type": "code",
   "execution_count": 27,
   "metadata": {},
   "outputs": [],
   "source": [
    "def rod_cutting_dp_top_down(N, prices, dp=None):\n",
    "    \"\"\"\n",
    "    Algorisme programació dinàmica top down.\n",
    "    \n",
    "    Params\n",
    "    ======\n",
    "    :N: Un enter amb el nombre de segments de la barra\n",
    "    :prices: Una llista amb els preus de cada longitud de segment.\n",
    "    \n",
    "    Returns\n",
    "    =======\n",
    "    :best: El millor preu de venta de les peces\n",
    "    \"\"\"\n",
    "    \n",
    "    best = 0\n",
    "    \n",
    "   # Inicialitzem la memòria\n",
    "    if dp is None:\n",
    "        dp = [0]*(N+1)\n",
    "        \n",
    "    # Casos base\n",
    "    if N==0:\n",
    "        return 0\n",
    "    if N==1:\n",
    "        return prices[0]\n",
    "    \n",
    "    # Aprofitem els càlculs previs\n",
    "    if dp[N]!=0:\n",
    "        return dp[N]\n",
    "    \n",
    "    # Omplim la memòria amb el càlcul recursiu\n",
    "    dp[N] = max([prices[N-i-1]+rod_cutting_dp_top_down(i, prices, dp) for i in range(0, N)])\n",
    "    \n",
    "    best = dp[N]\n",
    "    \n",
    "    return best"
   ]
  },
  {
   "cell_type": "code",
   "execution_count": 28,
   "metadata": {},
   "outputs": [
    {
     "data": {
      "text/plain": [
       "11"
      ]
     },
     "execution_count": 28,
     "metadata": {},
     "output_type": "execute_result"
    }
   ],
   "source": [
    "rod_cutting_dp_top_down(5, [1,5,5,6,7]) # Retorna 11"
   ]
  },
  {
   "cell_type": "markdown",
   "metadata": {},
   "source": [
    "<div class=\"alert alert-success\">\n",
    "    <h1>Problema 3: Subseqüència Incremental més Llarga (Longest Increasing Subsequence, LIS)</h1>\n",
    "    <p>\n",
    "        Donada una seqüència de números, per exemple: $10, 22, 9, 33, 21, 50, 41, 60, 80$, volem trobar la subsequència d'elements més llarga possible que satisfaci que els seus elements estiguin ordenats de petit a gran.<br>\n",
    "        En el cas de l'exemple donat, la subseqüència més llarga té 6 elements: $10, 22, 33, 50, 60, 80$. Observeu però, que no és única.\n",
    "    <p>\n",
    "    \n",
    "</div>"
   ]
  },
  {
   "cell_type": "markdown",
   "metadata": {},
   "source": [
    " <div class=\"alert alert-success\">\n",
    "     <h1>Problema 3.1: LIS Recursiva</h1>    \n",
    "    <p><b>Quina complexitat té aquest algorisme?</b></p>\n",
    " </div>"
   ]
  },
  {
   "cell_type": "code",
   "execution_count": 14,
   "metadata": {},
   "outputs": [],
   "source": [
    "def lis_ends_here(seq, n):\n",
    "    \"\"\"\n",
    "    Aquesta funció ens retornen la longitud de la seqüència més llarga que acaba a la posició 'n'.\n",
    "    \n",
    "    Params\n",
    "    ======\n",
    "    :seq: Llista d'elements\n",
    "    :n: Índex de la llista\n",
    "    \n",
    "    Returns\n",
    "    =======\n",
    "    :val: Longitud de la LIS suposant que finalitza a 'n'.\n",
    "    \"\"\"\n",
    "    pass\n",
    "\n",
    "\n",
    "def lis_rec(seq):\n",
    "    \"\"\"\n",
    "    Solució recursiva al problema LIS.\n",
    "    \n",
    "    Params\n",
    "    ======\n",
    "    :seq: Seqüència inicial.\n",
    "    \n",
    "    Returns\n",
    "    =======\n",
    "    :val: Longitud de LIS.\n",
    "    \"\"\"\n",
    "    pass"
   ]
  },
  {
   "cell_type": "code",
   "execution_count": 15,
   "metadata": {},
   "outputs": [
    {
     "name": "stdout",
     "output_type": "stream",
     "text": [
      "None\n",
      "None\n"
     ]
    }
   ],
   "source": [
    "print(lis_rec([1,2,0,9,3,5,4,6,8]))  # Retorna 6\n",
    "print(lis_rec([4,1,2,1]))            # Retorna 2"
   ]
  },
  {
   "cell_type": "markdown",
   "metadata": {},
   "source": [
    " <div class=\"alert alert-success\">\n",
    "     <h1>Problema 3.2: LIS amb Programació dinàmica</h1>    \n",
    "    <p><b>Quina complexitat té aquest algorisme?</b></p>\n",
    " </div>"
   ]
  },
  {
   "cell_type": "code",
   "execution_count": 16,
   "metadata": {},
   "outputs": [],
   "source": [
    "def lis_dp_bottom_up(seq):\n",
    "    \"\"\"\n",
    "    Solució al problema LIS usant programació dinàmica.\n",
    "    \n",
    "    Params\n",
    "    ======\n",
    "    :seq: Llista d'enters\n",
    "    \n",
    "    Returns\n",
    "    =======\n",
    "    :val: La longitud de la subseqüència incremental més llarga.\n",
    "    \n",
    "    \"\"\"\n",
    "    pass"
   ]
  },
  {
   "cell_type": "code",
   "execution_count": 17,
   "metadata": {},
   "outputs": [
    {
     "name": "stdout",
     "output_type": "stream",
     "text": [
      "None\n",
      "None\n"
     ]
    }
   ],
   "source": [
    "print(lis_dp_bottom_up([1,2,0,9,3,5,4,6,8])) # Retorna 6\n",
    "print(lis_dp_bottom_up([4,1,2,1]))           # Retorna 2"
   ]
  },
  {
   "cell_type": "markdown",
   "metadata": {},
   "source": [
    " <div class=\"alert alert-success\">\n",
    "    <h1>Problema 3: Levensthein</h1>    \n",
    "    <p>Donades dues paraules $A$ i $B$ volem trobar el cost d'edició entre elles. Les operacions que es permeten són:</p>\n",
    "    <ol>\n",
    "        <li> <b>Inserir</b> una lletra en qualsevol posició de la paraula. Per exemple, podem transformar la paraula TACA en la paraula TRACA amb només una operació d'inserció.\n",
    "        <li> <b>Eliminar</b> una lletra en qualsevol posició de la paraula. Per exemple, podem transformar la paraula TRACA en la paraula TACA amb només una operació d'eliminació.\n",
    "        <li> <b>Substituir</b> una lletra per una altra. Per exemple, podem transformar la paraula TACA en la paraula TOCA amb només una operació de substitució.\n",
    "  </ol>\n",
    "    <p>Implementeu un algorisme de programació dinàmica que ens permeti trobar el cost mínim d'edició entre les dues paraules i que també retorni les operacions que s'han de fer per transformar una paraula en l'altre. <br>\n",
    "        Per exemple, l'execució de<br> <b>levensthein('WINE', 'WAITER')</b> ha d'imprimir:\n",
    "\n",
    "<code>\n",
    "COST: 3\n",
    "[0, 1, 2, 3, 4]\n",
    "[1, 0, 1, 2, 3]\n",
    "[2, 1, 1, 2, 3]\n",
    "[3, 2, 1, 2, 3]\n",
    "[4, 3, 2, 2, 3]\n",
    "[5, 4, 3, 3, 2]\n",
    "[6, 5, 4, 4, 3]\n",
    "MAN: W W  # Ja que estem 'mantenint la lletra W entre les paraules'\n",
    "SUB: A I  # Ja que estem 'substituint' la lletra A per la I\n",
    "INS: I    # Ja que estem 'inserint' la lletra I\n",
    "SUB: T N \n",
    "SUB: E E \n",
    "INS: R   \n",
    "          # En el cas d'eliminar, podeu imprimir DEL\n",
    "</code>\n",
    "    </p>\n",
    "    \n",
    " </div>"
   ]
  },
  {
   "cell_type": "code",
   "execution_count": 18,
   "metadata": {},
   "outputs": [],
   "source": [
    "def levensthein(word_B, word_A, del_cost = 1, ins_cost = 1, sub_cost = 1):    \n",
    "    \"\"\"\n",
    "    Algorisme de levensthein.\n",
    "    \n",
    "    Params\n",
    "    ======\n",
    "    :word_A, word_B: Les dues paraules a comparar\n",
    "    :del_cost, ins_cost, sub_cost: Els costos d'eliminar, inserir i substituir, respectivament.\n",
    "    \n",
    "    Returns\n",
    "    =======\n",
    "    :cost: El cost d'edició entre les paraules\n",
    "    \"\"\"\n",
    "    \n",
    "    pass"
   ]
  },
  {
   "cell_type": "code",
   "execution_count": 19,
   "metadata": {},
   "outputs": [],
   "source": [
    "levensthein('WINE', 'WAITER') \n",
    "# COST 3\n",
    "# [0, 1, 2, 3, 4, 5, 6]\n",
    "# [1, 0, 1, 2, 3, 4, 5]\n",
    "# [2, 1, 1, 1, 2, 3, 4]\n",
    "# [3, 2, 2, 2, 2, 3, 4]\n",
    "# [4, 3, 3, 3, 3, 2, 3]\n",
    "# MAN: W W\n",
    "# SUB: A I\n",
    "# INS: I  \n",
    "# SUB: T N\n",
    "# SUB: E E\n",
    "# INS: R  "
   ]
  },
  {
   "cell_type": "markdown",
   "metadata": {},
   "source": [
    " <div class=\"alert alert-success\">\n",
    "     <h1>Problema 5: Cent Savings</h1>    \n",
    "    <p>Volem agrupar un conjunt de preus ordenats en, com a màxim, $d+1$ grups. Cada grup de preus es suma i s'arrodoneix a la desena més propera (0, 10, 20,...). L'objectiu és trobar el mínim preu possible donada una llista i un enter $d$. Per formar els grups es talla la llista per la posició que es vulgui sense canviar-ne l'ordre.\n",
    "    <ul>\n",
    "    <li>Exemple1: Donada la llista $[13, 14]$ i $d=1$, el valor òptim és $20$ que consisteix en fer $2$ grups: $10+10$.\n",
    "    <li>Exemple2: Donada la llista $[12,15,19]$ i $d=2$, el valor òptim és 40 fent 2 grups (i no 3 que seria el màxim possible). $Grup(12)=10 + Grup(15,19)=30$\n",
    "    </ul>\n",
    "    </p>\n",
    " </div>"
   ]
  },
  {
   "cell_type": "markdown",
   "metadata": {},
   "source": [
    "<div class=\"alert alert-info\">\n",
    "Si us animeu, podeu penjar la solució a la plataforma <a href=\"https://open.kattis.com/problems/centsavings\">KATTIS</a>. <br>Heu de seleccionar Python3 com a llenguatge i fer servir el format:\n",
    "</div>"
   ]
  },
  {
   "cell_type": "markdown",
   "metadata": {},
   "source": [
    "```python\n",
    "n, d = input().split()\n",
    "n, d = int(n), int(d)\n",
    "lst = [int(a) for a in input().split()]\n",
    "\n",
    "def cent_savings(lst, d):\n",
    "    # El teu codi aquí\n",
    "\n",
    "print(f'{cent_savings(lst, d)}')\n",
    "```"
   ]
  },
  {
   "cell_type": "code",
   "execution_count": 20,
   "metadata": {},
   "outputs": [],
   "source": [
    "def myround(val):\n",
    "    \"\"\"\n",
    "    Funció auxiliar per arrodonir correctament segons l'enunciat.\n",
    "    \"\"\"\n",
    "    if val%5==0:\n",
    "        val = val+1\n",
    "    return round(val, -1)\n",
    "\n",
    "def cent_savings_rec(lst, d):\n",
    "    \"\"\"\n",
    "    Algorisme recursiu.\n",
    "    \n",
    "    Params\n",
    "    ======\n",
    "    :lst: Una llista de preus \n",
    "    :d: El nombre de talls que podem fer (grups-1)\n",
    "    \n",
    "    Returns\n",
    "    =======\n",
    "    :minimal: El preu més baix assolible\n",
    "    \"\"\"\n",
    "    pass"
   ]
  },
  {
   "cell_type": "code",
   "execution_count": 21,
   "metadata": {},
   "outputs": [],
   "source": [
    "cent_savings_rec([12,15,19], 2) # Retorna 40"
   ]
  },
  {
   "cell_type": "code",
   "execution_count": 22,
   "metadata": {},
   "outputs": [],
   "source": [
    "def cent_savings_dp_top_down(lst, d, memo={}):  \n",
    "    \"\"\"\n",
    "    Algorisme programació dinàmica top down.\n",
    "    \n",
    "    Params\n",
    "    ======\n",
    "    :lst: Una llista de preus \n",
    "    :d: El nombre de talls que podem fer (grups-1)\n",
    "    :memo: Un diccionari de memòria.\n",
    "    \n",
    "    Returns\n",
    "    =======\n",
    "    :minimal: El preu més baix assolible\n",
    "    \"\"\"\n",
    "    \n",
    "    pass"
   ]
  },
  {
   "cell_type": "code",
   "execution_count": 23,
   "metadata": {},
   "outputs": [],
   "source": [
    "cent_savings_dp_top_down([12,15,19], 2) # Retorna 40"
   ]
  },
  {
   "cell_type": "code",
   "execution_count": 24,
   "metadata": {},
   "outputs": [],
   "source": [
    "def cent_savings_dp_bottom_up(lst, d):\n",
    "    \"\"\"\n",
    "    Algorisme programació dinàmica bottom up.\n",
    "    \n",
    "    Params\n",
    "    ======\n",
    "    :lst: Una llista de preus \n",
    "    :d: El nombre de talls que podem fer (grups-1)\n",
    "    \n",
    "    Returns\n",
    "    =======\n",
    "    :minimal: El preu més baix assolible\n",
    "    \"\"\"\n",
    "    \n",
    "    pass"
   ]
  },
  {
   "cell_type": "code",
   "execution_count": 25,
   "metadata": {},
   "outputs": [],
   "source": [
    "cent_savings_dp_bottom_up([12,15,19], 2) # Retorna 40"
   ]
  },
  {
   "cell_type": "code",
   "execution_count": null,
   "metadata": {},
   "outputs": [],
   "source": []
  }
 ],
 "metadata": {
  "kernelspec": {
   "display_name": "Python 3 (ipykernel)",
   "language": "python",
   "name": "python3"
  },
  "language_info": {
   "codemirror_mode": {
    "name": "ipython",
    "version": 3
   },
   "file_extension": ".py",
   "mimetype": "text/x-python",
   "name": "python",
   "nbconvert_exporter": "python",
   "pygments_lexer": "ipython3",
   "version": "3.8.8"
  }
 },
 "nbformat": 4,
 "nbformat_minor": 4
}
